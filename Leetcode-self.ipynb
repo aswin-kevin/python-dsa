{
 "cells": [
  {
   "cell_type": "markdown",
   "metadata": {},
   "source": [
    "### Leetcode self solved problems\n",
    "\n",
    "**All leetcode solutions -**\n",
    "[Answers](https://walkccc.me/LeetCode/problems/)"
   ]
  },
  {
   "cell_type": "markdown",
   "metadata": {},
   "source": [
    "### Reverse Integer\n",
    "- Reverse the given integer with some boundaries\n",
    "\n",
    "**Question Link -**\n",
    "[Leetcode 7 - Reverse Integer](https://leetcode.com/problems/reverse-integer/)\n",
    "\n",
    "\n",
    "**Steps**\n",
    "- Reversing a integer\n",
    "    - Mod the number by 10 to get last value\n",
    "    - Get last element\n",
    "    - Divide the number by 10 to assign new number\n",
    "- Append index values to array to form reversed int\n",
    "- Multiply and make new int\n",
    "- Check boundaries\n",
    "- return results"
   ]
  },
  {
   "cell_type": "code",
   "execution_count": null,
   "metadata": {},
   "outputs": [],
   "source": [
    "class Solution:\n",
    "    def reverse(self, num: int) -> int:\n",
    "        valRange = [-2**31,(2**31)-1]\n",
    "        isNegative = num < 0\n",
    "        num = abs(num)\n",
    "        value = 0\n",
    "        allValues = []\n",
    "        length = 0\n",
    "        while num > 0:\n",
    "            number = num%10\n",
    "            allValues.append(number)\n",
    "            num = num//10\n",
    "            length += 1\n",
    "\n",
    "        for idx,mul in enumerate(range(length-1,-1,-1)):\n",
    "            value += allValues[idx]*(10**mul)\n",
    "        finalValue = value if not isNegative else value*-1\n",
    "        return finalValue if finalValue >= valRange[0] and finalValue <= valRange[1] else 0"
   ]
  },
  {
   "cell_type": "markdown",
   "metadata": {},
   "source": [
    "### Implement Trie\n",
    "> Implement trie data structure\n",
    "\n",
    "\n",
    "**Question Link -**\n",
    "[Leetcode 207 - Implement Trie (Prefix Tree)](https://leetcode.com/problems/implement-trie-prefix-tree/)"
   ]
  },
  {
   "cell_type": "code",
   "execution_count": null,
   "metadata": {},
   "outputs": [],
   "source": [
    "class TrieNode:\n",
    "    def __init__(self):\n",
    "        self.children = {}\n",
    "        self.isWord = False\n",
    "\n",
    "\n",
    "class Trie:\n",
    "    def __init__(self):\n",
    "        self.root = TrieNode()\n",
    "\n",
    "    def insert(self, word: str) -> None:\n",
    "        cur = self.root\n",
    "        for c in word:\n",
    "            if c not in cur.children:\n",
    "                cur.children[c] = TrieNode()\n",
    "            cur = cur.children[c]\n",
    "        cur.isWord = True\n",
    "\n",
    "    def search(self, word: str) -> bool:\n",
    "        cur = self.root\n",
    "        for c in word:\n",
    "            if c not in cur.children:\n",
    "                return False\n",
    "            cur = cur.children[c]\n",
    "        return cur.isWord\n",
    "        \n",
    "\n",
    "    def startsWith(self, prefix: str) -> bool:\n",
    "        cur = self.root\n",
    "        for c in prefix:\n",
    "            if c not in cur.children:\n",
    "                return False\n",
    "            cur = cur.children[c]\n",
    "        return True"
   ]
  },
  {
   "cell_type": "markdown",
   "metadata": {},
   "source": [
    "### Design Add and Search Words Data Structure\n",
    "> Implement add and search feature in trie data structure\n",
    "\n",
    "\n",
    "**Question Link -**\n",
    "[Leetcode 211 - Design Add and Search Words Data Structure](https://leetcode.com/problems/design-add-and-search-words-data-structure/)"
   ]
  },
  {
   "cell_type": "code",
   "execution_count": null,
   "metadata": {},
   "outputs": [],
   "source": [
    "class TrieNode:\n",
    "    def __init__(self):\n",
    "        self.children = {}\n",
    "        self.isWord = False\n",
    "\n",
    "\n",
    "class WordDictionary:\n",
    "\n",
    "    def __init__(self):\n",
    "        self.root = TrieNode()\n",
    "\n",
    "    def addWord(self, word: str) -> None:\n",
    "        cur = self.root\n",
    "        for c in word:\n",
    "            if c not in cur.children:\n",
    "                cur.children[c] = TrieNode()\n",
    "            cur = cur.children[c]\n",
    "        cur.isWord = True\n",
    "\n",
    "    def search(self, word: str) -> bool:\n",
    "        def dfs(j,root):\n",
    "            cur = root\n",
    "            for i in range(j,len(word)):\n",
    "                c = word[i]\n",
    "                if c == \".\":\n",
    "                    for node in cur.children.values():\n",
    "                        if dfs(i+1,node):\n",
    "                            return True\n",
    "                    return False\n",
    "                else:\n",
    "                    if c not in cur.children:\n",
    "                        return False\n",
    "                    cur = cur.children[c]\n",
    "            return cur.isWord\n",
    "            \n",
    "            \n",
    "        return dfs(0,self.root)"
   ]
  },
  {
   "cell_type": "markdown",
   "metadata": {},
   "source": [
    "### Word Search II\n",
    "> Boogle Board problem\n",
    "\n",
    "\n",
    "**Question Link -**\n",
    "[Leetcode 212 - Word Search II](https://leetcode.com/problems/word-search-ii/)"
   ]
  },
  {
   "cell_type": "code",
   "execution_count": null,
   "metadata": {},
   "outputs": [],
   "source": [
    "class TrieNode:\n",
    "    def __init__(self):\n",
    "        self.children = {}\n",
    "        self.isWord = False\n",
    "        \n",
    "    def add_word(self,word):\n",
    "        cur = self\n",
    "        for c in word:\n",
    "            if c not in cur.children:\n",
    "                cur.children[c] = TrieNode()\n",
    "            cur = cur.children[c]\n",
    "        cur.isWord = True\n",
    "\n",
    "\n",
    "class Solution:\n",
    "    def findWords(self, board: List[List[str]], words: List[str]) -> List[str]:\n",
    "        root  = TrieNode()\n",
    "        for word in words:\n",
    "            root.add_word(word)\n",
    "        \n",
    "        row,col = len(board),len(board[0])\n",
    "        res,visited = [],set()\n",
    "        \n",
    "        def dfs(r,c,node,word):\n",
    "            if r < 0 or c < 0 or r == row or c == col or (r,c) in visited or board[r][c] not in node.children:\n",
    "                return\n",
    "            visited.add((r,c))\n",
    "            node = node.children[board[r][c]]\n",
    "            word += board[r][c]\n",
    "            if node.isWord:\n",
    "                res.append(word)\n",
    "                node.isWord=False\n",
    "                if not node.children:                    \n",
    "                    node.children.pop(board[r][c],None)\n",
    "                \n",
    "            dfs(r+1,c,node,word)\n",
    "            dfs(r-1,c,node,word)\n",
    "            dfs(r,c+1,node,word)\n",
    "            dfs(r,c-1,node,word)\n",
    "            visited.remove((r,c))\n",
    "        \n",
    "        for r in range(row):\n",
    "            for c in range(col):\n",
    "                dfs(r,c,root,\"\")\n",
    "            \n",
    "        return res"
   ]
  },
  {
   "cell_type": "markdown",
   "metadata": {},
   "source": [
    "### Insert Interval\n",
    "> Insert the new intervals and merge intervals\n",
    "\n",
    "\n",
    "**Question Link -**\n",
    "[Leetcode 57 - Insert Interval](https://leetcode.com/problems/insert-interval/)\n",
    "\n",
    "\n",
    "**Steps**\n",
    "- 3 cases to be considered\n",
    "    - if new interval is lower than anything then append new and append rest\n",
    "    - if new interval is greater than so far then append current interval\n",
    "    - if new interval fits between current interval then take the mins and create new interval\n",
    "- append the last interval"
   ]
  },
  {
   "cell_type": "code",
   "execution_count": null,
   "metadata": {},
   "outputs": [],
   "source": [
    "class Solution:\n",
    "    def insert(self, intervals: List[List[int]], newInterval: List[int]) -> List[List[int]]:\n",
    "        res = []\n",
    "        for i in range(len(intervals)):\n",
    "            if newInterval[1] < intervals[i][0]:\n",
    "                res.append(newInterval)\n",
    "                return res+intervals[i:]\n",
    "            elif newInterval[0] > intervals[i][1]:\n",
    "                res.append(intervals[i])\n",
    "            else:\n",
    "                newInterval = [min(intervals[i][0],newInterval[0]),max(intervals[i][1],newInterval[1])]\n",
    "        res.append(newInterval)\n",
    "        return res"
   ]
  },
  {
   "cell_type": "markdown",
   "metadata": {},
   "source": [
    "### Merge Intervals\n",
    "> Merge all the intervals\n",
    "\n",
    "\n",
    "**Question Link -**\n",
    "[Leetcode 56 - Merge Intervals](https://leetcode.com/problems/merge-intervals/)\n",
    "\n",
    "\n",
    "**Steps**\n",
    "- Put the seed element\n",
    "- If `last elements last >= current's start`\n",
    "    - change the last element's last with max value\n",
    "- else append the current interval"
   ]
  },
  {
   "cell_type": "code",
   "execution_count": null,
   "metadata": {},
   "outputs": [],
   "source": [
    "class Solution:\n",
    "    def merge(self, intervals: List[List[int]]) -> List[List[int]]:\n",
    "        intervals.sort(key=lambda x:x[0])\n",
    "        output = [intervals[0]]\n",
    "        for start,end in intervals[1:]:\n",
    "            lastInt = output[-1][1]\n",
    "            if start <= lastInt:\n",
    "                output[-1][1] = max(lastInt,end)\n",
    "            else:\n",
    "                output.append([start,end])\n",
    "        return output"
   ]
  },
  {
   "cell_type": "markdown",
   "metadata": {},
   "source": [
    "### Non-overlapping Intervals\n",
    "> Return the overlapping intervals count to be removed\n",
    "\n",
    "\n",
    "**Question Link -**\n",
    "[Leetcode 435 - Non-overlapping Intervals](https://leetcode.com/problems/non-overlapping-intervals/)\n",
    "\n",
    "\n",
    "**Steps**\n",
    "- sort the intervals\n",
    "- set the prev end\n",
    "    - current should be greater or equal , set the prev end to current end\n",
    "    - else increase count and set the prev end to min val"
   ]
  },
  {
   "cell_type": "code",
   "execution_count": null,
   "metadata": {},
   "outputs": [],
   "source": [
    "class Solution:\n",
    "    def eraseOverlapIntervals(self, intervals: List[List[int]]) -> int:\n",
    "        intervals.sort()\n",
    "        res = 0\n",
    "        prevEnd = intervals[0][1]\n",
    "        for start,end in intervals[1:]:\n",
    "            if start >= prevEnd:\n",
    "                prevEnd = end\n",
    "            else:\n",
    "                res += 1\n",
    "                prevEnd = min(end,prevEnd)\n",
    "        return res"
   ]
  },
  {
   "cell_type": "markdown",
   "metadata": {},
   "source": [
    "### Meeting Rooms\n",
    "> See if a person could attend all the meetings\n",
    "\n",
    "\n",
    "**Question Link -**\n",
    "[Leetcode 252 - Meeting Rooms](https://leetcode.com/problems/meeting-rooms/)\n",
    "\n",
    "\n",
    "**Steps**\n",
    "- compare with prev element's end with current's start\n",
    "- return `False` if overlaps"
   ]
  },
  {
   "cell_type": "code",
   "execution_count": null,
   "metadata": {},
   "outputs": [],
   "source": [
    "class Solution:\n",
    "    \"\"\"\n",
    "    @param intervals: an array of meeting time intervals\n",
    "    @return: if a person could attend all meetings\n",
    "    \"\"\"\n",
    "\n",
    "    def canAttendMeetings(self, intervals):\n",
    "        intervals.sort(key=lambda i: i[0])\n",
    "\n",
    "        for i in range(1, len(intervals)):\n",
    "            i1 = intervals[i - 1]\n",
    "            i2 = intervals[i]\n",
    "\n",
    "            if i1[1] > i2[0]:\n",
    "                return False\n",
    "        return True"
   ]
  },
  {
   "cell_type": "markdown",
   "metadata": {},
   "source": [
    "### Meeting Rooms II\n",
    "> Count how many meeting rooms do we need to conduct all meetings\n",
    "\n",
    "\n",
    "**Question Link -**\n",
    "[Leetcode 252 - Meeting Rooms II](https://leetcode.com/problems/meeting-rooms-ii/)\n",
    "\n",
    "\n",
    "**Steps**\n",
    "- Create 2 different sorted array for start and end\n",
    "- Create variables for `res count start-pointer end-pointer`\n",
    "- Run a while loop\n",
    "    - if start is lesser , increase the s pointer and count\n",
    "    - else increase the end pointer and decrease the count\n",
    "    - set the max value to res\n",
    "- return `res`"
   ]
  },
  {
   "cell_type": "code",
   "execution_count": null,
   "metadata": {},
   "outputs": [],
   "source": [
    "class Solution:\n",
    "    \"\"\"\n",
    "    @param intervals: an array of meeting time intervals\n",
    "    @return: the minimum number of conference rooms required\n",
    "    \"\"\"\n",
    "\n",
    "    def minMeetingRooms(self, intervals):\n",
    "        start = sorted([i.start for i in intervals])\n",
    "        end = sorted([i.end for i in intervals])\n",
    "\n",
    "        res, count = 0, 0\n",
    "        s, e = 0, 0\n",
    "        while s < len(intervals):\n",
    "            if start[s] < end[e]:\n",
    "                s += 1\n",
    "                count += 1\n",
    "            else:\n",
    "                e += 1\n",
    "                count -= 1\n",
    "            res = max(res, count)\n",
    "        return res"
   ]
  },
  {
   "cell_type": "markdown",
   "metadata": {},
   "source": [
    "### Minimum Interval to Include Each Query\n",
    "> Count how many meeting rooms do we need to conduct all meetings\n",
    "\n",
    "\n",
    "**Question Link -**\n",
    "[Leetcode 1851 - Minimum Interval to Include Each Query](https://leetcode.com/problems/minimum-interval-to-include-each-query/)\n",
    "\n",
    "\n",
    "**Steps**\n",
    "- sort all the intervals\n",
    "- for sorted queries\n",
    "    - run the while loop to add items to heap\n",
    "        - if start value is lesser than query\n",
    "        - append the size of interval and right value\n",
    "    - run the while loop to pop unwanted heap pairs\n",
    "        - if right value is lesser than the query\n",
    "    - if heap is available get the size and put it in dict\n",
    "- get values from dict"
   ]
  },
  {
   "cell_type": "code",
   "execution_count": null,
   "metadata": {},
   "outputs": [],
   "source": [
    "import heapq\n",
    "\n",
    "class Solution:\n",
    "    def minInterval(self, intervals: List[List[int]], queries: List[int]) -> List[int]:\n",
    "        intervals.sort()\n",
    "        res = {}\n",
    "        minHeap = []\n",
    "        i = 0\n",
    "        \n",
    "        for q in sorted(queries):\n",
    "            while i < len(intervals) and intervals[i][0] <= q:\n",
    "                l,r = intervals[i]\n",
    "                heapq.heappush(minHeap,(r-l+1,r))\n",
    "                i += 1\n",
    "                \n",
    "            while minHeap and minHeap[0][1] < q:\n",
    "                heapq.heappop(minHeap)\n",
    "            res[q] = minHeap[0][0] if minHeap else -1\n",
    "        return [res[q] for q in queries]"
   ]
  },
  {
   "cell_type": "markdown",
   "metadata": {},
   "source": [
    "### Valid Palindrome\n",
    "> Check valid palindrome after removing all no alphabets\n",
    "\n",
    "\n",
    "**Question Link -**\n",
    "[Leetcode 125 - Valid Palindrome](https://leetcode.com/problems/valid-palindrome/)\n",
    "\n",
    "\n",
    "**Steps**\n",
    "- Remove all the non-alphabets using `isalnum` function\n",
    "- Initiate 2 pointers (first and last)\n",
    "- check for palindrome nature"
   ]
  },
  {
   "cell_type": "code",
   "execution_count": null,
   "metadata": {},
   "outputs": [],
   "source": [
    "class Solution:\n",
    "    def isPalindrome(self, s: str) -> bool:\n",
    "        filtered_str = self.filter_str(s.lower())\n",
    "        l = 0\n",
    "        r = len(filtered_str)-1\n",
    "        while l<r:\n",
    "            if filtered_str[l] != filtered_str[r]:\n",
    "                return False\n",
    "            l += 1\n",
    "            r -= 1\n",
    "        return True\n",
    "        \n",
    "    def filter_str(self,s):\n",
    "        return \"\".join([x for x in s if x.isalnum()])"
   ]
  },
  {
   "cell_type": "markdown",
   "metadata": {},
   "source": [
    "### Two Sum II - Input Array Is Sorted\n",
    "> Check valid palindrome after removing all no alphabets\n",
    "\n",
    "\n",
    "**Question Link -**\n",
    "[Leetcode 167 - Two Sum II - Input Array Is Sorted](https://leetcode.com/problems/two-sum-ii-input-array-is-sorted/)\n",
    "\n",
    "\n",
    "**Steps**\n",
    "- Initiate 2 pointers (first and last)\n",
    "- Add 2 elements\n",
    "    - if it sums up then return\n",
    "    - if it is greater then decrease right pointer\n",
    "    - if it is lesser then increase the left pointer"
   ]
  },
  {
   "cell_type": "code",
   "execution_count": null,
   "metadata": {},
   "outputs": [],
   "source": [
    "class Solution:    \n",
    "    def twoSum(self, numbers: List[int], target: int) -> List[int]:\n",
    "        l = 0\n",
    "        r = len(numbers)-1\n",
    "        while l<r:\n",
    "            _sum = numbers[l]+numbers[r]\n",
    "            if(_sum==target):\n",
    "                return [l+1,r+1]\n",
    "            elif(_sum>target):\n",
    "                r -= 1\n",
    "            elif(_sum<target):\n",
    "                l += 1"
   ]
  },
  {
   "cell_type": "markdown",
   "metadata": {},
   "source": [
    "### 3Sum\n",
    "> Check 3 digits that makes sum 0\n",
    "\n",
    "\n",
    "**Question Link -**\n",
    "[Leetcode 15 - 3Sum](https://leetcode.com/problems/3sum/)\n",
    "\n",
    "\n",
    "**Steps**\n",
    "- sort the input array\n",
    "- declare the target value (0 in this case)\n",
    "- top level forloop with index and num\n",
    "    - continue if it equals to last element and index in not 0\n",
    "    - set a 2 pointer (first and last)\n",
    "    - take first element from top level and rest 2 elements from pointers\n",
    "    - increase `left` is lesser\n",
    "    - decrease `right` is greater\n",
    "    - if it equals then add it up to the resultant\n",
    "        - move the left pointer to the place where it doesn't equals to the previous"
   ]
  },
  {
   "cell_type": "code",
   "execution_count": null,
   "metadata": {},
   "outputs": [],
   "source": [
    "class Solution:\n",
    "    def threeSum(self, nums: List[int]) -> List[List[int]]:\n",
    "        res = []\n",
    "        nums.sort()\n",
    "        target = 0\n",
    "        \n",
    "        for i,num in enumerate(nums):\n",
    "            if(i>0 and num == nums[i-1]):\n",
    "                continue\n",
    "            l,r = i+1,len(nums)-1\n",
    "            while l<r:\n",
    "                _sum = nums[i] + nums[l] + nums[r]\n",
    "                if(_sum > target):\n",
    "                    r -= 1\n",
    "                elif(_sum < target):\n",
    "                    l += 1\n",
    "                else:\n",
    "                    res.append([nums[i], nums[l], nums[r]])\n",
    "                    l += 1\n",
    "                    while l<r and nums[l] == nums[l-1]:\n",
    "                        l += 1\n",
    "        return res"
   ]
  },
  {
   "cell_type": "markdown",
   "metadata": {},
   "source": [
    "### Container With Most Water\n",
    "> Find the max amount of water we can store\n",
    "\n",
    "\n",
    "**Question Link -**\n",
    "[Leetcode 11 - Container With Most Water](https://leetcode.com/problems/container-with-most-water/)\n",
    "\n",
    "\n",
    "**Steps**\n",
    "- declare 2 pointers (first and last)\n",
    "    - get the min value\n",
    "    - find the length\n",
    "    - get the area `min value x length`\n",
    "    - assign it to largest area\n",
    "- move min value's pointer "
   ]
  },
  {
   "cell_type": "code",
   "execution_count": null,
   "metadata": {},
   "outputs": [],
   "source": [
    "class Solution:\n",
    "    def maxArea(self, height: List[int]) -> int:\n",
    "        l,r = 0,len(height)-1\n",
    "        largest = 0\n",
    "        while l<r:\n",
    "            min_data = min(height[l],height[r])\n",
    "            length = r-l\n",
    "            largest = max(largest,min_data*length)\n",
    "            if(min_data == height[l]):\n",
    "                l += 1\n",
    "            else:\n",
    "                r -= 1\n",
    "        return largest"
   ]
  },
  {
   "cell_type": "markdown",
   "metadata": {},
   "source": [
    "### Trapping Rain Water\n",
    "> find the max amount of water we can store in a elevation map\n",
    "\n",
    "\n",
    "**Question Link -**\n",
    "[Leetcode 42 - Trapping Rain Water](https://leetcode.com/problems/trapping-rain-water/)\n",
    "\n",
    "\n",
    "**Steps**\n",
    "- declare 2 pointers (first and last)\n",
    "- delcare the left and right max\n",
    "- Run while loop\n",
    "    - take the lesser height side\n",
    "    - increse it by one\n",
    "    - get the max from that 2 points \n",
    "    - add the difference to global counter"
   ]
  },
  {
   "cell_type": "code",
   "execution_count": null,
   "metadata": {},
   "outputs": [],
   "source": [
    "class Solution:\n",
    "    def trap(self, height: List[int]) -> int:\n",
    "        if not height: return 0\n",
    "        res = 0\n",
    "        l,r = 0,len(height)-1\n",
    "        leftmax,rightmax= height[l],height[r]\n",
    "        \n",
    "        while l<r:\n",
    "            if(leftmax < rightmax):\n",
    "                l += 1\n",
    "                leftmax = max(leftmax,height[l])\n",
    "                res += leftmax - height[l]\n",
    "            else:\n",
    "                r -= 1\n",
    "                rightmax = max(rightmax,height[r])\n",
    "                res += rightmax - height[r]\n",
    "        return res"
   ]
  },
  {
   "cell_type": "markdown",
   "metadata": {},
   "source": [
    "### Best Time to Buy and Sell Stock\n",
    "> find the best date to buy and sell a stock\n",
    "\n",
    "\n",
    "**Question Link -**\n",
    "[Leetcode 121 - Best Time to Buy and Sell Stock](https://leetcode.com/problems/best-time-to-buy-and-sell-stock/)\n",
    "\n",
    "\n",
    "**Steps**\n",
    "- Use 2 pointers\n",
    "- if `previous < current`\n",
    "    - subract it and add it to max profit\n",
    "    - increase right pointer\n",
    "- else\n",
    "    - increase the right and left pointers"
   ]
  },
  {
   "cell_type": "code",
   "execution_count": null,
   "metadata": {},
   "outputs": [],
   "source": [
    "class Solution:\n",
    "    def maxProfit(self, prices: List[int]) -> int:\n",
    "        l,r = 0,1\n",
    "        max_profit = 0\n",
    "        while r<len(prices):\n",
    "            if(prices[l] < prices[r]):\n",
    "                profit = prices[r] - prices[l]\n",
    "                max_profit = max(profit,max_profit)\n",
    "            else:\n",
    "                l = r\n",
    "            r += 1\n",
    "        return max_profit"
   ]
  },
  {
   "cell_type": "markdown",
   "metadata": {},
   "source": [
    "### Longest Substring Without Repeating Characters\n",
    "> find the longest substring in the given string using sliding window method\n",
    "\n",
    "\n",
    "**Question Link -**\n",
    "[Leetcode 3 - Longest Substring Without Repeating Characters](https://leetcode.com/problems/longest-substring-without-repeating-characters/)\n",
    "\n",
    "\n",
    "**Steps**\n",
    "- use a set to store element between `l:r`\n",
    "- declare 2 pointes (first and second)\n",
    "- res to store length of element\n",
    "- run a while loop to iterate all elements\n",
    "    - check the incoming string is present in the existing sequence\n",
    "    - if yes increase the start pointer and remove the start item from set\n",
    "    - else add last pointer in set\n",
    "    - get the max length and update\n",
    "    - increase the last pointer `r`\n",
    "- return res length"
   ]
  },
  {
   "cell_type": "code",
   "execution_count": null,
   "metadata": {},
   "outputs": [],
   "source": [
    "class Solution:\n",
    "    def lengthOfLongestSubstring(self, s: str) -> int:\n",
    "        char_set = set()\n",
    "        l = 0\n",
    "        r = 0\n",
    "        res = 0\n",
    "        while r < len(s):\n",
    "            while s[r] in char_set:\n",
    "                char_set.remove(s[l])\n",
    "                l += 1\n",
    "            char_set.add(s[r])\n",
    "            res = max(res,r-l+1)\n",
    "            r += 1\n",
    "        return res"
   ]
  },
  {
   "cell_type": "markdown",
   "metadata": {},
   "source": [
    "### Permutation in String\n",
    "> find permutation of `s1` is present in `s2` or not\n",
    "\n",
    "\n",
    "**Question Link -**\n",
    "[Leetcode 567 - Permutation in String](https://leetcode.com/problems/permutation-in-string/)\n",
    "\n",
    "\n",
    "**Steps**\n",
    "- order the `s1` string\n",
    "- for all the len of `s1` search the string `s2`\n",
    "- return true if anything is present\n",
    "- return false at the end"
   ]
  },
  {
   "cell_type": "code",
   "execution_count": null,
   "metadata": {},
   "outputs": [],
   "source": [
    "class Solution:\n",
    "    def checkInclusion(self, s1: str, s2: str) -> bool:\n",
    "        if len(s1) > len(s2):\n",
    "            return False\n",
    "        s1_ord = \"\".join(sorted(s1))\n",
    "        \n",
    "        l = 0\n",
    "        r = len(s1)-1\n",
    "        \n",
    "        while r <= len(s2):\n",
    "            if(s1_ord == \"\".join(sorted(s2[l:r+1]))):\n",
    "                return True\n",
    "            l += 1\n",
    "            r += 1\n",
    "        return False"
   ]
  },
  {
   "cell_type": "markdown",
   "metadata": {},
   "source": [
    "### Minimum Window Substring\n",
    "> find permutation of `s1` is present in `s2` or not\n",
    "\n",
    "\n",
    "**Question Link -**\n",
    "[Leetcode 76 - Minimum Window Substring](https://leetcode.com/problems/minimum-window-substring/)\n",
    "\n",
    "\n",
    "**Steps**\n",
    "- use sliding window method\n",
    "- initiate l=r=0\n",
    "- save all counts value in a hashmap\n",
    "- according to that move the cursor\n",
    "- once we got the correct answer then move l and then r\n",
    "- finally save the minimum length"
   ]
  },
  {
   "cell_type": "code",
   "execution_count": null,
   "metadata": {},
   "outputs": [],
   "source": [
    "def smallestSubstringContaining(bigString, smallString):\n",
    "    targetCharCounts = getCharCounts(smallString)\n",
    "    substringBounds = getSubstringBounds(bigString,targetCharCounts)\n",
    "    return getStringFromBounds(bigString,substringBounds)\n",
    "\n",
    "\n",
    "def getCharCounts(string):\n",
    "    charCounts = {}\n",
    "    for char in string:\n",
    "        increaseCharCount(char,charCounts)\n",
    "    return charCounts\n",
    "\n",
    "def getSubstringBounds(string,targetCharCounts):\n",
    "    substringBounds = [0, float(\"inf\")]\n",
    "    substringCharCounts = {}\n",
    "    numUniqueChars = len(targetCharCounts.keys())\n",
    "    numUniqueCharsDone = 0\n",
    "    leftIdx = 0\n",
    "    rightIdx = 0\n",
    "\n",
    "    while rightIdx < len(string):\n",
    "        rightChar = string[rightIdx]\n",
    "        if rightChar not in targetCharCounts:\n",
    "            rightIdx += 1\n",
    "            continue\n",
    "        increaseCharCount(rightChar,substringCharCounts)\n",
    "        if substringCharCounts[rightChar] == targetCharCounts[rightChar]:\n",
    "            numUniqueCharsDone += 1\n",
    "\n",
    "        while numUniqueCharsDone == numUniqueChars and leftIdx <= rightIdx:\n",
    "            substringBounds = getCloserBounds(leftIdx,rightIdx,substringBounds[0],substringBounds[1])\n",
    "            leftChar = string[leftIdx]\n",
    "            if leftChar not in targetCharCounts:\n",
    "                leftIdx += 1\n",
    "                continue\n",
    "            if substringCharCounts[leftChar] == targetCharCounts[leftChar]:\n",
    "                numUniqueCharsDone -= 1\n",
    "            decreaseCharCount(leftChar,substringCharCounts)\n",
    "            leftIdx += 1\n",
    "        rightIdx += 1\n",
    "    return substringBounds\n",
    "\n",
    "def getCloserBounds(idx1,idx2,idx3,idx4):\n",
    "    return [idx1,idx2] if idx2-idx1 < idx4 - idx3 else [idx3,idx4]\n",
    "\n",
    "\n",
    "def getStringFromBounds(string,bounds):\n",
    "    start,end = bounds\n",
    "    if end == float(\"inf\"):\n",
    "        return \"\"\n",
    "    return string[start:end+1]\n",
    "\n",
    "\n",
    "def increaseCharCount(char,charCounts):\n",
    "    if char not in charCounts:\n",
    "        charCounts[char] = 0\n",
    "    charCounts[char] += 1\n",
    "\n",
    "def decreaseCharCount(char,charCounts):\n",
    "    charCounts[char] -= 1"
   ]
  },
  {
   "cell_type": "markdown",
   "metadata": {},
   "source": [
    "### Sliding Window Maximum\n",
    "> find the max value in each window\n",
    "\n",
    "\n",
    "**Question Link -**\n",
    "[Leetcode 239 - Sliding Window Maximum](https://leetcode.com/problems/sliding-window-maximum/)\n",
    "\n",
    "\n",
    "**Steps**\n",
    "> All elements are indexed and sorted using index not values\n",
    "- create a deque so we can pop from both sides\n",
    "- use 2 pointers (first and second)\n",
    "    - if previous element is smaller then pop\n",
    "    - append current element\n",
    "    - check we have any previous window element using a if condition\n",
    "    - if we have a window then append it to result array\n",
    "    - increase `r` pointer"
   ]
  },
  {
   "cell_type": "code",
   "execution_count": null,
   "metadata": {},
   "outputs": [],
   "source": [
    "from collections import deque\n",
    "\n",
    "class Solution:\n",
    "    def maxSlidingWindow(self, nums: List[int], k: int) -> List[int]:\n",
    "        results = []\n",
    "        q = deque()\n",
    "        l = 0\n",
    "        r = 0\n",
    "        \n",
    "        while r < len(nums):\n",
    "            while q and nums[q[-1]] < nums[r]:\n",
    "                q.pop()\n",
    "            q.append(r)\n",
    "            if l > q[0]:\n",
    "                q.popleft()\n",
    "            if (r+1) >= k:\n",
    "                results.append(nums[q[0]])\n",
    "                l += 1\n",
    "            r += 1\n",
    "        return results"
   ]
  },
  {
   "cell_type": "markdown",
   "metadata": {},
   "source": [
    "### Longest Repeating Character Replacement\n",
    "> replace `k` elements to get the longest string\n",
    "\n",
    "**Question Link -**\n",
    "[Leetcode 424 - Longest Repeating Character Replacement](https://leetcode.com/problems/longest-repeating-character-replacement)\n",
    "\n",
    "\n",
    "**Steps**\n",
    "- get counts of current window\n",
    "    - get max value count and rest count\n",
    "    - if `rest count is <= k` then max len is current window length\n",
    "- get the max frequency count\n",
    "- move the left pointer if it exceed `k`\n",
    "- assign the max window size"
   ]
  },
  {
   "cell_type": "code",
   "execution_count": null,
   "metadata": {},
   "outputs": [],
   "source": [
    "class Solution:\n",
    "    def characterReplacement(self, s: str, k: int) -> int:\n",
    "        count = {}\n",
    "        res = 0\n",
    "\n",
    "        l = 0\n",
    "        maxf = 0\n",
    "        for r in range(len(s)):\n",
    "            count[s[r]] = 1 + count.get(s[r], 0)\n",
    "            maxf = max(maxf, count[s[r]])\n",
    "\n",
    "            if (r - l + 1) - maxf > k:\n",
    "                count[s[l]] -= 1\n",
    "                l += 1\n",
    "\n",
    "            res = max(res, r - l + 1)\n",
    "        return res"
   ]
  },
  {
   "cell_type": "markdown",
   "metadata": {},
   "source": [
    "### Valid Parentheses\n",
    "> check the given string has valid parentheses\n",
    "\n",
    "**Question Link -**\n",
    "[Leetcode 20 - Valid Parentheses](https://leetcode.com/problems/valid-parentheses/)\n",
    "\n",
    "\n",
    "**Steps**\n",
    "- use a stack\n",
    "- create dict of open and closed brackets\n",
    "- pop if there is a closed tag came\n",
    "- else append the open tag"
   ]
  },
  {
   "cell_type": "code",
   "execution_count": null,
   "metadata": {},
   "outputs": [],
   "source": [
    "class Solution:\n",
    "    def isValid(self, s: str) -> bool:\n",
    "        stack = []\n",
    "        close_nd_open = {\")\": \"(\", \"]\": \"[\", \"}\": \"{\"}\n",
    "        for c in s:\n",
    "            if c in close_nd_open:\n",
    "                if stack and stack[-1] == close_nd_open[c]:\n",
    "                    stack.pop()\n",
    "                else:\n",
    "                    return False\n",
    "            else:\n",
    "                stack.append(c)\n",
    "        return True if not stack else False"
   ]
  },
  {
   "cell_type": "markdown",
   "metadata": {},
   "source": [
    "### Min Stack\n",
    "> A stack with min values stored in all the states\n",
    "\n",
    "**Question Link -**\n",
    "[Leetcode 155 - Min Stack](https://leetcode.com/problems/min-stack/)\n",
    "\n",
    "\n",
    "**Steps**\n",
    "- min stack contains min value of the each state\n",
    "- compare it with previous min element then update the current state's min element"
   ]
  },
  {
   "cell_type": "code",
   "execution_count": null,
   "metadata": {},
   "outputs": [],
   "source": [
    "class MinStack:\n",
    "    def __init__(self):\n",
    "        self.stack = []\n",
    "        self.min = []\n",
    "        \n",
    "    def push(self, val: int) -> None:\n",
    "        self.stack.append(val)\n",
    "        _min = min(val,self.min[-1] if self.min else val)\n",
    "        self.min.append(_min)\n",
    "\n",
    "    def pop(self) -> None:\n",
    "        self.stack.pop()\n",
    "        self.min.pop()\n",
    "        \n",
    "    def top(self) -> int:\n",
    "        return self.stack[-1]\n",
    "\n",
    "    def getMin(self) -> int:\n",
    "        return self.min[-1]"
   ]
  },
  {
   "cell_type": "markdown",
   "metadata": {},
   "source": [
    "### Evaluate Reverse Polish Notation\n",
    "> Make arithmatic operation using given array elements\n",
    "\n",
    "**Question Link -**\n",
    "[Leetcode 150 - Evaluate Reverse Polish Notation](https://leetcode.com/problems/evaluate-reverse-polish-notation/)\n",
    "\n",
    "\n",
    "**Steps**\n",
    "- get all the tokens\n",
    "- if incoming token is arithmatic one the pop last 2 elements \n",
    "- do the operation"
   ]
  },
  {
   "cell_type": "code",
   "execution_count": null,
   "metadata": {},
   "outputs": [],
   "source": [
    "class Solution:\n",
    "    def evalRPN(self, tokens: List[str]) -> int:\n",
    "        stack = []\n",
    "        for tok in tokens:\n",
    "            if(tok == \"+\"):\n",
    "                stack.append(stack.pop()+stack.pop())\n",
    "            elif(tok == \"-\"):\n",
    "                a,b=stack.pop(),stack.pop()\n",
    "                stack.append(b-a)\n",
    "            elif(tok == \"*\"):\n",
    "                stack.append(stack.pop()*stack.pop())\n",
    "            elif(tok == \"/\"):\n",
    "                a,b=stack.pop(),stack.pop()\n",
    "                stack.append(int(b/a))\n",
    "            else:\n",
    "                stack.append(int(tok))\n",
    "        return stack[0]"
   ]
  },
  {
   "cell_type": "markdown",
   "metadata": {},
   "source": [
    "### Generate Parentheses\n",
    "> Generate all possible parentheses for a given count of `open parentheses`\n",
    "\n",
    "**Question Link -**\n",
    "[Leetcode 22 - Generate Parentheses](https://leetcode.com/problems/generate-parentheses/)\n",
    "\n",
    "\n",
    "**Steps**\n",
    "- use backtrack method\n",
    "- call the backtrack with `0,0`\n",
    "- when `open == close == n` then join and return\n",
    "- if `open < n` append parentheses\n",
    "- if `close < n` append parentheses"
   ]
  },
  {
   "cell_type": "code",
   "execution_count": null,
   "metadata": {},
   "outputs": [],
   "source": [
    "class Solution:\n",
    "    def generateParenthesis(self, n: int) -> List[str]:\n",
    "        stack = []\n",
    "        res = []\n",
    "        \n",
    "        def backtrack(openN,closedN):\n",
    "            if(openN == closedN == n):\n",
    "                res.append(\"\".join(stack))\n",
    "                return\n",
    "            \n",
    "            if(openN < n):\n",
    "                stack.append(\"(\")\n",
    "                backtrack(openN+1,closedN)\n",
    "                stack.pop()\n",
    "            \n",
    "            if(closedN < openN):\n",
    "                stack.append(\")\")\n",
    "                backtrack(openN,closedN+1)\n",
    "                stack.pop()\n",
    "        backtrack(0,0)\n",
    "        return res"
   ]
  },
  {
   "cell_type": "markdown",
   "metadata": {},
   "source": [
    "### Daily Temperatures\n",
    "> Find how many days we need to wait to get warmth\n",
    "\n",
    "**Question Link -**\n",
    "[Leetcode 739 - Daily Temperatures](https://leetcode.com/problems/daily-temperatures/)\n",
    "\n",
    "\n",
    "**Steps**\n",
    "- use stacks \n",
    "- go back to stack and pop elements until it is lesser \n",
    "- assign the days count"
   ]
  },
  {
   "cell_type": "code",
   "execution_count": null,
   "metadata": {},
   "outputs": [],
   "source": [
    "class Solution:\n",
    "    def dailyTemperatures(self, temperatures: List[int]) -> List[int]:\n",
    "        res = [0] * len(temperatures)\n",
    "        stack = [] # pair: [temp, index]\n",
    "        \n",
    "        for i, t in enumerate(temperatures):\n",
    "            while stack and t > stack[-1][0]:\n",
    "                stackT, stackInd = stack.pop()\n",
    "                res[stackInd] = (i - stackInd)\n",
    "            stack.append([t, i])\n",
    "        return res"
   ]
  },
  {
   "cell_type": "markdown",
   "metadata": {},
   "source": [
    "### Car Fleet\n",
    "> Total number of car fleets to reach destination\n",
    "\n",
    "**Question Link -**\n",
    "[Leetcode 835 - Car Fleet](https://leetcode.com/problems/car-fleet/)\n",
    "\n",
    "\n",
    "**Steps**\n",
    "- use a new array with `pos,speed`\n",
    "- sort it and reverse it\n",
    "    - append the time needs to reach the dest\n",
    "    - if elements are greater than 1 then compare timings\n",
    "    - last appended is reaches before previously appended then pop it \n",
    "    - bcuz they gonna be a fleet"
   ]
  },
  {
   "cell_type": "code",
   "execution_count": null,
   "metadata": {},
   "outputs": [],
   "source": [
    "class Solution:\n",
    "    def carFleet(self, target: int, position: List[int], speed: List[int]) -> int:\n",
    "        pair = [[x,y] for x,y in zip(position,speed)]\n",
    "        stack = []\n",
    "        \n",
    "        for p,s in sorted(pair,reverse=True):\n",
    "            stack.append((target-p)/s)\n",
    "            if len(stack) >= 2 and stack[-2] >= stack[-1]:\n",
    "                stack.pop()\n",
    "        return len(stack)"
   ]
  },
  {
   "cell_type": "markdown",
   "metadata": {},
   "source": [
    "### Reverse Linked List\n",
    "> Reverse the given linked list\n",
    "\n",
    "**Question Link -**\n",
    "[Leetcode 206 - Reverse Linked List](https://leetcode.com/problems/reverse-linked-list/)\n",
    "\n",
    "\n",
    "**Steps**\n",
    "- save next pointer in a variable from current\n",
    "- create new chain and assign the chain \n",
    "- assign next pointer to current"
   ]
  },
  {
   "cell_type": "code",
   "execution_count": null,
   "metadata": {},
   "outputs": [],
   "source": [
    "class Solution:\n",
    "    def reverseList(self, head: Optional[ListNode]) -> Optional[ListNode]:\n",
    "        prev,current = None,head\n",
    "        while current:\n",
    "            nxt = current.next\n",
    "            current.next = prev\n",
    "            prev = current\n",
    "            current = nxt\n",
    "            \n",
    "        return prev"
   ]
  },
  {
   "cell_type": "markdown",
   "metadata": {},
   "source": [
    "### Wildcard Matching\n",
    "> Check the pattern matches or not\n",
    "\n",
    "**Question Link -**\n",
    "[Leetcode 44 - Wildcard Matching](https://leetcode.com/problems/wildcard-matching/)\n",
    "\n",
    "\n",
    "**Steps**\n",
    "- This is a DP problem , we can use a memo\n",
    "- logic\n",
    "    - we are going last to first\n",
    "    - if it is not a `*` then we can reduce one\n",
    "    - if it matches `*` then try 2 combos\n",
    "    - 3rd basecase is used to check whether all the rest pattern is `*` or not"
   ]
  },
  {
   "cell_type": "code",
   "execution_count": null,
   "metadata": {},
   "outputs": [],
   "source": [
    "class Solution:\n",
    "    def isMatch(self, text: str, pattern: str) -> bool:\n",
    "        memo = [[-1 for y in range(len(text))] for x in range(len(pattern))]\n",
    "        i = len(pattern)-1\n",
    "        j = len(text)-1\n",
    "        return self.matchWildCard(i,j,pattern,text,memo)\n",
    "\n",
    "    def matchWildCard(self,i,j,pattern,text,memo):\n",
    "        if i < 0 and j < 0:\n",
    "            return True\n",
    "        if i < 0  and j >= 0:\n",
    "            return False\n",
    "        if i >= 0 and j < 0:\n",
    "            for char in pattern[:i+1]:\n",
    "                if char != \"*\":\n",
    "                    return False\n",
    "            return True\n",
    "        if memo[i][j] != -1:\n",
    "            return memo[i][j]\n",
    "        if pattern[i] == text[j] or pattern[i] == \"?\":\n",
    "            memo[i][j] = self.matchWildCard(i-1,j-1,pattern,text,memo)\n",
    "            return memo[i][j]\n",
    "        if pattern[i] == \"*\":\n",
    "            memo[i][j] = self.matchWildCard(i-1,j,pattern,text,memo) or self.matchWildCard(i,j-1,pattern,text,memo)\n",
    "            return memo[i][j]\n",
    "        \n",
    "        memo[i][j] = False\n",
    "        return memo[i][j]"
   ]
  },
  {
   "cell_type": "markdown",
   "metadata": {},
   "source": [
    "### Cyclically Rotating a Grid\n",
    "> Move the matrix anticlockwise n places\n",
    "\n",
    "**Question Link -**\n",
    "[Leetcode 1914 - Cyclically Rotating a Grid](https://leetcode.com/problems/cyclically-rotating-a-grid/)\n",
    "\n",
    "\n",
    "**Steps**\n",
    "- find no of elements and no of rotations\n",
    "- rotate one by one\n",
    "    - get topleft move all then place the topleft\n",
    "    - do it for `n` times"
   ]
  },
  {
   "cell_type": "code",
   "execution_count": null,
   "metadata": {},
   "outputs": [],
   "source": [
    "class Solution:\n",
    "    def rotateGrid(self, grid: List[List[int]], k: int) -> List[List[int]]:\n",
    "        m = len(grid)\n",
    "        n = len(grid[0])\n",
    "        t = 0\n",
    "        l = 0\n",
    "        b = m-1\n",
    "        r = n-1\n",
    "        \n",
    "        while t < b and l < r:\n",
    "            noOfElements = 2*(b-t+1) + 2*(r-l+1) - 4\n",
    "            noOfRotations = k%noOfElements\n",
    "            \n",
    "            for _ in range(noOfRotations):\n",
    "                topLeft = grid[t][l]\n",
    "                \n",
    "                for j in range(l,r):\n",
    "                    grid[t][j] = grid[t][j+1]\n",
    "                for i in range(t,b):\n",
    "                    grid[i][r] = grid[i+1][r]\n",
    "                for j in range(r,l,-1):\n",
    "                    grid[b][j] = grid[b][j-1]\n",
    "                for i in range(b,t,-1):\n",
    "                    grid[i][l] = grid[i-1][l]\n",
    "                \n",
    "                grid[t+1][l] = topLeft\n",
    "            \n",
    "            t += 1\n",
    "            b -= 1\n",
    "            l += 1\n",
    "            r -= 1\n",
    "        return grid"
   ]
  },
  {
   "cell_type": "markdown",
   "metadata": {},
   "source": [
    "### Contains Duplicate\n",
    "> Check the given array contains duplicate elements are not\n",
    "\n",
    "**Question Link -**\n",
    "[Leetcode 217 - Contains Duplicate](https://leetcode.com/problems/contains-duplicate/)\n",
    "\n",
    "\n",
    "**Steps**\n",
    "- use a set\n",
    "- run a forloop with given elements\n",
    "    - check the elements existence\n",
    "    - else append to set\n",
    "- return False"
   ]
  },
  {
   "cell_type": "code",
   "execution_count": null,
   "metadata": {},
   "outputs": [],
   "source": [
    "class Solution:\n",
    "    def containsDuplicate(self, nums: List[int]) -> bool:\n",
    "        memo = set()\n",
    "        for i in nums:\n",
    "            if(i in memo):\n",
    "                return True\n",
    "            memo.add(i)                \n",
    "        return False"
   ]
  },
  {
   "cell_type": "markdown",
   "metadata": {},
   "source": [
    "### Valid Anagram\n",
    "> Check the given 2 strings are anagram or not\n",
    "\n",
    "**Question Link -**\n",
    "[Leetcode 242 - Valid Anagram](https://leetcode.com/problems/valid-anagram/)\n",
    "\n",
    "\n",
    "**Steps**\n",
    "- sort and order the element\n",
    "- compare both the strings"
   ]
  },
  {
   "cell_type": "code",
   "execution_count": null,
   "metadata": {},
   "outputs": [],
   "source": [
    "class Solution:\n",
    "    def isAnagram(self, s: str, t: str) -> bool:\n",
    "        if(\"\".join(sorted(s)) == \"\".join(sorted(t))):\n",
    "            return True\n",
    "        else:\n",
    "            return False"
   ]
  },
  {
   "cell_type": "markdown",
   "metadata": {},
   "source": [
    "### Two Sum\n",
    "> Find which 2 numbers that sums up to target number\n",
    "\n",
    "**Question Link -**\n",
    "[Leetcode 1 - Two Sum](https://leetcode.com/problems/two-sum/)\n",
    "\n",
    "\n",
    "**Steps**\n",
    "- get the remainder and check it's existence in dict\n",
    "- append number with it's index"
   ]
  },
  {
   "cell_type": "code",
   "execution_count": null,
   "metadata": {},
   "outputs": [],
   "source": [
    "class Solution:\n",
    "    def twoSum(self, nums: List[int], target: int) -> List[int]:\n",
    "        tracker = {}\n",
    "        for ind,num in enumerate(nums):\n",
    "            remainder = target-num\n",
    "            if(remainder in tracker):\n",
    "                return [ind,tracker[remainder]]\n",
    "            tracker[num] = ind\n",
    "        return"
   ]
  },
  {
   "cell_type": "markdown",
   "metadata": {},
   "source": [
    "### Group Anagrams\n",
    "> Categorize all the anagrams into different arrays\n",
    "\n",
    "**Question Link -**\n",
    "[Leetcode 1 - Group Anagrams](https://leetcode.com/problems/group-anagrams/)\n",
    "\n",
    "\n",
    "**Steps**\n",
    "- save all the anagrams in a dict with set\n",
    "- return all the values"
   ]
  },
  {
   "cell_type": "code",
   "execution_count": null,
   "metadata": {},
   "outputs": [],
   "source": [
    "class Solution:\n",
    "    def groupAnagrams(self, strs: List[str]) -> List[List[str]]:\n",
    "        res = {}\n",
    "        for word in strs:\n",
    "            sorted_w = \"\".join(sorted(word))\n",
    "            try:\n",
    "                res[sorted_w].append(word)\n",
    "            except:\n",
    "                res[sorted_w] = [word]\n",
    "        return res.values()"
   ]
  },
  {
   "cell_type": "markdown",
   "metadata": {},
   "source": [
    "### Top K Frequent Elements\n",
    "> Return results based on the frequency of the elements\n",
    "\n",
    "**Question Link -**\n",
    "[Leetcode 347 - Top K Frequent Elements](https://leetcode.com/problems/top-k-frequent-elements/)\n",
    "\n",
    "\n",
    "**Steps**\n",
    "- save all the frequencies in a dict\n",
    "- sort it based on frequency in reverse order\n",
    "- return the k elements "
   ]
  },
  {
   "cell_type": "code",
   "execution_count": null,
   "metadata": {},
   "outputs": [],
   "source": [
    "class Solution:\n",
    "    def topKFrequent(self, nums: List[int], k: int) -> List[int]:\n",
    "        tracker = {}\n",
    "        for num in nums:\n",
    "            try:\n",
    "                tracker[num] = tracker[num]+1\n",
    "            except:\n",
    "                tracker[num] = 1\n",
    "        tracker = sorted(tracker.items(),key=lambda x:(x[1],x[0]),reverse=True)\n",
    "        if len(tracker) < k:\n",
    "            return [x[0] for x in tracker]\n",
    "        return [x[0] for x in tracker[:k]]"
   ]
  },
  {
   "cell_type": "markdown",
   "metadata": {},
   "source": [
    "### Product of Array Except Self\n",
    "> Return new array that contains product of all numbers except current index element\n",
    "\n",
    "**Question Link -**\n",
    "[Leetcode 238 - Product of Array Except Self](https://leetcode.com/problems/product-of-array-except-self/)\n",
    "\n",
    "\n",
    "**Steps**\n",
    "- use forward and reverse loop methods\n",
    "- use a prefix and postfix variable to store product"
   ]
  },
  {
   "cell_type": "code",
   "execution_count": null,
   "metadata": {},
   "outputs": [],
   "source": [
    "class Solution:\n",
    "    def productExceptSelf(self, nums: List[int]) -> List[int]:\n",
    "        res = [1] * (len(nums))\n",
    "        prefix = 1\n",
    "        for i in range(len(nums)):\n",
    "            res[i] = prefix\n",
    "            prefix *= nums[i]\n",
    "        postfix = 1\n",
    "        for i in range(len(nums) - 1, -1, -1):\n",
    "            res[i] *= postfix\n",
    "            postfix *= nums[i]\n",
    "        return res"
   ]
  },
  {
   "cell_type": "markdown",
   "metadata": {},
   "source": [
    "### Valid Sudoku\n",
    "> Check the given sudoku board is valid or not\n",
    "\n",
    "**Question Link -**\n",
    "[Leetcode 36 - Valid Sudoku](https://leetcode.com/problems/valid-sudoku/)\n",
    "\n",
    "\n",
    "**Steps**\n",
    "- make 3 default dicts\n",
    "- check every values in their appropriate cols,rows and squares\n",
    "- append it to default dict"
   ]
  },
  {
   "cell_type": "code",
   "execution_count": null,
   "metadata": {},
   "outputs": [],
   "source": [
    "class Solution:\n",
    "    def isValidSudoku(self, board: List[List[str]]) -> bool:\n",
    "        cols = collections.defaultdict(set)\n",
    "        rows = collections.defaultdict(set)\n",
    "        squares = collections.defaultdict(set) # key = (r /3, c /3)\n",
    "        \n",
    "        for r in range(9):\n",
    "            for c in range(9):\n",
    "                if board[r][c] == \".\":\n",
    "                    continue\n",
    "                if (board[r][c] in rows[r] or\n",
    "                    board[r][c] in cols[c] or\n",
    "                    board[r][c] in squares[(r // 3, c // 3)]):\n",
    "                    return False\n",
    "                cols[c].add(board[r][c])\n",
    "                rows[r].add(board[r][c])\n",
    "                squares[(r // 3, c // 3)].add(board[r][c])\n",
    "                \n",
    "        return True"
   ]
  },
  {
   "cell_type": "markdown",
   "metadata": {},
   "source": [
    "### Encode And Decode Strings\n",
    "> Encode and decode data using `#` and length\n",
    "\n",
    "**Question Link -**\n",
    "[Leetcode 271 - Encode And Decode Strings](https://leetcode.com/problems/encode-and-decode-strings/)\n",
    "\n",
    "\n",
    "**Steps**\n",
    "- encode it using length and `#`\n",
    "- decode using a single pointer\n",
    "    - use a second pointer inside to get the length\n",
    "    - get length , get string\n",
    "    - change the top pointer"
   ]
  },
  {
   "cell_type": "code",
   "execution_count": null,
   "metadata": {},
   "outputs": [],
   "source": [
    "class Solution:\n",
    "    def encode(self, strs):\n",
    "        res = \"\"\n",
    "        for s in strs:\n",
    "            res += str(len(s)) + \"#\" + s\n",
    "        return res\n",
    "\n",
    "    def decode(self, str):\n",
    "        res, i = [], 0\n",
    "\n",
    "        while i < len(str):\n",
    "            j = i\n",
    "            while str[j] != \"#\":\n",
    "                j += 1\n",
    "            length = int(str[i:j])\n",
    "            res.append(str[j + 1 : j + 1 + length])\n",
    "            i = j + 1 + length\n",
    "        return res"
   ]
  },
  {
   "cell_type": "markdown",
   "metadata": {},
   "source": [
    "### Longest Consecutive Sequence\n",
    "> Find the longest consecutive sequence\n",
    "\n",
    "**Question Link -**\n",
    "[Leetcode 128 - Longest Consecutive Sequence](https://leetcode.com/problems/longest-consecutive-sequence/)\n",
    "\n",
    "\n",
    "**Steps**\n",
    "- check if it the start of sequence\n",
    "- start increasing and check the existence\n",
    "- update the length of longest"
   ]
  },
  {
   "cell_type": "code",
   "execution_count": null,
   "metadata": {},
   "outputs": [],
   "source": [
    "class Solution:\n",
    "    def longestConsecutive(self, nums: List[int]) -> int:\n",
    "        numSet = set(nums)\n",
    "        longest = 0\n",
    "        \n",
    "        for n in nums:\n",
    "            # check if its the start of a sequence\n",
    "            if (n - 1) not in numSet:\n",
    "                length = 1\n",
    "                while (n + length) in numSet:\n",
    "                    length += 1\n",
    "                longest = max(length, longest)\n",
    "        return longest"
   ]
  },
  {
   "cell_type": "code",
   "execution_count": null,
   "metadata": {},
   "outputs": [],
   "source": []
  },
  {
   "cell_type": "code",
   "execution_count": null,
   "metadata": {},
   "outputs": [],
   "source": []
  },
  {
   "cell_type": "code",
   "execution_count": null,
   "metadata": {},
   "outputs": [],
   "source": []
  },
  {
   "cell_type": "code",
   "execution_count": null,
   "metadata": {},
   "outputs": [],
   "source": []
  },
  {
   "cell_type": "code",
   "execution_count": null,
   "metadata": {},
   "outputs": [],
   "source": []
  },
  {
   "cell_type": "code",
   "execution_count": null,
   "metadata": {},
   "outputs": [],
   "source": []
  },
  {
   "cell_type": "code",
   "execution_count": null,
   "metadata": {},
   "outputs": [],
   "source": []
  },
  {
   "cell_type": "code",
   "execution_count": null,
   "metadata": {},
   "outputs": [],
   "source": []
  },
  {
   "cell_type": "code",
   "execution_count": null,
   "metadata": {},
   "outputs": [],
   "source": []
  },
  {
   "cell_type": "code",
   "execution_count": null,
   "metadata": {},
   "outputs": [],
   "source": []
  },
  {
   "cell_type": "code",
   "execution_count": null,
   "metadata": {},
   "outputs": [],
   "source": []
  },
  {
   "cell_type": "code",
   "execution_count": null,
   "metadata": {},
   "outputs": [],
   "source": []
  },
  {
   "cell_type": "code",
   "execution_count": null,
   "metadata": {},
   "outputs": [],
   "source": []
  },
  {
   "cell_type": "code",
   "execution_count": null,
   "metadata": {},
   "outputs": [],
   "source": []
  },
  {
   "cell_type": "code",
   "execution_count": null,
   "metadata": {},
   "outputs": [],
   "source": []
  },
  {
   "cell_type": "code",
   "execution_count": null,
   "metadata": {},
   "outputs": [],
   "source": []
  },
  {
   "cell_type": "code",
   "execution_count": null,
   "metadata": {},
   "outputs": [],
   "source": []
  },
  {
   "cell_type": "code",
   "execution_count": null,
   "metadata": {},
   "outputs": [],
   "source": []
  },
  {
   "cell_type": "code",
   "execution_count": null,
   "metadata": {},
   "outputs": [],
   "source": []
  },
  {
   "cell_type": "code",
   "execution_count": null,
   "metadata": {},
   "outputs": [],
   "source": []
  },
  {
   "cell_type": "code",
   "execution_count": null,
   "metadata": {},
   "outputs": [],
   "source": []
  },
  {
   "cell_type": "code",
   "execution_count": null,
   "metadata": {},
   "outputs": [],
   "source": []
  },
  {
   "cell_type": "code",
   "execution_count": null,
   "metadata": {},
   "outputs": [],
   "source": []
  },
  {
   "cell_type": "code",
   "execution_count": null,
   "metadata": {},
   "outputs": [],
   "source": []
  },
  {
   "cell_type": "code",
   "execution_count": null,
   "metadata": {},
   "outputs": [],
   "source": []
  },
  {
   "cell_type": "code",
   "execution_count": null,
   "metadata": {},
   "outputs": [],
   "source": []
  },
  {
   "cell_type": "code",
   "execution_count": null,
   "metadata": {},
   "outputs": [],
   "source": []
  },
  {
   "cell_type": "code",
   "execution_count": null,
   "metadata": {},
   "outputs": [],
   "source": []
  },
  {
   "cell_type": "code",
   "execution_count": null,
   "metadata": {},
   "outputs": [],
   "source": []
  },
  {
   "cell_type": "code",
   "execution_count": null,
   "metadata": {},
   "outputs": [],
   "source": []
  },
  {
   "cell_type": "code",
   "execution_count": null,
   "metadata": {},
   "outputs": [],
   "source": []
  },
  {
   "cell_type": "code",
   "execution_count": null,
   "metadata": {},
   "outputs": [],
   "source": []
  },
  {
   "cell_type": "code",
   "execution_count": null,
   "metadata": {},
   "outputs": [],
   "source": []
  },
  {
   "cell_type": "code",
   "execution_count": null,
   "metadata": {},
   "outputs": [],
   "source": []
  },
  {
   "cell_type": "code",
   "execution_count": null,
   "metadata": {},
   "outputs": [],
   "source": []
  },
  {
   "cell_type": "code",
   "execution_count": null,
   "metadata": {},
   "outputs": [],
   "source": []
  },
  {
   "cell_type": "code",
   "execution_count": null,
   "metadata": {},
   "outputs": [],
   "source": []
  },
  {
   "cell_type": "code",
   "execution_count": null,
   "metadata": {},
   "outputs": [],
   "source": []
  },
  {
   "cell_type": "code",
   "execution_count": null,
   "metadata": {},
   "outputs": [],
   "source": []
  },
  {
   "cell_type": "code",
   "execution_count": null,
   "metadata": {},
   "outputs": [],
   "source": []
  },
  {
   "cell_type": "code",
   "execution_count": null,
   "metadata": {},
   "outputs": [],
   "source": []
  },
  {
   "cell_type": "code",
   "execution_count": null,
   "metadata": {},
   "outputs": [],
   "source": []
  },
  {
   "cell_type": "code",
   "execution_count": null,
   "metadata": {},
   "outputs": [],
   "source": []
  },
  {
   "cell_type": "code",
   "execution_count": null,
   "metadata": {},
   "outputs": [],
   "source": []
  },
  {
   "cell_type": "code",
   "execution_count": null,
   "metadata": {},
   "outputs": [],
   "source": []
  },
  {
   "cell_type": "code",
   "execution_count": null,
   "metadata": {},
   "outputs": [],
   "source": []
  },
  {
   "cell_type": "code",
   "execution_count": null,
   "metadata": {},
   "outputs": [],
   "source": []
  },
  {
   "cell_type": "code",
   "execution_count": null,
   "metadata": {},
   "outputs": [],
   "source": []
  },
  {
   "cell_type": "code",
   "execution_count": null,
   "metadata": {},
   "outputs": [],
   "source": []
  },
  {
   "cell_type": "code",
   "execution_count": null,
   "metadata": {},
   "outputs": [],
   "source": []
  },
  {
   "cell_type": "code",
   "execution_count": null,
   "metadata": {},
   "outputs": [],
   "source": []
  },
  {
   "cell_type": "code",
   "execution_count": null,
   "metadata": {},
   "outputs": [],
   "source": []
  },
  {
   "cell_type": "code",
   "execution_count": null,
   "metadata": {},
   "outputs": [],
   "source": []
  },
  {
   "cell_type": "code",
   "execution_count": null,
   "metadata": {},
   "outputs": [],
   "source": []
  },
  {
   "cell_type": "code",
   "execution_count": null,
   "metadata": {},
   "outputs": [],
   "source": []
  },
  {
   "cell_type": "code",
   "execution_count": null,
   "metadata": {},
   "outputs": [],
   "source": []
  },
  {
   "cell_type": "code",
   "execution_count": null,
   "metadata": {},
   "outputs": [],
   "source": []
  },
  {
   "cell_type": "code",
   "execution_count": null,
   "metadata": {},
   "outputs": [],
   "source": []
  },
  {
   "cell_type": "code",
   "execution_count": null,
   "metadata": {},
   "outputs": [],
   "source": []
  },
  {
   "cell_type": "code",
   "execution_count": null,
   "metadata": {},
   "outputs": [],
   "source": []
  },
  {
   "cell_type": "code",
   "execution_count": null,
   "metadata": {},
   "outputs": [],
   "source": []
  },
  {
   "cell_type": "code",
   "execution_count": null,
   "metadata": {},
   "outputs": [],
   "source": []
  },
  {
   "cell_type": "code",
   "execution_count": null,
   "metadata": {},
   "outputs": [],
   "source": []
  },
  {
   "cell_type": "code",
   "execution_count": null,
   "metadata": {},
   "outputs": [],
   "source": []
  },
  {
   "cell_type": "code",
   "execution_count": null,
   "metadata": {},
   "outputs": [],
   "source": []
  },
  {
   "cell_type": "code",
   "execution_count": null,
   "metadata": {},
   "outputs": [],
   "source": []
  },
  {
   "cell_type": "code",
   "execution_count": null,
   "metadata": {},
   "outputs": [],
   "source": []
  },
  {
   "cell_type": "code",
   "execution_count": null,
   "metadata": {},
   "outputs": [],
   "source": []
  },
  {
   "cell_type": "code",
   "execution_count": null,
   "metadata": {},
   "outputs": [],
   "source": []
  },
  {
   "cell_type": "code",
   "execution_count": null,
   "metadata": {},
   "outputs": [],
   "source": []
  },
  {
   "cell_type": "code",
   "execution_count": null,
   "metadata": {},
   "outputs": [],
   "source": []
  },
  {
   "cell_type": "code",
   "execution_count": null,
   "metadata": {},
   "outputs": [],
   "source": []
  },
  {
   "cell_type": "code",
   "execution_count": null,
   "metadata": {},
   "outputs": [],
   "source": []
  },
  {
   "cell_type": "code",
   "execution_count": null,
   "metadata": {},
   "outputs": [],
   "source": []
  },
  {
   "cell_type": "code",
   "execution_count": null,
   "metadata": {},
   "outputs": [],
   "source": []
  },
  {
   "cell_type": "code",
   "execution_count": null,
   "metadata": {},
   "outputs": [],
   "source": []
  },
  {
   "cell_type": "code",
   "execution_count": null,
   "metadata": {},
   "outputs": [],
   "source": []
  },
  {
   "cell_type": "code",
   "execution_count": null,
   "metadata": {},
   "outputs": [],
   "source": []
  },
  {
   "cell_type": "code",
   "execution_count": null,
   "metadata": {},
   "outputs": [],
   "source": []
  },
  {
   "cell_type": "code",
   "execution_count": null,
   "metadata": {},
   "outputs": [],
   "source": []
  },
  {
   "cell_type": "code",
   "execution_count": null,
   "metadata": {},
   "outputs": [],
   "source": []
  },
  {
   "cell_type": "code",
   "execution_count": null,
   "metadata": {},
   "outputs": [],
   "source": []
  },
  {
   "cell_type": "code",
   "execution_count": null,
   "metadata": {},
   "outputs": [],
   "source": []
  },
  {
   "cell_type": "code",
   "execution_count": null,
   "metadata": {},
   "outputs": [],
   "source": []
  },
  {
   "cell_type": "code",
   "execution_count": null,
   "metadata": {},
   "outputs": [],
   "source": []
  },
  {
   "cell_type": "code",
   "execution_count": null,
   "metadata": {},
   "outputs": [],
   "source": []
  },
  {
   "cell_type": "code",
   "execution_count": null,
   "metadata": {},
   "outputs": [],
   "source": []
  },
  {
   "cell_type": "code",
   "execution_count": null,
   "metadata": {},
   "outputs": [],
   "source": []
  },
  {
   "cell_type": "code",
   "execution_count": null,
   "metadata": {},
   "outputs": [],
   "source": []
  },
  {
   "cell_type": "code",
   "execution_count": null,
   "metadata": {},
   "outputs": [],
   "source": []
  },
  {
   "cell_type": "code",
   "execution_count": null,
   "metadata": {},
   "outputs": [],
   "source": []
  },
  {
   "cell_type": "code",
   "execution_count": null,
   "metadata": {},
   "outputs": [],
   "source": []
  },
  {
   "cell_type": "code",
   "execution_count": null,
   "metadata": {},
   "outputs": [],
   "source": []
  },
  {
   "cell_type": "code",
   "execution_count": null,
   "metadata": {},
   "outputs": [],
   "source": []
  },
  {
   "cell_type": "code",
   "execution_count": null,
   "metadata": {},
   "outputs": [],
   "source": []
  },
  {
   "cell_type": "code",
   "execution_count": null,
   "metadata": {},
   "outputs": [],
   "source": []
  },
  {
   "cell_type": "code",
   "execution_count": null,
   "metadata": {},
   "outputs": [],
   "source": []
  },
  {
   "cell_type": "code",
   "execution_count": null,
   "metadata": {},
   "outputs": [],
   "source": []
  },
  {
   "cell_type": "code",
   "execution_count": null,
   "metadata": {},
   "outputs": [],
   "source": []
  },
  {
   "cell_type": "code",
   "execution_count": null,
   "metadata": {},
   "outputs": [],
   "source": []
  },
  {
   "cell_type": "code",
   "execution_count": null,
   "metadata": {},
   "outputs": [],
   "source": []
  }
 ],
 "metadata": {
  "kernelspec": {
   "display_name": "Python 3.7.9 64-bit (microsoft store)",
   "language": "python",
   "name": "python3"
  },
  "language_info": {
   "codemirror_mode": {
    "name": "ipython",
    "version": 3
   },
   "file_extension": ".py",
   "mimetype": "text/x-python",
   "name": "python",
   "nbconvert_exporter": "python",
   "pygments_lexer": "ipython3",
   "version": "3.7.9"
  },
  "orig_nbformat": 4,
  "vscode": {
   "interpreter": {
    "hash": "c95ce671dc85a02f7dcb4a82e6ee0dd46a02f5d9b011cb4af12808a4af6c4059"
   }
  }
 },
 "nbformat": 4,
 "nbformat_minor": 2
}
