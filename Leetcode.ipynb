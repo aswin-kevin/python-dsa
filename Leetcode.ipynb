{
 "cells": [
  {
   "cell_type": "markdown",
   "metadata": {},
   "source": [
    "## Array & HashMap"
   ]
  },
  {
   "cell_type": "markdown",
   "metadata": {},
   "source": [
    "### Contains duplicate"
   ]
  },
  {
   "cell_type": "code",
   "execution_count": null,
   "metadata": {},
   "outputs": [],
   "source": [
    "class Solution:\n",
    "    def containsDuplicate(self, nums: List[int]) -> bool:\n",
    "        memo = set()\n",
    "        for i in nums:\n",
    "            if(i in memo):\n",
    "                return True\n",
    "            memo.add(i)                \n",
    "        return False"
   ]
  },
  {
   "cell_type": "markdown",
   "metadata": {},
   "source": [
    "### Valid anagram"
   ]
  },
  {
   "cell_type": "code",
   "execution_count": null,
   "metadata": {},
   "outputs": [],
   "source": [
    "class Solution:\n",
    "    def isAnagram(self, s: str, t: str) -> bool:\n",
    "        if(\"\".join(sorted(s)) == \"\".join(sorted(t))):\n",
    "            return True\n",
    "        else:\n",
    "            return False\n",
    "        "
   ]
  },
  {
   "cell_type": "markdown",
   "metadata": {},
   "source": [
    "### Two sum"
   ]
  },
  {
   "cell_type": "code",
   "execution_count": null,
   "metadata": {},
   "outputs": [],
   "source": [
    "class Solution:\n",
    "    def twoSum(self, nums: List[int], target: int) -> List[int]:\n",
    "        tracker = {}\n",
    "        for ind,num in enumerate(nums):\n",
    "            remainder = target-num\n",
    "            if(remainder in tracker):\n",
    "                return [ind,tracker[remainder]]\n",
    "            tracker[num] = ind\n",
    "        return\n",
    "        "
   ]
  },
  {
   "cell_type": "markdown",
   "metadata": {},
   "source": [
    "### Group anagrams"
   ]
  },
  {
   "cell_type": "code",
   "execution_count": null,
   "metadata": {},
   "outputs": [],
   "source": [
    "class Solution:\n",
    "    def groupAnagrams(self, strs: List[str]) -> List[List[str]]:\n",
    "        res = {}\n",
    "        for word in strs:\n",
    "            sorted_w = \"\".join(sorted(word))\n",
    "            try:\n",
    "                res[sorted_w].append(word)\n",
    "            except:\n",
    "                res[sorted_w] = [word]\n",
    "        return res.values()\n",
    "        "
   ]
  },
  {
   "cell_type": "markdown",
   "metadata": {},
   "source": [
    "### Top K frequent element"
   ]
  },
  {
   "cell_type": "code",
   "execution_count": null,
   "metadata": {},
   "outputs": [],
   "source": [
    "class Solution:\n",
    "    def topKFrequent(self, nums: List[int], k: int) -> List[int]:\n",
    "        tracker = {}\n",
    "        for num in nums:\n",
    "            try:\n",
    "                tracker[num] = tracker[num]+1\n",
    "            except:\n",
    "                tracker[num] = 1\n",
    "        tracker = sorted(tracker.items(),key=lambda x:(x[1],x[0]),reverse=True)\n",
    "        if len(tracker) < k:\n",
    "            return [x[0] for x in tracker]\n",
    "        return [x[0] for x in tracker[:k]]\n",
    "        "
   ]
  },
  {
   "cell_type": "markdown",
   "metadata": {},
   "source": [
    "### Product of array except self"
   ]
  },
  {
   "cell_type": "code",
   "execution_count": null,
   "metadata": {},
   "outputs": [],
   "source": [
    "class Solution:\n",
    "    def productExceptSelf(self, nums: List[int]) -> List[int]:\n",
    "        res = [1]*len(nums)\n",
    "        temp = [*nums]\n",
    "        for ind in range(len(nums)):\n",
    "            temp[ind] = 1\n",
    "            prod = 1\n",
    "            for i in temp:\n",
    "                prod = prod*i\n",
    "            res[ind] = prod\n",
    "            temp[ind] = nums[ind]\n",
    "        return res\n",
    "        "
   ]
  },
  {
   "cell_type": "markdown",
   "metadata": {},
   "source": [
    "### Is valid sudoku"
   ]
  },
  {
   "cell_type": "code",
   "execution_count": null,
   "metadata": {},
   "outputs": [],
   "source": [
    "class Solution:\n",
    "    def isValidSudoku(self, board: List[List[str]]) -> bool:\n",
    "        cols = collections.defaultdict(set)\n",
    "        rows = collections.defaultdict(set)\n",
    "        squares = collections.defaultdict(set) # key = (r /3, c /3)\n",
    "        \n",
    "        for r in range(9):\n",
    "            for c in range(9):\n",
    "                if board[r][c] == \".\":\n",
    "                    continue\n",
    "                if (board[r][c] in rows[r] or\n",
    "                    board[r][c] in cols[c] or\n",
    "                    board[r][c] in squares[(r // 3, c // 3)]):\n",
    "                    return False\n",
    "                cols[c].add(board[r][c])\n",
    "                rows[r].add(board[r][c])\n",
    "                squares[(r // 3, c // 3)].add(board[r][c])\n",
    "                \n",
    "        return True"
   ]
  },
  {
   "cell_type": "markdown",
   "metadata": {},
   "source": [
    "### String encode and decode program"
   ]
  },
  {
   "cell_type": "code",
   "execution_count": null,
   "metadata": {},
   "outputs": [],
   "source": [
    "class Solution:\n",
    "\n",
    "    def encode(self, strs):\n",
    "        # write your code here\n",
    "        res = \"\"\n",
    "        for word in strs:\n",
    "            res = res+str(len(word)) + \"#\" + word\n",
    "        return res\n",
    "\n",
    "    def decode(self, str):\n",
    "        # write your code here\n",
    "        res = []\n",
    "        index = 0\n",
    "        while index < len(str):\n",
    "            j = index\n",
    "            while str[j] != \"#\":\n",
    "                j = j+1\n",
    "            word_len = int(str[j-1])\n",
    "            res.append(str[j+1:j+1+word_len])\n",
    "            index = j+1+word_len\n",
    "        return res"
   ]
  },
  {
   "cell_type": "markdown",
   "metadata": {},
   "source": [
    "### Longest consecutive"
   ]
  },
  {
   "cell_type": "code",
   "execution_count": null,
   "metadata": {},
   "outputs": [],
   "source": [
    "class Solution:\n",
    "    def longestConsecutive(self, nums: List[int]) -> int:\n",
    "        numSet = set(nums)\n",
    "        longest = 0\n",
    "        \n",
    "        for n in nums:\n",
    "            # check if its the start of a sequence\n",
    "            if (n - 1) not in numSet:\n",
    "                length = 1\n",
    "                while (n + length) in numSet:\n",
    "                    length += 1\n",
    "                longest = max(length, longest)\n",
    "        return longest"
   ]
  },
  {
   "cell_type": "markdown",
   "metadata": {},
   "source": [
    "## Two Pointer"
   ]
  },
  {
   "cell_type": "markdown",
   "metadata": {},
   "source": [
    "### Valid Palindrome"
   ]
  },
  {
   "cell_type": "code",
   "execution_count": null,
   "metadata": {},
   "outputs": [],
   "source": [
    "class Solution:\n",
    "    def isPalindrome(self, s: str) -> bool:\n",
    "        filtered_str = self.filter_str(s.lower())\n",
    "        l = 0\n",
    "        r = len(filtered_str)-1\n",
    "        while l<r:\n",
    "            if filtered_str[l] != filtered_str[r]:\n",
    "                return False\n",
    "            l += 1\n",
    "            r -= 1\n",
    "        return True\n",
    "        \n",
    "    def filter_str(self,s):\n",
    "        return \"\".join([x for x in s if x.isalnum()])"
   ]
  },
  {
   "cell_type": "markdown",
   "metadata": {},
   "source": [
    "### Two sum"
   ]
  },
  {
   "cell_type": "code",
   "execution_count": null,
   "metadata": {},
   "outputs": [],
   "source": [
    "class Solution:    \n",
    "    def twoSum(self, numbers: List[int], target: int) -> List[int]:\n",
    "        l = 0\n",
    "        r = len(numbers)-1\n",
    "        while l<r:\n",
    "            _sum = numbers[l]+numbers[r]\n",
    "            if(_sum==target):\n",
    "                return [l+1,r+1]\n",
    "            elif(_sum>target):\n",
    "                r -= 1\n",
    "            elif(_sum<target):\n",
    "                l += 1\n",
    "        "
   ]
  },
  {
   "cell_type": "markdown",
   "metadata": {},
   "source": [
    "### 3 sum"
   ]
  },
  {
   "cell_type": "code",
   "execution_count": null,
   "metadata": {},
   "outputs": [],
   "source": [
    "class Solution:\n",
    "    def threeSum(self, nums: List[int]) -> List[List[int]]:\n",
    "        res = []\n",
    "        nums.sort()\n",
    "        target = 0\n",
    "        \n",
    "        for i,num in enumerate(nums):\n",
    "            if(i>0 and num == nums[i-1]):\n",
    "                continue\n",
    "            l,r = i+1,len(nums)-1\n",
    "            while l<r:\n",
    "                _sum = nums[i] + nums[l] + nums[r]\n",
    "                if(_sum > target):\n",
    "                    r -= 1\n",
    "                elif(_sum < target):\n",
    "                    l += 1\n",
    "                else:\n",
    "                    res.append([nums[i], nums[l], nums[r]])\n",
    "                    l += 1\n",
    "                    while l<r and nums[l] == nums[l-1]:\n",
    "                        l += 1\n",
    "        return res\n",
    "        \n",
    "        "
   ]
  },
  {
   "cell_type": "markdown",
   "metadata": {},
   "source": [
    "### Container with most water"
   ]
  },
  {
   "cell_type": "code",
   "execution_count": null,
   "metadata": {},
   "outputs": [],
   "source": [
    "class Solution:\n",
    "    def maxArea(self, height: List[int]) -> int:\n",
    "        l,r = 0,len(height)-1\n",
    "        largest = 0\n",
    "        while l<r:\n",
    "            min_data = min(height[l],height[r])\n",
    "            length = r-l\n",
    "            largest = max(largest,min_data*length)\n",
    "            if(min_data == height[l]):\n",
    "                l += 1\n",
    "            else:\n",
    "                r -= 1\n",
    "        return largest\n",
    "        "
   ]
  },
  {
   "cell_type": "markdown",
   "metadata": {},
   "source": [
    "### Trapping rain water"
   ]
  },
  {
   "cell_type": "code",
   "execution_count": null,
   "metadata": {},
   "outputs": [],
   "source": [
    "class Solution:\n",
    "    def trap(self, height: List[int]) -> int:\n",
    "        if not height: return 0\n",
    "        res = 0\n",
    "        l,r = 0,len(height)-1\n",
    "        leftmax,rightmax= height[l],height[r]\n",
    "        \n",
    "        while l<r:\n",
    "            if(leftmax < rightmax):\n",
    "                l += 1\n",
    "                leftmax = max(leftmax,height[l])\n",
    "                res += leftmax - height[l]\n",
    "            else:\n",
    "                r -= 1\n",
    "                rightmax = max(rightmax,height[r])\n",
    "                res += rightmax - height[r]\n",
    "        return res\n",
    "        "
   ]
  },
  {
   "cell_type": "markdown",
   "metadata": {},
   "source": [
    "## Sliding window"
   ]
  },
  {
   "cell_type": "markdown",
   "metadata": {},
   "source": [
    "### Buy and sell stocks"
   ]
  },
  {
   "cell_type": "code",
   "execution_count": null,
   "metadata": {},
   "outputs": [],
   "source": [
    "class Solution:\n",
    "    def maxProfit(self, prices: List[int]) -> int:\n",
    "        l,r = 0,1\n",
    "        max_profit = 0\n",
    "        while r<len(prices):\n",
    "            if(prices[l] < prices[r]):\n",
    "                profit = prices[r] - prices[l]\n",
    "                max_profit = max(profit,max_profit)\n",
    "            else:\n",
    "                l = r\n",
    "            r += 1\n",
    "        return max_profit\n",
    "        "
   ]
  },
  {
   "cell_type": "markdown",
   "metadata": {},
   "source": [
    "### Longest substring without repetition"
   ]
  },
  {
   "cell_type": "code",
   "execution_count": null,
   "metadata": {},
   "outputs": [],
   "source": [
    "class Solution:\n",
    "    def lengthOfLongestSubstring(self, s: str) -> int:\n",
    "        char_set = set()\n",
    "        l = 0\n",
    "        res = 0\n",
    "        for r in range(len(s)):\n",
    "            while s[r] in char_set:\n",
    "                char_set.remove(s[l])\n",
    "                l += 1\n",
    "            char_set.add(s[r])\n",
    "            res = max(res,r-l+1)\n",
    "        return res\n",
    "        "
   ]
  },
  {
   "cell_type": "markdown",
   "metadata": {},
   "source": [
    "### Longest Repeating Character Replacement"
   ]
  },
  {
   "cell_type": "code",
   "execution_count": null,
   "metadata": {},
   "outputs": [],
   "source": [
    "class Solution:\n",
    "    def characterReplacement(self, s: str, k: int) -> int:\n",
    "        count = {}\n",
    "        res = 0\n",
    "        maxf = 0\n",
    "        l = 0\n",
    "        \n",
    "        for r in range(len(s)):\n",
    "            count[s[r]] = 1 + count.get(s[r],0)\n",
    "            maxf = max(maxf,count[s[r]])\n",
    "            \n",
    "            if (r-l+1)-maxf > k:\n",
    "                count[s[l]] -= 1\n",
    "                l += 1\n",
    "            res = max(res,r-l+1)\n",
    "        return res\n",
    "                "
   ]
  },
  {
   "cell_type": "markdown",
   "metadata": {},
   "source": [
    "### Permutation in String"
   ]
  },
  {
   "cell_type": "code",
   "execution_count": null,
   "metadata": {},
   "outputs": [],
   "source": [
    "class Solution:\n",
    "    def checkInclusion(self, s1: str, s2: str) -> bool:\n",
    "        if len(s1) > len(s2):\n",
    "            return False\n",
    "        s1_ord = \"\".join(sorted(s1))\n",
    "        \n",
    "        l = 0\n",
    "        r = len(s1)-1\n",
    "        while r<=len(s2):\n",
    "            if(s1_ord == \"\".join(sorted(s2[l:r+1]))):\n",
    "                return True\n",
    "            l += 1\n",
    "            r += 1\n",
    "        return False\n",
    "        "
   ]
  },
  {
   "cell_type": "code",
   "execution_count": null,
   "metadata": {},
   "outputs": [],
   "source": []
  },
  {
   "cell_type": "code",
   "execution_count": null,
   "metadata": {},
   "outputs": [],
   "source": []
  },
  {
   "cell_type": "markdown",
   "metadata": {},
   "source": [
    "## Stacks"
   ]
  },
  {
   "cell_type": "markdown",
   "metadata": {},
   "source": [
    "### Valid Parentheses"
   ]
  },
  {
   "cell_type": "code",
   "execution_count": null,
   "metadata": {},
   "outputs": [],
   "source": [
    "class Solution:\n",
    "    def isValid(self, s: str) -> bool:\n",
    "        stack = []\n",
    "        close_nd_open = {\")\": \"(\", \"]\": \"[\", \"}\": \"{\"}\n",
    "        for c in s:\n",
    "            if c in close_nd_open:\n",
    "                if stack and stack[-1] == close_nd_open[c]:\n",
    "                    stack.pop()\n",
    "                else:\n",
    "                    return False\n",
    "            else:\n",
    "                stack.append(c)\n",
    "        return True if not stack else False\n",
    "        "
   ]
  },
  {
   "cell_type": "markdown",
   "metadata": {},
   "source": [
    "### Implement a stack"
   ]
  },
  {
   "cell_type": "code",
   "execution_count": null,
   "metadata": {},
   "outputs": [],
   "source": [
    "class MinStack:\n",
    "\n",
    "    def __init__(self):\n",
    "        self.stack = []\n",
    "        self.min = []\n",
    "        \n",
    "\n",
    "    def push(self, val: int) -> None:\n",
    "        self.stack.append(val)\n",
    "        _min = min(val,self.min[-1] if self.min else val)\n",
    "        self.min.append(_min)\n",
    "\n",
    "    def pop(self) -> None:\n",
    "        self.stack.pop()\n",
    "        self.min.pop()\n",
    "        \n",
    "\n",
    "    def top(self) -> int:\n",
    "        return self.stack[-1]\n",
    "        \n",
    "\n",
    "    def getMin(self) -> int:\n",
    "        return self.min[-1]\n",
    "\n",
    "\n",
    "# Your MinStack object will be instantiated and called as such:\n",
    "# obj = MinStack()\n",
    "# obj.push(val)\n",
    "# obj.pop()\n",
    "# param_3 = obj.top()\n",
    "# param_4 = obj.getMin()"
   ]
  },
  {
   "cell_type": "markdown",
   "metadata": {},
   "source": [
    "### Evaluate Reverse Polish Notation"
   ]
  },
  {
   "cell_type": "code",
   "execution_count": null,
   "metadata": {},
   "outputs": [],
   "source": [
    "class Solution:\n",
    "    def evalRPN(self, tokens: List[str]) -> int:\n",
    "        stack = []\n",
    "        for tok in tokens:\n",
    "            if(tok == \"+\"):\n",
    "                stack.append(stack.pop()+stack.pop())\n",
    "            elif(tok == \"-\"):\n",
    "                a,b=stack.pop(),stack.pop()\n",
    "                stack.append(b-a)\n",
    "            elif(tok == \"*\"):\n",
    "                stack.append(stack.pop()*stack.pop())\n",
    "            elif(tok == \"/\"):\n",
    "                a,b=stack.pop(),stack.pop()\n",
    "                stack.append(int(b/a))\n",
    "            else:\n",
    "                stack.append(int(tok))\n",
    "        return stack[0]"
   ]
  },
  {
   "cell_type": "markdown",
   "metadata": {},
   "source": [
    "### Generate Parentheses"
   ]
  },
  {
   "cell_type": "code",
   "execution_count": null,
   "metadata": {},
   "outputs": [],
   "source": [
    "class Solution:\n",
    "    def generateParenthesis(self, n: int) -> List[str]:\n",
    "        stack = []\n",
    "        res = []\n",
    "        \n",
    "        def backtrack(openN,closedN):\n",
    "            if(openN == closedN == n):\n",
    "                res.append(\"\".join(stack))\n",
    "                return\n",
    "            \n",
    "            if(openN < n):\n",
    "                stack.append(\"(\")\n",
    "                backtrack(openN+1,closedN)\n",
    "                stack.pop()\n",
    "            \n",
    "            if(closedN < openN):\n",
    "                stack.append(\")\")\n",
    "                backtrack(openN,closedN+1)\n",
    "                stack.pop()\n",
    "        backtrack(0,0)\n",
    "        return res\n",
    "        "
   ]
  },
  {
   "cell_type": "markdown",
   "metadata": {},
   "source": [
    "### Daily Temperatures"
   ]
  },
  {
   "cell_type": "code",
   "execution_count": null,
   "metadata": {},
   "outputs": [],
   "source": [
    "class Solution:\n",
    "    def dailyTemperatures(self, temperatures: List[int]) -> List[int]:\n",
    "        res = [0] * len(temperatures)\n",
    "        stack = [] # pair: [temp, index]\n",
    "        \n",
    "        for i, t in enumerate(temperatures):\n",
    "            while stack and t > stack[-1][0]:\n",
    "                stackT, stackInd = stack.pop()\n",
    "                res[stackInd] = (i - stackInd)\n",
    "            stack.append([t, i])\n",
    "        return res"
   ]
  },
  {
   "cell_type": "markdown",
   "metadata": {},
   "source": [
    "### car fleet"
   ]
  },
  {
   "cell_type": "code",
   "execution_count": null,
   "metadata": {},
   "outputs": [],
   "source": [
    "class Solution:\n",
    "    def carFleet(self, target: int, position: List[int], speed: List[int]) -> int:\n",
    "        pair = [[x,y] for x,y in zip(position,speed)]\n",
    "        stack = []\n",
    "        \n",
    "        for p,s in sorted(pair,reverse=True):\n",
    "            stack.append((target-p)/s)\n",
    "            if len(stack) >= 2 and stack[-2] >= stack[-1]:\n",
    "                stack.pop()\n",
    "        return len(stack)"
   ]
  },
  {
   "cell_type": "code",
   "execution_count": null,
   "metadata": {},
   "outputs": [],
   "source": []
  },
  {
   "cell_type": "code",
   "execution_count": null,
   "metadata": {},
   "outputs": [],
   "source": []
  },
  {
   "cell_type": "code",
   "execution_count": null,
   "metadata": {},
   "outputs": [],
   "source": []
  },
  {
   "cell_type": "code",
   "execution_count": null,
   "metadata": {},
   "outputs": [],
   "source": []
  },
  {
   "cell_type": "code",
   "execution_count": null,
   "metadata": {},
   "outputs": [],
   "source": []
  },
  {
   "cell_type": "code",
   "execution_count": null,
   "metadata": {},
   "outputs": [],
   "source": []
  },
  {
   "cell_type": "code",
   "execution_count": null,
   "metadata": {},
   "outputs": [],
   "source": []
  },
  {
   "cell_type": "code",
   "execution_count": null,
   "metadata": {},
   "outputs": [],
   "source": []
  },
  {
   "cell_type": "code",
   "execution_count": null,
   "metadata": {},
   "outputs": [],
   "source": []
  },
  {
   "cell_type": "code",
   "execution_count": null,
   "metadata": {},
   "outputs": [],
   "source": []
  },
  {
   "cell_type": "code",
   "execution_count": null,
   "metadata": {},
   "outputs": [],
   "source": []
  },
  {
   "cell_type": "code",
   "execution_count": null,
   "metadata": {},
   "outputs": [],
   "source": []
  }
 ],
 "metadata": {
  "kernelspec": {
   "display_name": "Python 3.7.9 64-bit (windows store)",
   "language": "python",
   "name": "python3"
  },
  "language_info": {
   "codemirror_mode": {
    "name": "ipython",
    "version": 3
   },
   "file_extension": ".py",
   "mimetype": "text/x-python",
   "name": "python",
   "nbconvert_exporter": "python",
   "pygments_lexer": "ipython3",
   "version": "3.7.9"
  },
  "orig_nbformat": 4,
  "vscode": {
   "interpreter": {
    "hash": "c95ce671dc85a02f7dcb4a82e6ee0dd46a02f5d9b011cb4af12808a4af6c4059"
   }
  }
 },
 "nbformat": 4,
 "nbformat_minor": 2
}
