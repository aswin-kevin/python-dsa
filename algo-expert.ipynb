{
 "cells": [
  {
   "cell_type": "markdown",
   "metadata": {},
   "source": [
    "### Algoexpert Datastructures"
   ]
  },
  {
   "cell_type": "markdown",
   "metadata": {},
   "source": [
    "### Tries\n",
    "\n",
    "- It is a tree data structure used to store mostly characters.\n",
    "\n",
    "\n",
    "\n",
    "### 1. Suffix Trie Construction\n",
    "\n",
    "**Steps**\n",
    "\n",
    "- Build a prefix tries for all the substrings from right to left\n",
    "- Instead of `isEnd` you can use `*` symbol"
   ]
  },
  {
   "cell_type": "code",
   "execution_count": null,
   "metadata": {},
   "outputs": [],
   "source": [
    "class SuffixTrie:\n",
    "    def __init__(self, string):\n",
    "        self.root = {}\n",
    "        self.endSymbol = \"*\"\n",
    "        self.populateSuffixTrieFrom(string)\n",
    "\n",
    "    def populateSuffixTrieFrom(self, string):\n",
    "        for ind in range(len(string)-1,-1,-1):\n",
    "          self.addString(string[ind:])\n",
    "\n",
    "    def addString(self,string):\n",
    "        current = self.root\n",
    "        for letter in string:\n",
    "          if letter not in current:\n",
    "            current[letter] = {}\n",
    "          current = current[letter]\n",
    "        current[self.endSymbol] = True\n",
    "\n",
    "\n",
    "    def contains(self, string):\n",
    "        current = self.root\n",
    "        for letter in string:\n",
    "          if letter in current:\n",
    "            current = current[letter]\n",
    "        if self.endSymbol in current:\n",
    "          return True\n",
    "        return False"
   ]
  },
  {
   "cell_type": "markdown",
   "metadata": {},
   "source": [
    "### 2. Multi String Search\n",
    "\n",
    "> Create a `string contains` check using prefix trie\n",
    "\n",
    "**Example**\n",
    "\n",
    "~~~\n",
    "\"this is a big string\"\n",
    "[\"this\", \"yo\", \"is\", \"a\", \"bigger\", \"string\", \"kappa\"]\n",
    "\n",
    "output\n",
    "[True, False, True, True, False, True, False]\n",
    "~~~\n",
    "\n",
    "\n",
    "\n",
    "**Steps**\n",
    "\n",
    "-  Create a prefix trie using small strings\n",
    "-  Pass the big string's substring in the check words function\n",
    "-  In every step check is the word ends or not\n",
    "-  If it ends then add it to `dict`\n",
    "-  Finally take all the strings and check in the `dict`"
   ]
  },
  {
   "cell_type": "code",
   "execution_count": null,
   "metadata": {},
   "outputs": [],
   "source": [
    "class Trie:\n",
    "  def __init__(self):\n",
    "    self.root = {}\n",
    "    self.isEnd = \"*\"\n",
    "\n",
    "  def insert(self,string):\n",
    "    current = self.root\n",
    "    for letter in string:\n",
    "      if letter not in current:\n",
    "        current[letter] = {}\n",
    "      current = current[letter]\n",
    "    current[self.isEnd] = string\n",
    "\n",
    "def multiStringSearch(bigString, smallStrings):\n",
    "  trie = Trie()\n",
    "  for string in smallStrings:\n",
    "    trie.insert(string)\n",
    "  containWords = {}\n",
    "  for ind in range(len(bigString)):\n",
    "    checkWords(bigString[ind:],trie,containWords)\n",
    "  return [string in containWords for string in smallStrings]\n",
    "\n",
    "def checkWords(string,trie,wordList):\n",
    "  current = trie.root\n",
    "  for char in string:\n",
    "    if char not in current:\n",
    "      break\n",
    "    current = current[char]\n",
    "    if trie.isEnd in current:\n",
    "      wordList[current[trie.isEnd]] = True"
   ]
  },
  {
   "cell_type": "markdown",
   "metadata": {},
   "source": [
    "### Strings\n",
    "\n",
    "> This section contains all questions related to string operations\n",
    "\n",
    "\n",
    "### 1. Palindrome Check\n",
    "\n",
    "> Check if the word is same when you read it from left to right and vice versa.\n",
    "\n",
    "\n",
    "**Steps**\n",
    "\n",
    "- Use two pointer to traverse\n",
    "- Left pointer should not cross the right pointer\n",
    "- Check if the string matches or not\n",
    "    - if it doesn't match then return false\n",
    "    - reduce the right pointer\n",
    "    - increase the left pointer\n",
    "- Return true at the end"
   ]
  },
  {
   "cell_type": "code",
   "execution_count": null,
   "metadata": {},
   "outputs": [],
   "source": [
    "def isPalindrome(string):\n",
    "    l = 0\n",
    "    r = len(string)-1\n",
    "    while l <= r:\n",
    "      if string[l] != string[r]:\n",
    "        return False\n",
    "      l += 1\n",
    "      r -= 1\n",
    "    return True"
   ]
  },
  {
   "cell_type": "markdown",
   "metadata": {},
   "source": [
    "### 2. Ceaser Cypher Encrypter\n",
    "\n",
    "> Shift all alphabets by `k` times\n",
    "\n",
    "~~~\n",
    "input\n",
    "string = \"xyz\"\n",
    "k = 2\n",
    "\n",
    "output = \"zab\"\n",
    "~~~\n",
    "\n",
    "\n",
    "**Steps**\n",
    "\n",
    "- Get shiftkey by mod using 26 \n",
    "- create a alphabets list\n",
    "- pass it to the function which gives you new index\n",
    "    - new index function add the shiftkey and %26\n",
    "    - return the new index value\n",
    "\n",
    "\n",
    "- Instead of string concat , use a array which reduces the time complexity"
   ]
  },
  {
   "cell_type": "code",
   "execution_count": null,
   "metadata": {},
   "outputs": [],
   "source": [
    "def caesarCipherEncryptor(string, key):\n",
    "    newString = \"\"\n",
    "    shiftKey = key%26\n",
    "    alphabets = list(\"abcdefghijklmnopqrstuvwxyz\")\n",
    "    for letter in string:\n",
    "      newString += getNewLetter(letter,shiftKey,alphabets)\n",
    "    return newString\n",
    "\n",
    "def getNewLetter(letter,shiftKey,alphabets):\n",
    "    newIndex = (alphabets.index(letter)+shiftKey)%26\n",
    "    return alphabets[newIndex]"
   ]
  },
  {
   "cell_type": "markdown",
   "metadata": {},
   "source": [
    "### 3. Run-Length Encoding\n",
    "\n",
    "> Short the length by adding the count\n",
    "\n",
    "~~~\n",
    "string = \"AAAAAAAAAAAAABBCCCCDD\"\n",
    "expected = \"9A4A2B4C2D\"\n",
    "~~~\n",
    "\n",
    "\n",
    "**Steps**\n",
    "\n",
    "- start the loop from 1\n",
    "- compare the prev with current \n",
    "- check the length\n",
    "- if it matches then append it\n",
    "- increase the length\n",
    "- append the final values\n",
    "- return the joined string"
   ]
  },
  {
   "cell_type": "code",
   "execution_count": null,
   "metadata": {},
   "outputs": [],
   "source": [
    "def runLengthEncoding(string):\n",
    "    newString = []\n",
    "    count = 1\n",
    "    for ind in range(1,len(string)):\n",
    "      current = string[ind]\n",
    "      prev = string[ind-1]\n",
    "      if current != prev or count == 9:\n",
    "        newString.append(f\"{count}{prev}\")\n",
    "        count = 0\n",
    "      count += 1\n",
    "    newString.append(f\"{count}{string[-1]}\")\n",
    "    return \"\".join(newString)"
   ]
  },
  {
   "cell_type": "code",
   "execution_count": null,
   "metadata": {},
   "outputs": [],
   "source": []
  },
  {
   "cell_type": "code",
   "execution_count": null,
   "metadata": {},
   "outputs": [],
   "source": []
  },
  {
   "cell_type": "code",
   "execution_count": null,
   "metadata": {},
   "outputs": [],
   "source": []
  },
  {
   "cell_type": "code",
   "execution_count": null,
   "metadata": {},
   "outputs": [],
   "source": []
  },
  {
   "cell_type": "code",
   "execution_count": null,
   "metadata": {},
   "outputs": [],
   "source": []
  },
  {
   "cell_type": "code",
   "execution_count": null,
   "metadata": {},
   "outputs": [],
   "source": []
  },
  {
   "cell_type": "code",
   "execution_count": null,
   "metadata": {},
   "outputs": [],
   "source": []
  }
 ],
 "metadata": {
  "kernelspec": {
   "display_name": "Python 3.7.9 64-bit (windows store)",
   "language": "python",
   "name": "python3"
  },
  "language_info": {
   "name": "python",
   "version": "3.7.9"
  },
  "orig_nbformat": 4,
  "vscode": {
   "interpreter": {
    "hash": "c95ce671dc85a02f7dcb4a82e6ee0dd46a02f5d9b011cb4af12808a4af6c4059"
   }
  }
 },
 "nbformat": 4,
 "nbformat_minor": 2
}
