{
 "cells": [
  {
   "cell_type": "markdown",
   "metadata": {},
   "source": [
    "## Memoization"
   ]
  },
  {
   "cell_type": "markdown",
   "metadata": {},
   "source": [
    "### Fibonacci"
   ]
  },
  {
   "cell_type": "code",
   "execution_count": 2,
   "metadata": {},
   "outputs": [
    {
     "data": {
      "text/plain": [
       "21"
      ]
     },
     "execution_count": 2,
     "metadata": {},
     "output_type": "execute_result"
    }
   ],
   "source": [
    "def fib(n,memo={}):\n",
    "    if(n in memo):\n",
    "        return memo[n]\n",
    "    if(n <= 2):\n",
    "        return 1\n",
    "    memo[n] = fib(n-1,memo) + fib(n-2,memo)\n",
    "    return memo[n]\n",
    "\n",
    "fib(8)"
   ]
  },
  {
   "cell_type": "markdown",
   "metadata": {},
   "source": [
    "### Grid traveller\n"
   ]
  },
  {
   "cell_type": "code",
   "execution_count": 6,
   "metadata": {},
   "outputs": [
    {
     "data": {
      "text/plain": [
       "2333606220"
      ]
     },
     "execution_count": 6,
     "metadata": {},
     "output_type": "execute_result"
    }
   ],
   "source": [
    "def grid_trav(m,n,memo={}):\n",
    "    pos = f\"{m}-{n}\"\n",
    "    if(pos in memo):\n",
    "        return memo[pos]\n",
    "    if(m == 1 and n == 1):\n",
    "        return 1\n",
    "    if(m <= 0 or n <= 0):\n",
    "        return 0\n",
    "    memo[pos] = grid_trav(m-1,n,memo) + grid_trav(m,n-1,memo)\n",
    "    return memo[pos]\n",
    "\n",
    "grid_trav(18,18)"
   ]
  },
  {
   "cell_type": "markdown",
   "metadata": {},
   "source": [
    "### Can sum"
   ]
  },
  {
   "cell_type": "code",
   "execution_count": 8,
   "metadata": {},
   "outputs": [
    {
     "data": {
      "text/plain": [
       "False"
      ]
     },
     "execution_count": 8,
     "metadata": {},
     "output_type": "execute_result"
    }
   ],
   "source": [
    "def can_sum(target_sum,numbers,memo={}):\n",
    "    if(target_sum in memo):\n",
    "        return memo[target_sum]\n",
    "    if(target_sum == 0):\n",
    "        return True\n",
    "    if(target_sum < 0):\n",
    "        return False\n",
    "    for num in numbers:\n",
    "        remainder = target_sum - num\n",
    "        memo[remainder] = can_sum(remainder,numbers,memo)\n",
    "        if(memo[remainder]):\n",
    "            return True\n",
    "    return False\n",
    "\n",
    "can_sum(5,[6,4,2])"
   ]
  },
  {
   "cell_type": "markdown",
   "metadata": {},
   "source": [
    "### How sum"
   ]
  },
  {
   "cell_type": "code",
   "execution_count": 13,
   "metadata": {},
   "outputs": [
    {
     "data": {
      "text/plain": [
       "(True, [3, 2])"
      ]
     },
     "execution_count": 13,
     "metadata": {},
     "output_type": "execute_result"
    }
   ],
   "source": [
    "def how_sum(target_sum,numbers,memo={}):\n",
    "    if(target_sum in memo):\n",
    "        return memo[target_sum],[]\n",
    "    if(target_sum == 0):\n",
    "        return True,[]\n",
    "    if(target_sum < 0):\n",
    "        return False,[]\n",
    "    for num in numbers:\n",
    "        remainder = target_sum - num\n",
    "        memo[remainder],resp = how_sum(remainder,numbers,memo)\n",
    "        if(memo[remainder]):\n",
    "            return True,[num,*resp]\n",
    "    return False,[]\n",
    "\n",
    "how_sum(5,[3,4,2])"
   ]
  },
  {
   "cell_type": "markdown",
   "metadata": {},
   "source": [
    "### Best sum"
   ]
  },
  {
   "cell_type": "code",
   "execution_count": 6,
   "metadata": {},
   "outputs": [
    {
     "data": {
      "text/plain": [
       "[10, 15]"
      ]
     },
     "execution_count": 6,
     "metadata": {},
     "output_type": "execute_result"
    }
   ],
   "source": [
    "def best_sum(target_sum,numbers,memo={}):\n",
    "    if(target_sum in memo):\n",
    "        return memo[target_sum]\n",
    "    if(target_sum == 0):\n",
    "        return []\n",
    "    if(target_sum < 0):\n",
    "        return None\n",
    "    b_sum = None\n",
    "    for num in numbers:\n",
    "        remainder = target_sum - num\n",
    "        memo[remainder] = best_sum(remainder,numbers,memo)\n",
    "        if(memo[remainder] != None):\n",
    "            combination = [num,*memo[remainder]]\n",
    "            if(b_sum == None or len(combination) < len(b_sum)):\n",
    "                b_sum = combination\n",
    "    return b_sum\n",
    "best_sum(25,[10,4,2,10,3,15])"
   ]
  },
  {
   "cell_type": "markdown",
   "metadata": {},
   "source": [
    "### Can construct"
   ]
  },
  {
   "cell_type": "code",
   "execution_count": 6,
   "metadata": {},
   "outputs": [
    {
     "data": {
      "text/plain": [
       "3"
      ]
     },
     "execution_count": 6,
     "metadata": {},
     "output_type": "execute_result"
    }
   ],
   "source": [
    "def can_const(suffix,words,memo={}):\n",
    "    if(suffix in memo):\n",
    "        return memo[suffix]\n",
    "    if(suffix == \"\"):\n",
    "        return True\n",
    "    for word in words:\n",
    "        if(suffix.startswith(word)):\n",
    "            sub_word = suffix[len(word):]\n",
    "            memo[sub_word] = can_const(sub_word,words,memo)\n",
    "            if(memo[sub_word]):\n",
    "                return True\n",
    "    return False\n",
    "\n",
    "can_const(\"parrot\", [\"pa\",\"t\",\"r\", \"o\", \"par\",\"p\", \"a\"])"
   ]
  },
  {
   "cell_type": "markdown",
   "metadata": {},
   "source": [
    "### count construct"
   ]
  },
  {
   "cell_type": "code",
   "execution_count": 7,
   "metadata": {},
   "outputs": [
    {
     "data": {
      "text/plain": [
       "3"
      ]
     },
     "execution_count": 7,
     "metadata": {},
     "output_type": "execute_result"
    }
   ],
   "source": [
    "def count_const(suffix,words,memo={}):\n",
    "    if(suffix in memo):\n",
    "        return memo[suffix]\n",
    "    if(suffix == \"\"):\n",
    "        return True\n",
    "    count = 0\n",
    "    for word in words:\n",
    "        if(suffix.startswith(word)):\n",
    "            sub_word = suffix[len(word):]\n",
    "            memo[sub_word] = count_const(sub_word,words,memo)\n",
    "            if(memo[sub_word]):\n",
    "                count += 1\n",
    "    return count\n",
    "\n",
    "count_const(\"parrot\", [\"pa\",\"t\",\"r\", \"o\", \"par\",\"p\", \"a\"])"
   ]
  },
  {
   "cell_type": "markdown",
   "metadata": {},
   "source": [
    "### All construct"
   ]
  },
  {
   "cell_type": "code",
   "execution_count": 11,
   "metadata": {},
   "outputs": [
    {
     "data": {
      "text/plain": [
       "[['pa', 'r', 'r', 'o', 't'],\n",
       " ['par', 'r', 'o', 't'],\n",
       " ['p', 'a', 'r', 'r', 'o', 't']]"
      ]
     },
     "execution_count": 11,
     "metadata": {},
     "output_type": "execute_result"
    }
   ],
   "source": [
    "def count_const(suffix,words,memo={}):\n",
    "    if(suffix in memo):\n",
    "        return memo[suffix]\n",
    "    if(suffix == \"\"):\n",
    "        return [[]]\n",
    "    combinations = []\n",
    "    for word in words:\n",
    "        if(suffix.startswith(word)):\n",
    "            sub_word = suffix[len(word):]\n",
    "            memo[sub_word] = count_const(sub_word,words,memo)\n",
    "            for comb in memo[sub_word]:\n",
    "                combinations.append([word,*comb])\n",
    "    return combinations\n",
    "\n",
    "count_const(\"parrot\", [\"pa\",\"t\",\"r\", \"o\", \"par\",\"p\", \"a\"])"
   ]
  },
  {
   "cell_type": "markdown",
   "metadata": {},
   "source": [
    "## Tabulation"
   ]
  },
  {
   "cell_type": "markdown",
   "metadata": {},
   "source": [
    "### Fibonacci"
   ]
  },
  {
   "cell_type": "code",
   "execution_count": 12,
   "metadata": {},
   "outputs": [
    {
     "data": {
      "text/plain": [
       "12586269025"
      ]
     },
     "execution_count": 12,
     "metadata": {},
     "output_type": "execute_result"
    }
   ],
   "source": [
    "def fib(n):\n",
    "    ### we are creating 2 more extra indexes (n+2) bcuz we're adding 2 more next index answers inside the forloop\n",
    "    table = [0]*(n+1)\n",
    "    table[1] = 1\n",
    "    for i in range(n):\n",
    "        if(i+1 <= n):\n",
    "            table[i+1] += table[i]\n",
    "        if(i+2 <= n):\n",
    "            table[i+2] += table[i]\n",
    "    return table[n]\n",
    "\n",
    "fib(8)\n",
    "fib(50)"
   ]
  },
  {
   "cell_type": "markdown",
   "metadata": {},
   "source": [
    "### Grid traveler"
   ]
  },
  {
   "cell_type": "code",
   "execution_count": 28,
   "metadata": {},
   "outputs": [
    {
     "data": {
      "text/plain": [
       "6"
      ]
     },
     "execution_count": 28,
     "metadata": {},
     "output_type": "execute_result"
    }
   ],
   "source": [
    "def grid_traveler(m,n):\n",
    "    table = [[0 for _ in range(n+1)] for __ in range(m+1)]\n",
    "    table[1][1] = 1\n",
    "\n",
    "    for row in range(m+1):\n",
    "        for col in range(n+1):\n",
    "            current = table[row][col]\n",
    "            if(col+1 <= n):\n",
    "                table[row][col+1] += current\n",
    "            if(row+1 <= m):\n",
    "                table[row+1][col] += current\n",
    "    return table[m][n]\n",
    "grid_traveler(3,3)"
   ]
  },
  {
   "cell_type": "markdown",
   "metadata": {},
   "source": [
    "### Can sum"
   ]
  },
  {
   "cell_type": "code",
   "execution_count": 31,
   "metadata": {},
   "outputs": [
    {
     "data": {
      "text/plain": [
       "False"
      ]
     },
     "execution_count": 31,
     "metadata": {},
     "output_type": "execute_result"
    }
   ],
   "source": [
    "def can_sum(target,numbers):\n",
    "    table = [False]*(target+1)\n",
    "    table[0] = True\n",
    "    for i in range(target+1):\n",
    "        if(table[i] == True):\n",
    "            for num in numbers:\n",
    "                if(i+num <= target):\n",
    "                    table[i+num] = True\n",
    "\n",
    "    return table[target]\n",
    "\n",
    "can_sum(5,[3,6,9,7])"
   ]
  },
  {
   "cell_type": "markdown",
   "metadata": {},
   "source": [
    "### Howsum"
   ]
  },
  {
   "cell_type": "code",
   "execution_count": 34,
   "metadata": {},
   "outputs": [
    {
     "data": {
      "text/plain": [
       "[3, 2]"
      ]
     },
     "execution_count": 34,
     "metadata": {},
     "output_type": "execute_result"
    }
   ],
   "source": [
    "def how_sum(target,numbers):\n",
    "    table = [None]*(target+1)\n",
    "    table[0] = []\n",
    "    for i in range(target+1):\n",
    "        if(table[i] != None):\n",
    "            for num in numbers:\n",
    "                if(i+num <= target):\n",
    "                    table[i+num] = [*table[i],num]\n",
    "\n",
    "    return table[target]\n",
    "\n",
    "how_sum(5,[3,2,9,7])"
   ]
  },
  {
   "cell_type": "markdown",
   "metadata": {},
   "source": [
    "### Best sum"
   ]
  },
  {
   "cell_type": "code",
   "execution_count": 36,
   "metadata": {},
   "outputs": [
    {
     "data": {
      "text/plain": [
       "[2, 3]"
      ]
     },
     "execution_count": 36,
     "metadata": {},
     "output_type": "execute_result"
    }
   ],
   "source": [
    "def best_sum(target,numbers):\n",
    "    table = [None]*(target+1)\n",
    "    table[0] = []\n",
    "    for i in range(target+1):\n",
    "        if(table[i] != None):\n",
    "            for num in numbers:\n",
    "                if(i+num <= target):\n",
    "                    new_res = [*table[i],num]\n",
    "                    if(table[i+num] != None):\n",
    "                        if(len(new_res) < len(table[i+num])):\n",
    "                            table[i+num] = new_res\n",
    "                    else:\n",
    "                        table[i+num] = new_res\n",
    "\n",
    "    return table[target]\n",
    "\n",
    "best_sum(5,[3,2,9,7])"
   ]
  },
  {
   "cell_type": "markdown",
   "metadata": {},
   "source": [
    "### Can construct"
   ]
  },
  {
   "cell_type": "code",
   "execution_count": 39,
   "metadata": {},
   "outputs": [
    {
     "data": {
      "text/plain": [
       "True"
      ]
     },
     "execution_count": 39,
     "metadata": {},
     "output_type": "execute_result"
    }
   ],
   "source": [
    "def can_const(target,words):\n",
    "    table = [False]*(len(target)+1)\n",
    "    table[0] = True\n",
    "    for i in range(len(target)+1):\n",
    "        if(table[i] == True):\n",
    "            for word in words:\n",
    "                tar_len = i+len(word)\n",
    "                if(target[i:tar_len] == word):\n",
    "                    table[tar_len] = True\n",
    "    return table[len(target)]\n",
    "\n",
    "can_const(\"abcdef\", [\"ab\",\"abc\",\"def\", \"cd\",\"e\",\"f\"])"
   ]
  },
  {
   "cell_type": "markdown",
   "metadata": {},
   "source": [
    "### Count construct"
   ]
  },
  {
   "cell_type": "code",
   "execution_count": 43,
   "metadata": {},
   "outputs": [
    {
     "data": {
      "text/plain": [
       "2"
      ]
     },
     "execution_count": 43,
     "metadata": {},
     "output_type": "execute_result"
    }
   ],
   "source": [
    "def count_const(target,words):\n",
    "    table = [0]*(len(target)+1)\n",
    "    table[0] = 1\n",
    "    for i in range(len(target)+1):\n",
    "        if(table[i] != 0):\n",
    "            for word in words:\n",
    "                tar_len = i+len(word)\n",
    "                if(target[i:tar_len] == word):\n",
    "                    table[tar_len] += 1 \n",
    "    return table[len(target)]\n",
    "\n",
    "count_const(\"abcdef\", [\"ab\",\"abc\",\"def\", \"cd\",\"e\",\"f\"])"
   ]
  },
  {
   "cell_type": "markdown",
   "metadata": {},
   "source": [
    "### All construct"
   ]
  },
  {
   "cell_type": "code",
   "execution_count": 46,
   "metadata": {},
   "outputs": [
    {
     "data": {
      "text/plain": [
       "[['abc', 'def'], ['ab', 'cd', 'e', 'f']]"
      ]
     },
     "execution_count": 46,
     "metadata": {},
     "output_type": "execute_result"
    }
   ],
   "source": [
    "def count_const(target,words):\n",
    "    table = [None]*(len(target)+1)\n",
    "    table[0] = [[]]\n",
    "    for i in range(len(target)+1):\n",
    "        if(table[i] != None):\n",
    "            for word in words:\n",
    "                tar_len = i+len(word)\n",
    "                if(target[i:tar_len] == word):\n",
    "                    if(table[tar_len] == None):\n",
    "                        table[tar_len] = []\n",
    "                    for comb in table[i]:\n",
    "                        table[tar_len].append([*comb,word])\n",
    "    return table[len(target)]\n",
    "\n",
    "count_const(\"abcdef\", [\"ab\",\"abc\",\"def\", \"cd\",\"e\",\"f\"])"
   ]
  },
  {
   "cell_type": "code",
   "execution_count": null,
   "metadata": {},
   "outputs": [],
   "source": []
  }
 ],
 "metadata": {
  "interpreter": {
   "hash": "c95ce671dc85a02f7dcb4a82e6ee0dd46a02f5d9b011cb4af12808a4af6c4059"
  },
  "kernelspec": {
   "display_name": "Python 3.7.9 64-bit (windows store)",
   "language": "python",
   "name": "python3"
  },
  "language_info": {
   "codemirror_mode": {
    "name": "ipython",
    "version": 3
   },
   "file_extension": ".py",
   "mimetype": "text/x-python",
   "name": "python",
   "nbconvert_exporter": "python",
   "pygments_lexer": "ipython3",
   "version": "3.7.9"
  },
  "orig_nbformat": 4
 },
 "nbformat": 4,
 "nbformat_minor": 2
}
