{
 "cells": [
  {
   "cell_type": "markdown",
   "metadata": {},
   "source": [
    "## Memoization"
   ]
  },
  {
   "cell_type": "markdown",
   "metadata": {},
   "source": [
    "### Fibonacci"
   ]
  },
  {
   "cell_type": "code",
   "execution_count": 2,
   "metadata": {},
   "outputs": [
    {
     "data": {
      "text/plain": [
       "21"
      ]
     },
     "execution_count": 2,
     "metadata": {},
     "output_type": "execute_result"
    }
   ],
   "source": [
    "def fib(n,memo={}):\n",
    "    if(n in memo):\n",
    "        return memo[n]\n",
    "    if(n <= 2):\n",
    "        return 1\n",
    "    memo[n] = fib(n-1,memo) + fib(n-2,memo)\n",
    "    return memo[n]\n",
    "\n",
    "fib(8)"
   ]
  },
  {
   "cell_type": "markdown",
   "metadata": {},
   "source": [
    "### Grid traveller\n"
   ]
  },
  {
   "cell_type": "code",
   "execution_count": 6,
   "metadata": {},
   "outputs": [
    {
     "data": {
      "text/plain": [
       "2333606220"
      ]
     },
     "execution_count": 6,
     "metadata": {},
     "output_type": "execute_result"
    }
   ],
   "source": [
    "def grid_trav(m,n,memo={}):\n",
    "    pos = f\"{m}-{n}\"\n",
    "    if(pos in memo):\n",
    "        return memo[pos]\n",
    "    if(m == 1 and n == 1):\n",
    "        return 1\n",
    "    if(m <= 0 or n <= 0):\n",
    "        return 0\n",
    "    memo[pos] = grid_trav(m-1,n,memo) + grid_trav(m,n-1,memo)\n",
    "    return memo[pos]\n",
    "\n",
    "grid_trav(18,18)"
   ]
  },
  {
   "cell_type": "markdown",
   "metadata": {},
   "source": [
    "### Can sum"
   ]
  },
  {
   "cell_type": "code",
   "execution_count": 8,
   "metadata": {},
   "outputs": [
    {
     "data": {
      "text/plain": [
       "False"
      ]
     },
     "execution_count": 8,
     "metadata": {},
     "output_type": "execute_result"
    }
   ],
   "source": [
    "def can_sum(target_sum,numbers,memo={}):\n",
    "    if(target_sum in memo):\n",
    "        return memo[target_sum]\n",
    "    if(target_sum == 0):\n",
    "        return True\n",
    "    if(target_sum < 0):\n",
    "        return False\n",
    "    for num in numbers:\n",
    "        remainder = target_sum - num\n",
    "        memo[remainder] = can_sum(remainder,numbers,memo)\n",
    "        if(memo[remainder]):\n",
    "            return True\n",
    "    return False\n",
    "\n",
    "can_sum(5,[6,4,2])"
   ]
  },
  {
   "cell_type": "markdown",
   "metadata": {},
   "source": [
    "### How sum"
   ]
  },
  {
   "cell_type": "code",
   "execution_count": 13,
   "metadata": {},
   "outputs": [
    {
     "data": {
      "text/plain": [
       "(True, [3, 2])"
      ]
     },
     "execution_count": 13,
     "metadata": {},
     "output_type": "execute_result"
    }
   ],
   "source": [
    "def how_sum(target_sum,numbers,memo={}):\n",
    "    if(target_sum in memo):\n",
    "        return memo[target_sum],[]\n",
    "    if(target_sum == 0):\n",
    "        return True,[]\n",
    "    if(target_sum < 0):\n",
    "        return False,[]\n",
    "    for num in numbers:\n",
    "        remainder = target_sum - num\n",
    "        memo[remainder],resp = how_sum(remainder,numbers,memo)\n",
    "        if(memo[remainder]):\n",
    "            return True,[num,*resp]\n",
    "    return False,[]\n",
    "\n",
    "how_sum(5,[3,4,2])"
   ]
  },
  {
   "cell_type": "markdown",
   "metadata": {},
   "source": [
    "### Best sum"
   ]
  },
  {
   "cell_type": "code",
   "execution_count": 6,
   "metadata": {},
   "outputs": [
    {
     "data": {
      "text/plain": [
       "[10, 15]"
      ]
     },
     "execution_count": 6,
     "metadata": {},
     "output_type": "execute_result"
    }
   ],
   "source": [
    "def best_sum(target_sum,numbers,memo={}):\n",
    "    if(target_sum in memo):\n",
    "        return memo[target_sum]\n",
    "    if(target_sum == 0):\n",
    "        return []\n",
    "    if(target_sum < 0):\n",
    "        return None\n",
    "    b_sum = None\n",
    "    for num in numbers:\n",
    "        remainder = target_sum - num\n",
    "        memo[remainder] = best_sum(remainder,numbers,memo)\n",
    "        if(memo[remainder] != None):\n",
    "            combination = [num,*memo[remainder]]\n",
    "            if(b_sum == None or len(combination) < len(b_sum)):\n",
    "                b_sum = combination\n",
    "    return b_sum\n",
    "best_sum(25,[10,4,2,10,3,15])"
   ]
  },
  {
   "cell_type": "markdown",
   "metadata": {},
   "source": [
    "### Can construct"
   ]
  },
  {
   "cell_type": "code",
   "execution_count": 6,
   "metadata": {},
   "outputs": [
    {
     "data": {
      "text/plain": [
       "3"
      ]
     },
     "execution_count": 6,
     "metadata": {},
     "output_type": "execute_result"
    }
   ],
   "source": [
    "def can_const(suffix,words,memo={}):\n",
    "    if(suffix in memo):\n",
    "        return memo[suffix]\n",
    "    if(suffix == \"\"):\n",
    "        return True\n",
    "    for word in words:\n",
    "        if(suffix.startswith(word)):\n",
    "            sub_word = suffix[len(word):]\n",
    "            memo[sub_word] = can_const(sub_word,words,memo)\n",
    "            if(memo[sub_word]):\n",
    "                return True\n",
    "    return False\n",
    "\n",
    "can_const(\"parrot\", [\"pa\",\"t\",\"r\", \"o\", \"par\",\"p\", \"a\"])"
   ]
  },
  {
   "cell_type": "markdown",
   "metadata": {},
   "source": [
    "### count construct"
   ]
  },
  {
   "cell_type": "code",
   "execution_count": 7,
   "metadata": {},
   "outputs": [
    {
     "data": {
      "text/plain": [
       "3"
      ]
     },
     "execution_count": 7,
     "metadata": {},
     "output_type": "execute_result"
    }
   ],
   "source": [
    "def count_const(suffix,words,memo={}):\n",
    "    if(suffix in memo):\n",
    "        return memo[suffix]\n",
    "    if(suffix == \"\"):\n",
    "        return True\n",
    "    count = 0\n",
    "    for word in words:\n",
    "        if(suffix.startswith(word)):\n",
    "            sub_word = suffix[len(word):]\n",
    "            memo[sub_word] = count_const(sub_word,words,memo)\n",
    "            if(memo[sub_word]):\n",
    "                count += 1\n",
    "    return count\n",
    "\n",
    "count_const(\"parrot\", [\"pa\",\"t\",\"r\", \"o\", \"par\",\"p\", \"a\"])"
   ]
  },
  {
   "cell_type": "markdown",
   "metadata": {},
   "source": [
    "### All construct"
   ]
  },
  {
   "cell_type": "code",
   "execution_count": 11,
   "metadata": {},
   "outputs": [
    {
     "data": {
      "text/plain": [
       "[['pa', 'r', 'r', 'o', 't'],\n",
       " ['par', 'r', 'o', 't'],\n",
       " ['p', 'a', 'r', 'r', 'o', 't']]"
      ]
     },
     "execution_count": 11,
     "metadata": {},
     "output_type": "execute_result"
    }
   ],
   "source": [
    "def count_const(suffix,words,memo={}):\n",
    "    if(suffix in memo):\n",
    "        return memo[suffix]\n",
    "    if(suffix == \"\"):\n",
    "        return [[]]\n",
    "    combinations = []\n",
    "    for word in words:\n",
    "        if(suffix.startswith(word)):\n",
    "            sub_word = suffix[len(word):]\n",
    "            memo[sub_word] = count_const(sub_word,words,memo)\n",
    "            for comb in memo[sub_word]:\n",
    "                combinations.append([word,*comb])\n",
    "    return combinations\n",
    "\n",
    "count_const(\"parrot\", [\"pa\",\"t\",\"r\", \"o\", \"par\",\"p\", \"a\"])"
   ]
  },
  {
   "cell_type": "code",
   "execution_count": null,
   "metadata": {},
   "outputs": [],
   "source": []
  }
 ],
 "metadata": {
  "interpreter": {
   "hash": "c95ce671dc85a02f7dcb4a82e6ee0dd46a02f5d9b011cb4af12808a4af6c4059"
  },
  "kernelspec": {
   "display_name": "Python 3.7.9 64-bit (windows store)",
   "language": "python",
   "name": "python3"
  },
  "language_info": {
   "codemirror_mode": {
    "name": "ipython",
    "version": 3
   },
   "file_extension": ".py",
   "mimetype": "text/x-python",
   "name": "python",
   "nbconvert_exporter": "python",
   "pygments_lexer": "ipython3",
   "version": "3.7.9"
  },
  "orig_nbformat": 4
 },
 "nbformat": 4,
 "nbformat_minor": 2
}
