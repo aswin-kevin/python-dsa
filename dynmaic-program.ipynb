{
 "cells": [
  {
   "cell_type": "markdown",
   "metadata": {},
   "source": [
    "Fibonacci DP solution \n",
    "https://www.programiz.com/dsa/dynamic-programming"
   ]
  },
  {
   "cell_type": "markdown",
   "metadata": {},
   "source": [
    "Memoization method (top down)"
   ]
  },
  {
   "cell_type": "code",
   "execution_count": 15,
   "metadata": {},
   "outputs": [
    {
     "data": {
      "text/plain": [
       "8"
      ]
     },
     "execution_count": 15,
     "metadata": {},
     "output_type": "execute_result"
    }
   ],
   "source": [
    "fibo = [1,1]\n",
    "\n",
    "def fib(n):\n",
    "    try:\n",
    "        if(fibo[n]):\n",
    "            return fibo[n]\n",
    "    except:\n",
    "        fibo.append(fib(n-1)+fib(n-2))\n",
    "    return fibo[n]\n",
    "\n",
    "fib(5)"
   ]
  },
  {
   "cell_type": "markdown",
   "metadata": {},
   "source": [
    "Factorial DP solution\n",
    "https://www.geeksforgeeks.org/tabulation-vs-memoization/"
   ]
  },
  {
   "cell_type": "markdown",
   "metadata": {},
   "source": [
    "Tabulation method (bottom up)"
   ]
  },
  {
   "cell_type": "code",
   "execution_count": 12,
   "metadata": {},
   "outputs": [
    {
     "data": {
      "text/plain": [
       "3628800"
      ]
     },
     "execution_count": 12,
     "metadata": {},
     "output_type": "execute_result"
    }
   ],
   "source": [
    "\n",
    "def factorial(n):\n",
    "    fact = [0,1]\n",
    "    for _num in range(2,n+1):\n",
    "        fact.append(fact[_num-1]*_num)\n",
    "    return fact[n]\n",
    "\n",
    "factorial(10)"
   ]
  },
  {
   "cell_type": "markdown",
   "metadata": {},
   "source": [
    "Memoization method (top down)"
   ]
  },
  {
   "cell_type": "code",
   "execution_count": 11,
   "metadata": {},
   "outputs": [
    {
     "data": {
      "text/plain": [
       "2"
      ]
     },
     "execution_count": 11,
     "metadata": {},
     "output_type": "execute_result"
    }
   ],
   "source": [
    "fact = [0,1]\n",
    "def factor2(n):\n",
    "    try:\n",
    "        if(fact[n]):\n",
    "            return fact[n]\n",
    "    except:\n",
    "         fact.append(factor2(n-1)*n)\n",
    "    return fact[n]\n",
    "\n",
    "factor2(2)"
   ]
  },
  {
   "cell_type": "code",
   "execution_count": null,
   "metadata": {},
   "outputs": [],
   "source": []
  }
 ],
 "metadata": {
  "interpreter": {
   "hash": "c95ce671dc85a02f7dcb4a82e6ee0dd46a02f5d9b011cb4af12808a4af6c4059"
  },
  "kernelspec": {
   "display_name": "Python 3.7.9 64-bit (windows store)",
   "language": "python",
   "name": "python3"
  },
  "language_info": {
   "codemirror_mode": {
    "name": "ipython",
    "version": 3
   },
   "file_extension": ".py",
   "mimetype": "text/x-python",
   "name": "python",
   "nbconvert_exporter": "python",
   "pygments_lexer": "ipython3",
   "version": "3.7.9"
  },
  "orig_nbformat": 4
 },
 "nbformat": 4,
 "nbformat_minor": 2
}
