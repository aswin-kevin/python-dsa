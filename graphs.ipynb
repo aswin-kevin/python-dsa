{
 "cells": [
  {
   "cell_type": "markdown",
   "metadata": {},
   "source": [
    "Graph - https://www.youtube.com/watch?v=tWVWeAqZ0WU"
   ]
  },
  {
   "cell_type": "code",
   "execution_count": 1,
   "metadata": {},
   "outputs": [
    {
     "name": "stdout",
     "output_type": "stream",
     "text": [
      "a\n",
      "c\n",
      "b\n",
      "e\n",
      "d\n",
      "f\n"
     ]
    }
   ],
   "source": [
    "class Graph:\n",
    "    def __init__(self,data):\n",
    "        self.graph = data \n",
    "    \n",
    "    def add_edge(self,source,end):\n",
    "        try:\n",
    "            self.graph[source].append(end)\n",
    "        except:\n",
    "            self.graph[source] = [end]\n",
    "\n",
    "    def DFT(self,source):\n",
    "        stack = [source]\n",
    "        while(len(stack) > 0):\n",
    "            current_node = stack.pop()\n",
    "            print(current_node)\n",
    "            for i in self.graph[current_node]:\n",
    "                stack.append(i)\n",
    "\n",
    "    def BFT(self,source):\n",
    "        queue = [source]\n",
    "        while(len(queue) > 0):\n",
    "            current_node = queue.pop()\n",
    "            print(current_node)\n",
    "            for i in self.graph[current_node]:\n",
    "                queue.insert(0,i)\n",
    "\n",
    "    \n",
    "paths = {\n",
    "    \"a\" : [\"c\", \"b\"],\n",
    "    \"b\" : [\"d\"],\n",
    "    \"c\" : [\"e\"],\n",
    "    \"d\" : [\"f\"],\n",
    "    \"e\" : [],\n",
    "    \"f\" : []\n",
    "}\n",
    "\n",
    "graph = Graph(paths)\n",
    "graph.BFT(\"a\")"
   ]
  },
  {
   "cell_type": "markdown",
   "metadata": {},
   "source": [
    "## Has path problem "
   ]
  },
  {
   "cell_type": "code",
   "execution_count": 2,
   "metadata": {},
   "outputs": [
    {
     "data": {
      "text/plain": [
       "True"
      ]
     },
     "execution_count": 2,
     "metadata": {},
     "output_type": "execute_result"
    }
   ],
   "source": [
    "######### DFS method ####################\n",
    "def has_path_dfs(graph,source,dest):\n",
    "    if(source == dest):\n",
    "        return True\n",
    "    for i in graph[source]:\n",
    "        is_found = has_path_dfs(graph,i,dest)\n",
    "        if(is_found):\n",
    "            return True\n",
    "    return False\n",
    "\n",
    "######## BFS method #####################\n",
    "def has_path_bfs(graph,source,dest):\n",
    "    queue = [source]\n",
    "    while(len(queue) > 0):\n",
    "        current_node = queue.pop()\n",
    "        if(current_node == dest):\n",
    "            return True\n",
    "        for i in graph[current_node]:\n",
    "            queue.insert(0,i)\n",
    "    return False\n",
    "\n",
    "\n",
    "graph = {\n",
    "    \"a\" : [\"c\", \"b\"],\n",
    "    \"b\" : [\"d\"],\n",
    "    \"c\" : [\"e\"],\n",
    "    \"d\" : [\"f\"],\n",
    "    \"e\" : [],\n",
    "    \"f\" : []\n",
    "}\n",
    "\n",
    "has_path_dfs(graph,\"a\", \"e\")\n",
    "has_path_bfs(graph,\"a\", \"f\")"
   ]
  },
  {
   "cell_type": "markdown",
   "metadata": {},
   "source": [
    "## Dijikstra algorithm"
   ]
  },
  {
   "cell_type": "code",
   "execution_count": 3,
   "metadata": {},
   "outputs": [
    {
     "data": {
      "text/plain": [
       "{0: 0, 1: 4, 2: 11, 3: 17, 4: 9, 5: 22, 6: 7, 7: 8, 8: 11}"
      ]
     },
     "execution_count": 3,
     "metadata": {},
     "output_type": "execute_result"
    }
   ],
   "source": [
    "from queue import PriorityQueue\n",
    "\n",
    "class Graph:\n",
    "    def __init__(self,vertices):\n",
    "        self.vertices = vertices\n",
    "        self.edges = [[-1 for j in range(vertices)] for x in range(vertices)]\n",
    "        self.visited = []\n",
    "\n",
    "    def add_edge(self,row,col,weight):\n",
    "        self.edges[row][col] = weight\n",
    "        self.edges[col][row] = weight\n",
    "\n",
    "    def dijikstra(self,start_vertex):\n",
    "        results = {v:float(\"inf\") for v in range(self.vertices)}\n",
    "        results[start_vertex] = 0\n",
    "        pq = PriorityQueue()\n",
    "        pq.put((0,start_vertex))\n",
    "\n",
    "        while not pq.empty():\n",
    "            (dist,vertex) = pq.get()\n",
    "            self.visited.append(vertex)\n",
    "\n",
    "            for neighbour in range(self.vertices):\n",
    "                if self.edges[vertex][neighbour] != -1:\n",
    "                    distance = self.edges[vertex][neighbour]\n",
    "                    if neighbour not in self.visited:\n",
    "                        old_dist = results[neighbour]\n",
    "                        new_dist = results[vertex] + distance\n",
    "                        if old_dist > new_dist:\n",
    "                            results[neighbour] = new_dist\n",
    "                            pq.put((new_dist,neighbour))\n",
    "        return results\n",
    "\n",
    "g = Graph(9)\n",
    "g.add_edge(0, 1, 4)\n",
    "g.add_edge(0, 6, 7)\n",
    "g.add_edge(1, 6, 11)\n",
    "g.add_edge(1, 7, 20)\n",
    "g.add_edge(1, 2, 9)\n",
    "g.add_edge(2, 3, 6)\n",
    "g.add_edge(2, 4, 2)\n",
    "g.add_edge(3, 4, 10)\n",
    "g.add_edge(3, 5, 5)\n",
    "g.add_edge(4, 5, 15)\n",
    "g.add_edge(4, 7, 1)\n",
    "g.add_edge(4, 8, 5)\n",
    "g.add_edge(5, 8, 12)\n",
    "g.add_edge(6, 7, 1)\n",
    "g.add_edge(7, 8, 3)\n",
    "\n",
    "g.dijikstra(0)"
   ]
  },
  {
   "cell_type": "markdown",
   "metadata": {},
   "source": [
    "## Dijikstra algo (adgecency list input)"
   ]
  },
  {
   "cell_type": "code",
   "execution_count": 1,
   "metadata": {},
   "outputs": [
    {
     "data": {
      "text/plain": [
       "{0: 0, 1: 4, 2: 11, 3: 17, 4: 9, 5: 22, 6: 7, 7: 8, 8: 11}"
      ]
     },
     "execution_count": 1,
     "metadata": {},
     "output_type": "execute_result"
    }
   ],
   "source": [
    "from queue import PriorityQueue\n",
    "from collections import defaultdict\n",
    "\n",
    "class Graph:\n",
    "    def __init__(self,vertices):\n",
    "        self.vertices = vertices\n",
    "        self.graph = defaultdict(list)\n",
    "        self.visited = []\n",
    "\n",
    "    def add_edge(self,row,col,weight):\n",
    "        self.graph[row].append((col,weight))\n",
    "        self.graph[col].append((row,weight))\n",
    "\n",
    "    def dijikstra(self,start_vertex):\n",
    "        results = {v:float(\"inf\") for v in range(self.vertices)}\n",
    "        results[start_vertex] = 0\n",
    "\n",
    "        pq = PriorityQueue()\n",
    "        pq.put((0,start_vertex))\n",
    "\n",
    "        while not pq.empty():\n",
    "            (dist,current) = pq.get()\n",
    "            self.visited.append(current)\n",
    "            for neighbour in self.graph[current]:\n",
    "                (vertex,weight) = neighbour\n",
    "                if vertex not in self.visited:\n",
    "                    old_dist = results[vertex]\n",
    "                    new_dist = results[current]+weight\n",
    "                    if(new_dist < old_dist):\n",
    "                        results[vertex] = new_dist\n",
    "                        pq.put((new_dist,vertex))\n",
    "        return results\n",
    "\n",
    "g = Graph(9)\n",
    "g.add_edge(0, 1, 4)\n",
    "g.add_edge(0, 6, 7)\n",
    "g.add_edge(1, 6, 11)\n",
    "g.add_edge(1, 7, 20)\n",
    "g.add_edge(1, 2, 9)\n",
    "g.add_edge(2, 3, 6)\n",
    "g.add_edge(2, 4, 2)\n",
    "g.add_edge(3, 4, 10)\n",
    "g.add_edge(3, 5, 5)\n",
    "g.add_edge(4, 5, 15)\n",
    "g.add_edge(4, 7, 1)\n",
    "g.add_edge(4, 8, 5)\n",
    "g.add_edge(5, 8, 12)\n",
    "g.add_edge(6, 7, 1)\n",
    "g.add_edge(7, 8, 3)\n",
    "\n",
    "g.dijikstra(0)"
   ]
  },
  {
   "cell_type": "markdown",
   "metadata": {},
   "source": [
    "#### Kosaraju Algo (Strongly connected components)"
   ]
  },
  {
   "cell_type": "code",
   "execution_count": 7,
   "metadata": {},
   "outputs": [
    {
     "data": {
      "text/plain": [
       "(3, [[0, 3, 2, 1], [4, 6, 5], [7]])"
      ]
     },
     "execution_count": 7,
     "metadata": {},
     "output_type": "execute_result"
    }
   ],
   "source": [
    "from collections import defaultdict\n",
    "\n",
    "class Graph:\n",
    "    def __init__(self,vertices):\n",
    "        self.graph = defaultdict(list)\n",
    "        self.vertices = vertices\n",
    "\n",
    "    def add_edge(self,row,col):\n",
    "        self.graph[row].append(col)\n",
    "\n",
    "    def dfs(self,source,visited):\n",
    "        res = [source]\n",
    "        visited.append(source)\n",
    "        for nei in self.graph[source]:\n",
    "            if nei not in visited:\n",
    "                res += self.dfs(nei,visited)\n",
    "        return res\n",
    "\n",
    "    def transpose(self):\n",
    "        transposed_graph = defaultdict(list)\n",
    "        for key in self.graph:\n",
    "            for v in self.graph[key]:\n",
    "                transposed_graph[v].append(key)\n",
    "        self.graph = transposed_graph\n",
    "\n",
    "    def kosaraju_algo(self):\n",
    "        first_stack = self.dfs(0,[])\n",
    "        self.transpose()\n",
    "\n",
    "        scc = 0\n",
    "        scc_comps = []       \n",
    "        visited = []\n",
    "        for stack in first_stack:\n",
    "            if stack not in visited:\n",
    "                scc_res = self.dfs(stack,visited)\n",
    "                if(len(scc_res) > 0):\n",
    "                    scc_comps.append(scc_res)\n",
    "                    scc += 1\n",
    "        return scc,scc_comps\n",
    "\n",
    "\n",
    "\n",
    "g = Graph(8)\n",
    "g.add_edge(0, 1)\n",
    "g.add_edge(1, 2)\n",
    "g.add_edge(2, 3)\n",
    "g.add_edge(2, 4)\n",
    "g.add_edge(3, 0)\n",
    "g.add_edge(4, 5)\n",
    "g.add_edge(5, 6)\n",
    "g.add_edge(6, 4)\n",
    "g.add_edge(6, 7)\n",
    "\n",
    "g.kosaraju_algo()\n"
   ]
  },
  {
   "cell_type": "markdown",
   "metadata": {},
   "source": [
    "### Bellman ford's algo "
   ]
  },
  {
   "cell_type": "code",
   "execution_count": 2,
   "metadata": {},
   "outputs": [
    {
     "data": {
      "text/plain": [
       "{0: 0, 1: 5, 2: 4, 3: 8}"
      ]
     },
     "execution_count": 2,
     "metadata": {},
     "output_type": "execute_result"
    }
   ],
   "source": [
    "class Graph:\n",
    "    def __init__(self,vertices):\n",
    "        self.vertices = vertices\n",
    "        self.graph = []\n",
    "\n",
    "    def add_edge(self,s,d,w):\n",
    "        self.graph.append([s,d,w])\n",
    "\n",
    "    def bellman_ford(self,src):\n",
    "        distances = {v:float(\"inf\") for v in range(self.vertices)}\n",
    "        distances[src] = 0\n",
    "\n",
    "        for _ in range(self.vertices-1):\n",
    "            for s,d,w in self.graph:\n",
    "                if (distances[s] != float(\"inf\") and distances[s]+w < distances[d]):\n",
    "                    distances[d] = distances[s]+w\n",
    "        \n",
    "        for s,d,w in self.graph:\n",
    "            if (distances[s] != float(\"inf\") and distances[s]+w < distances[d]):\n",
    "                return \"Graph contains negative weighted cycles , cannot use bellman method !!!\"\n",
    "\n",
    "        return distances\n",
    "\n",
    "\n",
    "\n",
    "g = Graph(4)\n",
    "g.add_edge(0, 1, 5)\n",
    "g.add_edge(0, 2, 4)\n",
    "g.add_edge(1, 3, 3)\n",
    "g.add_edge(2, 1, 6)\n",
    "g.add_edge(3, 2, 2)\n",
    "\n",
    "g.bellman_ford(0)"
   ]
  },
  {
   "cell_type": "markdown",
   "metadata": {},
   "source": [
    "### connected components"
   ]
  },
  {
   "cell_type": "code",
   "execution_count": 4,
   "metadata": {},
   "outputs": [
    {
     "data": {
      "text/plain": [
       "[[0, 1], [2, 3, 4]]"
      ]
     },
     "execution_count": 4,
     "metadata": {},
     "output_type": "execute_result"
    }
   ],
   "source": [
    "from collections import defaultdict\n",
    "\n",
    "class Graph:\n",
    "    def __init__(self,vertices):\n",
    "        self.vertices = vertices\n",
    "        self.graph = defaultdict(list)\n",
    "\n",
    "    def add_edge(self,row,col):\n",
    "        self.graph[row].append(col)\n",
    "        self.graph[col].append(row)\n",
    "\n",
    "    def dfs(self,src,visited):\n",
    "        if src in visited:\n",
    "            return []\n",
    "        items = [src]\n",
    "        visited.add(src)\n",
    "        for node in self.graph[src]:\n",
    "            items += self.dfs(node,visited)\n",
    "        return items\n",
    "\n",
    "\n",
    "    def get_comps(self):\n",
    "        comps = []\n",
    "        visited = set()\n",
    "        for node in range(self.vertices):\n",
    "            res = self.dfs(node,visited)\n",
    "            if(len(res)>0):\n",
    "                comps.append(res)\n",
    "        return comps\n",
    "\n",
    "g = Graph(5)\n",
    "g.add_edge(1, 0)\n",
    "g.add_edge(2, 3)\n",
    "g.add_edge(3, 4)\n",
    "g.get_comps()"
   ]
  },
  {
   "cell_type": "markdown",
   "metadata": {},
   "source": [
    "### shortest path"
   ]
  },
  {
   "cell_type": "code",
   "execution_count": 9,
   "metadata": {},
   "outputs": [
    {
     "data": {
      "text/plain": [
       "['w', 'v', 'z']"
      ]
     },
     "execution_count": 9,
     "metadata": {},
     "output_type": "execute_result"
    }
   ],
   "source": [
    "from collections import defaultdict\n",
    "\n",
    "\n",
    "class Graph:\n",
    "    def __init__(self):\n",
    "        self.graph = defaultdict(list)\n",
    "\n",
    "    def add_edge(self,row,col):\n",
    "        self.graph[row].append(col)\n",
    "        self.graph[col].append(row)\n",
    "\n",
    "    def find_path(self,src,dest):\n",
    "        visited = []\n",
    "        queue = [[src,[src]]]    \n",
    "        while(len(queue) > 0):\n",
    "            current,path = queue.pop(0)\n",
    "            if(current==dest):\n",
    "                return path\n",
    "            visited.append(current)\n",
    "            for node in self.graph[current]:\n",
    "                if node not in visited:\n",
    "                    queue.append([node,[*path,node]])\n",
    "\n",
    "g = Graph()\n",
    "g.add_edge(\"w\", \"x\")\n",
    "g.add_edge(\"x\", \"y\")\n",
    "g.add_edge(\"y\", \"z\")\n",
    "g.add_edge(\"w\", \"v\")\n",
    "g.add_edge(\"v\", \"z\")\n",
    "\n",
    "g.find_path(\"w\", \"z\")"
   ]
  },
  {
   "cell_type": "markdown",
   "metadata": {},
   "source": [
    "### island problem"
   ]
  },
  {
   "cell_type": "code",
   "execution_count": 18,
   "metadata": {},
   "outputs": [
    {
     "data": {
      "text/plain": [
       "3"
      ]
     },
     "execution_count": 18,
     "metadata": {},
     "output_type": "execute_result"
    }
   ],
   "source": [
    "class Graph:\n",
    "    def __init__(self,grid):\n",
    "        self.graph = grid\n",
    "\n",
    "    def explore(self,row,col,visited):\n",
    "        row_contraints = row >= 0 and row < len(self.graph)\n",
    "        col_contraints = col >= 0 and col < len(self.graph[0])\n",
    "        if(row_contraints != True or col_contraints != True):\n",
    "            return False\n",
    "        if(self.graph[row][col] == \"0\"):\n",
    "            return False\n",
    "        pos = f\"{row}-{col}\"\n",
    "        if pos in visited:\n",
    "            return False\n",
    "        visited.append(pos)\n",
    "        self.explore(row-1,col,visited)\n",
    "        self.explore(row+1,col,visited)\n",
    "        self.explore(row,col-1,visited)\n",
    "        self.explore(row,col+1,visited)\n",
    "        return True\n",
    "        \n",
    "\n",
    "    def find_islands(self):\n",
    "        count = 0\n",
    "        visited = []\n",
    "        for row in range(len(self.graph)):\n",
    "            for col in range(len(self.graph[row])):\n",
    "                if(self.explore(row,col,visited)):\n",
    "                    count += 1\n",
    "        return count\n",
    "\n",
    "\n",
    "\n",
    "grid = [\n",
    "  [\"1\",\"1\",\"0\",\"0\",\"0\"],\n",
    "  [\"1\",\"1\",\"0\",\"0\",\"0\"],\n",
    "  [\"0\",\"0\",\"1\",\"0\",\"0\"],\n",
    "  [\"0\",\"0\",\"0\",\"1\",\"1\"]\n",
    "]\n",
    "\n",
    "g = Graph(grid)\n",
    "g.find_islands()\n"
   ]
  },
  {
   "cell_type": "markdown",
   "metadata": {},
   "source": [
    "### Topological sort"
   ]
  },
  {
   "cell_type": "code",
   "execution_count": 20,
   "metadata": {},
   "outputs": [
    {
     "data": {
      "text/plain": [
       "[5, 4, 2, 3, 1, 0]"
      ]
     },
     "execution_count": 20,
     "metadata": {},
     "output_type": "execute_result"
    }
   ],
   "source": [
    "from collections import defaultdict\n",
    "\n",
    "class Graph:\n",
    "    def __init__(self,vertices):\n",
    "        self.vertices = vertices\n",
    "        self.graph = defaultdict(list)\n",
    "\n",
    "    def add_edge(self,u,v):\n",
    "        self.graph[u].append(v)\n",
    "\n",
    "    def topo_utils(self,src,visited,stack):\n",
    "        visited[src] = True\n",
    "        for node in self.graph[src]:\n",
    "            if(visited[node] == False):\n",
    "                self.topo_utils(node,visited,stack)\n",
    "        stack.append(src)\n",
    "\n",
    "    def topological_sort(self):\n",
    "        stack = []\n",
    "        visited = [False]*self.vertices\n",
    "\n",
    "        for i in range(self.vertices):\n",
    "            if(visited[i] == False):\n",
    "                self.topo_utils(i,visited,stack)\n",
    "        return stack[::-1]\n",
    "\n",
    "\n",
    "g = Graph(6)\n",
    "g.add_edge(5, 2)\n",
    "g.add_edge(5, 0)\n",
    "g.add_edge(4, 0)\n",
    "g.add_edge(4, 1)\n",
    "g.add_edge(2, 3)\n",
    "g.add_edge(3, 1)\n",
    "\n",
    "g.topological_sort()\n",
    " "
   ]
  },
  {
   "cell_type": "code",
   "execution_count": null,
   "metadata": {},
   "outputs": [],
   "source": []
  }
 ],
 "metadata": {
  "interpreter": {
   "hash": "c95ce671dc85a02f7dcb4a82e6ee0dd46a02f5d9b011cb4af12808a4af6c4059"
  },
  "kernelspec": {
   "display_name": "Python 3.7.9 64-bit (windows store)",
   "language": "python",
   "name": "python3"
  },
  "language_info": {
   "codemirror_mode": {
    "name": "ipython",
    "version": 3
   },
   "file_extension": ".py",
   "mimetype": "text/x-python",
   "name": "python",
   "nbconvert_exporter": "python",
   "pygments_lexer": "ipython3",
   "version": "3.7.9"
  },
  "orig_nbformat": 4
 },
 "nbformat": 4,
 "nbformat_minor": 2
}
