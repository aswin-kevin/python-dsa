{
 "cells": [
  {
   "cell_type": "code",
   "execution_count": null,
   "metadata": {},
   "outputs": [],
   "source": [
    "alphabet = \"abcdefghijklmnopqrstuvwxyz\"\n",
    "\n",
    "for i in alphabet:\n",
    "    print(i,ord(i))"
   ]
  },
  {
   "cell_type": "code",
   "execution_count": null,
   "metadata": {},
   "outputs": [],
   "source": [
    "for i in range(5,-1,-1):\n",
    "    print(i)"
   ]
  },
  {
   "cell_type": "code",
   "execution_count": null,
   "metadata": {},
   "outputs": [],
   "source": [
    "print(5/2)\n",
    "print(5//2)\n",
    "print(5%2)"
   ]
  },
  {
   "cell_type": "code",
   "execution_count": null,
   "metadata": {},
   "outputs": [],
   "source": [
    "from collections import defaultdict\n",
    "\n",
    "data = defaultdict(list)\n",
    "data[\"ash\"].append(0)"
   ]
  },
  {
   "cell_type": "code",
   "execution_count": null,
   "metadata": {},
   "outputs": [],
   "source": [
    "from queue import PriorityQueue\n",
    "from queue import Queue\n",
    "\n",
    "que = Queue()\n",
    "que.put(1)\n",
    "que.get()\n",
    "\n",
    "pq = PriorityQueue()\n",
    "pq.put(5)\n",
    "pq.put(10)\n",
    "pq.get()"
   ]
  },
  {
   "cell_type": "code",
   "execution_count": null,
   "metadata": {},
   "outputs": [],
   "source": [
    "arr = [0,2,3]\n",
    "print(arr[::-1])"
   ]
  },
  {
   "cell_type": "code",
   "execution_count": null,
   "metadata": {},
   "outputs": [],
   "source": [
    "for i in range(4):\n",
    "    print(i)"
   ]
  },
  {
   "cell_type": "code",
   "execution_count": null,
   "metadata": {},
   "outputs": [],
   "source": [
    "def productExceptSelf(nums):\n",
    "    res = []\n",
    "    temp = [*nums]\n",
    "    for ind in range(len(nums)):\n",
    "        temp[ind] = 1\n",
    "        prod = 1\n",
    "        for i in temp:\n",
    "            prod = prod*i\n",
    "        print(prod)\n",
    "        res.append(prod)\n",
    "        temp[ind] = nums[ind]\n",
    "    return res\n",
    "\n",
    "productExceptSelf([1,2,3,4])"
   ]
  },
  {
   "cell_type": "code",
   "execution_count": null,
   "metadata": {},
   "outputs": [],
   "source": [
    "class Solution:\n",
    "    def isValidSudoku(self, board):\n",
    "        \n",
    "        #check rows and columns for duplicates\n",
    "        for i in range(len(board)):\n",
    "            if(self.check_dup(board[i])):\n",
    "                return False\n",
    "            if(self.check_dup([board[j][i] for j in range(len(board))])):\n",
    "                return False\n",
    "        print(\"hi\")\n",
    "        #check grids for duplicates\n",
    "        for grid in range(0,9,3):\n",
    "            elements = []\n",
    "            print(grid)\n",
    "            for i in range(grid,grid+3):\n",
    "                elements.append(board[grid][i])\n",
    "                elements.append(board[grid+1][i])\n",
    "                elements.append(board[grid+2][i])\n",
    "            if(self.check_dup(elements)):\n",
    "                return False\n",
    "        return True\n",
    "    \n",
    "    def check_dup(self,arr):\n",
    "        hashmap = set()\n",
    "        for el in arr:\n",
    "            if(el != \".\"):\n",
    "                if(el in hashmap):\n",
    "                    print(el)\n",
    "                    return True\n",
    "                hashmap.add(el)\n",
    "        return False\n",
    "\n",
    "sol = Solution()\n",
    "board = [[\".\",\".\",\".\",\".\",\"5\",\".\",\".\",\"1\",\".\"],[\".\",\"4\",\".\",\"3\",\".\",\".\",\".\",\".\",\".\"],[\".\",\".\",\".\",\".\",\".\",\"3\",\".\",\".\",\"1\"],[\"8\",\".\",\".\",\".\",\".\",\".\",\".\",\"2\",\".\"],[\".\",\".\",\"2\",\".\",\"7\",\".\",\".\",\".\",\".\"],[\".\",\"1\",\"5\",\".\",\".\",\".\",\".\",\".\",\".\"],[\".\",\".\",\".\",\".\",\".\",\"2\",\".\",\".\",\".\"],[\".\",\"2\",\".\",\"9\",\".\",\".\",\".\",\".\",\".\"],[\".\",\".\",\"4\",\".\",\".\",\".\",\".\",\".\",\".\"]]\n",
    "sol.isValidSudoku(board)"
   ]
  },
  {
   "cell_type": "code",
   "execution_count": null,
   "metadata": {},
   "outputs": [],
   "source": [
    "\n",
    "def longestConsecutive(nums):\n",
    "    sorted_arr = sorted(nums)\n",
    "    nums =  sorted_arr\n",
    "    res = [sorted_arr[0]]\n",
    "    for i in range(len(nums)-1):\n",
    "        current = nums[i]\n",
    "        next_ = nums[i+1]\n",
    "        if(next_-current < 2):\n",
    "            res.append(next_)\n",
    "        else:\n",
    "            break\n",
    "    return len(res)\n",
    "\n",
    "longestConsecutive([0,3,7,2,5,8,4,6,0,1])\n",
    "            \n",
    "        "
   ]
  },
  {
   "cell_type": "code",
   "execution_count": null,
   "metadata": {},
   "outputs": [],
   "source": [
    "class Solution:\n",
    "    def isPalindrome(self, s: str) -> bool:\n",
    "        filtered_str = self.filter_str(s.lower())\n",
    "        print(filtered_str)\n",
    "        l = 0\n",
    "        r = len(filtered_str)-1\n",
    "        while l<r:\n",
    "            if filtered_str[l] != filtered_str[r]:\n",
    "                return False\n",
    "            l += 1\n",
    "            r -= 1\n",
    "        return True\n",
    "        \n",
    "    def filter_str(self,s):\n",
    "        return \"\".join([x for x in s if x.isalnum()])\n",
    "\n",
    "sol = Solution()\n",
    "sol.isPalindrome(\"A man, a plan, a canal: Panama\")"
   ]
  },
  {
   "cell_type": "code",
   "execution_count": null,
   "metadata": {},
   "outputs": [],
   "source": [
    "print(list(range(0,5)))"
   ]
  },
  {
   "cell_type": "code",
   "execution_count": null,
   "metadata": {},
   "outputs": [],
   "source": [
    "from bs4 import BeautifulSoup\n",
    "from requests import get\n",
    "\n",
    "headers = {\"User-Agent\": \"Chrome 2.01\"}\n",
    "## change url in the below line \n",
    "page_res = get(\"https://insights.blackcoffer.com/is-telehealth-the-future-of-healthcare-3/\",headers=headers)\n",
    "\n",
    "soup = BeautifulSoup(page_res.text)\n",
    "text = soup.get_text()\n",
    "print(text)"
   ]
  },
  {
   "cell_type": "code",
   "execution_count": null,
   "metadata": {},
   "outputs": [],
   "source": [
    "num = 32\n",
    "print(bin(32))\n",
    "print(\"bit length\", num.bit_length())"
   ]
  },
  {
   "cell_type": "code",
   "execution_count": null,
   "metadata": {},
   "outputs": [],
   "source": [
    "import sys\n",
    "print(sys.int_info)"
   ]
  },
  {
   "cell_type": "code",
   "execution_count": null,
   "metadata": {},
   "outputs": [],
   "source": [
    "print(hex(42))\n",
    "print(oct(42))"
   ]
  },
  {
   "cell_type": "code",
   "execution_count": null,
   "metadata": {},
   "outputs": [],
   "source": [
    "def get_bit(value, bit_index):\n",
    "    return value & (1 << bit_index)\n",
    "\n",
    "print(25)\n",
    "print(bin(25))\n",
    "get_bit(24, bit_index=5)"
   ]
  },
  {
   "cell_type": "code",
   "execution_count": null,
   "metadata": {},
   "outputs": [],
   "source": [
    "data = 12\n",
    "if 0 <= data <= 200:\n",
    "    print(\"got it\")"
   ]
  },
  {
   "cell_type": "code",
   "execution_count": null,
   "metadata": {},
   "outputs": [],
   "source": [
    "def run(nums):\n",
    "    pos = 0\n",
    "    cur = nums[0]\n",
    "    arr_len = len(nums)-1\n",
    "    while pos <= arr_len:\n",
    "        if pos == arr_len:\n",
    "            return True\n",
    "        if cur == 0:\n",
    "            return False\n",
    "        cur = nums[pos]\n",
    "        pos += nums[pos]\n",
    "\n",
    "    return True\n",
    "run([0])"
   ]
  },
  {
   "cell_type": "code",
   "execution_count": null,
   "metadata": {},
   "outputs": [],
   "source": [
    "root = {}\n",
    "\n",
    "def multiStringSearch(bigString, smallStrings):\n",
    "    for ind in range(len(bigString)-1,-1,-1):\n",
    "      append(bigString[ind:])\n",
    "    return containsCheck(smallStrings)\n",
    "\n",
    "def append(string):\n",
    "    current = root\n",
    "    for letter in string:\n",
    "      if letter not in current:\n",
    "        current[letter] = {}\n",
    "      current = current[letter]\n",
    "\n",
    "def containsCheck(smallStrings):\n",
    "  exists = []\n",
    "  for string in smallStrings:\n",
    "    exists.append(contains(string))\n",
    "  return exists\n",
    "\n",
    "def contains(string):\n",
    "  current = root\n",
    "  for letter in string:\n",
    "    if letter not in current:\n",
    "      return False\n",
    "    current = current[letter]\n",
    "  return True\n",
    "  \n",
    "multiStringSearch(\"Is this particular test going to pass or is it going to fail? That is the question.\",[\"that\", \"the\", \"questions\", \"goes\", \"mountain\", \"passes\", \"passed\", \"going\", \"is\"])"
   ]
  },
  {
   "cell_type": "code",
   "execution_count": null,
   "metadata": {},
   "outputs": [],
   "source": [
    "import math\n",
    "val = 3/2\n",
    "print(math.ceil(val))"
   ]
  },
  {
   "cell_type": "markdown",
   "metadata": {},
   "source": [
    "### if condition\n",
    "\n",
    "- this is condition"
   ]
  },
  {
   "cell_type": "code",
   "execution_count": null,
   "metadata": {},
   "outputs": [],
   "source": []
  },
  {
   "cell_type": "code",
   "execution_count": null,
   "metadata": {},
   "outputs": [],
   "source": [
    "def threeNumberSort(array, order):\n",
    "    counts = {x: 0 for x in order}\n",
    "    for val in array:\n",
    "        counts[val] += 1\n",
    "    print(counts)\n",
    "    return [count for count in counts for _ in range(counts[count])]"
   ]
  },
  {
   "cell_type": "code",
   "execution_count": null,
   "metadata": {},
   "outputs": [],
   "source": [
    "data = {\n",
    "  \"array\": [1, 0, 0, -1, -1, 0, 1, 1],\n",
    "  \"order\": [0, 1, -1]\n",
    "}\n",
    "\n",
    "threeNumberSort(**data)"
   ]
  },
  {
   "cell_type": "code",
   "execution_count": null,
   "metadata": {},
   "outputs": [],
   "source": [
    "def heapSort(array):\n",
    "    buildHeap(array)\n",
    "    for endIdx in range(len(array)-1,0,-1):\n",
    "        swap(0,endIdx,array)\n",
    "        siftDown(0,endIdx-1,array)\n",
    "    return array\n",
    "\n",
    "def buildHeap(array):\n",
    "    firstParentIdx = (len(array)-2)//2\n",
    "    for idx in range(firstParentIdx,-1,-1):\n",
    "        siftDown(idx,len(array)-1,array)\n",
    "\n",
    "def siftDown(currentIdx,endIdx,heap):\n",
    "    childOneIdx = currentIdx*2+1\n",
    "    childTwoIdx = currentIdx*2+2\n",
    "    while childOneIdx <= endIdx:\n",
    "        if childTwoIdx <= endIdx and heap[childOneIdx] < heap[childTwoIdx]:\n",
    "            idxToSwap = childTwoIdx\n",
    "        else:\n",
    "            idxToSwap = childOneIdx\n",
    "        if heap[currentIdx] < heap[idxToSwap]:\n",
    "            swap(currentIdx,idxToSwap,heap)\n",
    "            currentIdx = idxToSwap\n",
    "            childOneIdx = currentIdx*2+1\n",
    "        else:\n",
    "            return\n",
    "\n",
    "\n",
    "def swap(i,j,heap):\n",
    "    heap[i],heap[j] = heap[j],heap[i]"
   ]
  },
  {
   "cell_type": "code",
   "execution_count": null,
   "metadata": {},
   "outputs": [],
   "source": [
    "print(18%10)"
   ]
  },
  {
   "cell_type": "code",
   "execution_count": null,
   "metadata": {},
   "outputs": [],
   "source": [
    "def isMonotonic(array):\n",
    "    if len(array) < 3:\n",
    "        return True\n",
    "    _type = \"INC\" if array[0] <= array[1] else \"DEC\"\n",
    "\n",
    "    for i in range(2,len(array)):\n",
    "        _newType = \"INC\" if array[i-1] <= array[i] else \"DEC\"\n",
    "        if _type != _newType:\n",
    "            print(array[i],i)\n",
    "            return False\n",
    "    return True"
   ]
  },
  {
   "cell_type": "code",
   "execution_count": null,
   "metadata": {},
   "outputs": [],
   "source": [
    "data = {\n",
    "  \"array\": [-1, -1, -2, -3, -4, -5, -5, -5, -6, -7, -8, -8, -9, -10, -11]\n",
    "}\n",
    "\n",
    "isMonotonic(**data)"
   ]
  },
  {
   "cell_type": "code",
   "execution_count": null,
   "metadata": {},
   "outputs": [],
   "source": [
    "def largestRange(array):\n",
    "    ranges = [0,0]\n",
    "    hashmap = {x:False for x in array}\n",
    "    for i in range(len(array)):\n",
    "        num = array[i]\n",
    "        if hashmap[num] == False:\n",
    "            hashmap[num] == True\n",
    "            l = r = num\n",
    "            stopL,stopR = False,False\n",
    "            while not stopL or not stopR:\n",
    "                if not stopL and l-1 in hashmap:\n",
    "                    hashmap[l-1] = True\n",
    "                    l -= 1\n",
    "                else:\n",
    "                    stopL = True\n",
    "                if not stopR and r+1 in hashmap:\n",
    "                    hashmap[r+1] = True\n",
    "                    r += 1\n",
    "                else:\n",
    "                    stopR = True\n",
    "            ranges = [l,r] if r-l > ranges[1]-ranges[0] else ranges\n",
    "    return ranges"
   ]
  },
  {
   "cell_type": "code",
   "execution_count": null,
   "metadata": {},
   "outputs": [],
   "source": [
    "data = {\n",
    "  \"array\": [1, 11, 3, 0, 15, 5, 2, 4, 10, 7, 12, 6]\n",
    "}\n",
    "largestRange(**data)"
   ]
  },
  {
   "cell_type": "code",
   "execution_count": null,
   "metadata": {},
   "outputs": [],
   "source": [
    "namesFile = open(\"images/names.txt\", \"r\")\n",
    "fileData = namesFile.readlines()\n",
    "\n",
    "\n",
    "for _line in fileData:\n",
    "    print(_line.strip())\n"
   ]
  },
  {
   "cell_type": "code",
   "execution_count": null,
   "metadata": {},
   "outputs": [],
   "source": [
    "file = open(\"images/newfile.txt\", \"w\")\n",
    "file.write(\"aswin\")\n",
    "file.close()"
   ]
  },
  {
   "cell_type": "code",
   "execution_count": null,
   "metadata": {},
   "outputs": [],
   "source": [
    "names = [\"aswin\", \"rohin\", \"vasanth\", \"gokul\"]\n",
    "\n",
    "outfile = open(\"images/newfile.txt\", \"w\")\n",
    "\n",
    "for _name in names[:2]:\n",
    "    print(_name)\n",
    "    outfile.write(f\"{_name}\\n\")\n",
    "\n",
    "outfile.close()\n"
   ]
  },
  {
   "cell_type": "code",
   "execution_count": null,
   "metadata": {},
   "outputs": [],
   "source": [
    "userInput = input(\"enter something : \").strip()\n",
    "\n",
    "\n",
    "newFile = open(\"images/dummy.txt\", \"a\")\n",
    "newFile.write(f\"{userInput}\\n\")\n",
    "newFile.close()"
   ]
  },
  {
   "cell_type": "markdown",
   "metadata": {},
   "source": [
    "### Tiny url"
   ]
  },
  {
   "cell_type": "code",
   "execution_count": null,
   "metadata": {},
   "outputs": [],
   "source": [
    "# Python3 code for above approach\n",
    "def idToShortURL(id):\n",
    "\tmap = \"abcdefghijklmnopqrstuvwxyzABCDEFGHIJKLMNOPQRSTUVWXYZ0123456789\"\n",
    "\tshortURL = \"\"\n",
    "\t\n",
    "\t# for each digit find the base 62\n",
    "\twhile(id > 0):\n",
    "\t\tshortURL += map[id % 62]\n",
    "\t\tid //= 62\n",
    "\n",
    "\t# reversing the shortURL\n",
    "\treturn shortURL[len(shortURL): : -1]\n",
    "\n",
    "def shortURLToId(shortURL):\n",
    "\tid = 0\n",
    "\tfor i in shortURL:\n",
    "\t\tval_i = ord(i)\n",
    "\t\tif(val_i >= ord('a') and val_i <= ord('z')):\n",
    "\t\t\tid = id*62 + val_i - ord('a')\n",
    "\t\telif(val_i >= ord('A') and val_i <= ord('Z')):\n",
    "\t\t\tid = id*62 + val_i - ord('Z') + 26\n",
    "\t\telse:\n",
    "\t\t\tid = id*62 + val_i - ord('0') + 52\n",
    "\treturn id\n",
    "\n",
    "if (__name__ == \"__main__\"):\n",
    "\tid = 123459898238284718471290471\n",
    "\tshortURL = idToShortURL(id)\n",
    "\tprint(\"Short URL from 12345 is : \", shortURL)\n",
    "\tprint(\"ID from\", shortURL, \"is : \", shortURLToId(shortURL))\n"
   ]
  },
  {
   "cell_type": "code",
   "execution_count": null,
   "metadata": {},
   "outputs": [],
   "source": [
    "def riverSizes(matrix):\n",
    "    rivers = []\n",
    "    visited = set()\n",
    "    for row in range(len(matrix)):\n",
    "        for col in range(len(matrix[0])):\n",
    "            print(\"input is\", row, col,visited)\n",
    "            riverLength = explore(row,col,matrix,visited)\n",
    "            print(riverLength)\n",
    "            if riverLength > 0:\n",
    "                rivers.append(riverLength)\n",
    "                print(\"len is\", riverLength)\n",
    "    return rivers\n",
    "\n",
    "def explore(row,col,matrix,visited):\n",
    "    rowConstraints = row >= 0 and row < len(matrix)\n",
    "    colConstraints = col >= 0 and col < len(matrix[0])\n",
    "    if rowConstraints != True or colConstraints != True:\n",
    "        return 0\n",
    "    if matrix[row][col] == 0:\n",
    "        return 0\n",
    "    pos = f\"{row}-{col}\"\n",
    "    if pos in visited:\n",
    "        return 0\n",
    "    visited.add(pos)\n",
    "    size = 1\n",
    "    size += explore(row+1,col,matrix,visited)\n",
    "    size += explore(row-1,col,matrix,visited)\n",
    "    size += explore(row,col+1,matrix,visited)\n",
    "    size += explore(row,col-1,matrix,visited)\n",
    "    return size"
   ]
  },
  {
   "cell_type": "code",
   "execution_count": null,
   "metadata": {},
   "outputs": [],
   "source": [
    "data = {\n",
    "  \"matrix\": [\n",
    "    [1, 0, 0, 1, 0],\n",
    "    [1, 0, 1, 0, 0],\n",
    "    [0, 0, 1, 0, 1],\n",
    "    [1, 0, 1, 0, 1],\n",
    "    [1, 0, 1, 1, 0]\n",
    "  ]\n",
    "}\n",
    "\n",
    "riverSizes(data[\"matrix\"])"
   ]
  },
  {
   "cell_type": "code",
   "execution_count": null,
   "metadata": {},
   "outputs": [],
   "source": [
    "def removeIslands(matrix):\n",
    "    nonIslands = set()\n",
    "    rows = len(matrix)\n",
    "    cols = len(matrix[0])\n",
    "    \n",
    "    for row in range(rows):\n",
    "        for col in range(cols):\n",
    "            isBorder = row == 0 or row == rows-1 or col == 0 or col == cols-1\n",
    "            if isBorder:\n",
    "                getNonIslands(row,col,matrix,nonIslands)\n",
    "\n",
    "    for row in range(rows):\n",
    "        for col in range(cols):\n",
    "            changeIslands(row,col,matrix,nonIslands)\n",
    "    return matrix\n",
    "\n",
    "def getNonIslands(row,col,matrix,visited):\n",
    "    rowConstraints = row >= 0 and row < len(matrix)\n",
    "    colConstraints = col >= 0 and col < len(matrix[0])\n",
    "    if rowConstraints != True or colConstraints != True:\n",
    "        return\n",
    "    if matrix[row][col] == 0:\n",
    "        return\n",
    "    pos = f\"{row}-{col}\"\n",
    "    if pos in visited:\n",
    "        return\n",
    "    visited.add(pos)\n",
    "    getNonIslands(row+1,col,matrix,visited)\n",
    "    getNonIslands(row-1,col,matrix,visited)\n",
    "    getNonIslands(row,col+1,matrix,visited)\n",
    "    getNonIslands(row,col-1,matrix,visited)\n",
    "\n",
    "def changeIslands(row,col,matrix,visited):\n",
    "    isBorder = row == 0 or row == len(matrix)-1 or col == 0 or col == len(matrix[0])-1\n",
    "    if isBorder:\n",
    "        return\n",
    "    if matrix[row][col] == 0:\n",
    "        return\n",
    "    pos = f\"{row}-{col}\"\n",
    "    if pos in visited:\n",
    "        return\n",
    "    matrix[row][col] = 0\n",
    "    changeIslands(row+1,col,matrix,visited)\n",
    "    changeIslands(row-1,col,matrix,visited)\n",
    "    changeIslands(row,col+1,matrix,visited)\n",
    "    changeIslands(row,col-1,matrix,visited)"
   ]
  },
  {
   "cell_type": "code",
   "execution_count": null,
   "metadata": {},
   "outputs": [],
   "source": [
    "input = [\n",
    "    [1, 0, 0, 0, 0, 0],\n",
    "    [0, 1, 0, 1, 1, 1],\n",
    "    [0, 0, 1, 0, 1, 0],\n",
    "    [1, 1, 0, 0, 1, 0],\n",
    "    [1, 0, 1, 1, 0, 0],\n",
    "    [1, 0, 0, 0, 0, 1],\n",
    "]\n",
    "\n",
    "removeIslands(input)"
   ]
  },
  {
   "cell_type": "code",
   "execution_count": null,
   "metadata": {},
   "outputs": [],
   "source": [
    "def removeIslands(matrix):\n",
    "    nonIslands = set()\n",
    "    rows = len(matrix)\n",
    "    cols = len(matrix[0])\n",
    "    for row in range(rows):\n",
    "        for col in range(cols):\n",
    "            if (row == 0 or row == rows-1) and (col == 0 or col == cols-1):\n",
    "                getNonIslands(row,col,matrix,nonIslands)\n",
    "    return matrix\n",
    "\n",
    "def getNonIslands(row,col,matrix,visited):\n",
    "    isRowBorder = row < 0 or row == len(matrix)\n",
    "    isColBorder = col < 0 or col == len(matrix[0])\n",
    "    if isRowBorder or isColBorder:\n",
    "        return True\n",
    "    if matrix[row][col] == 0:\n",
    "        return False\n",
    "    pos = f\"{row}-{col}\"\n",
    "    if pos in visited:\n",
    "        return True\n",
    "    visited.add(pos)\n",
    "\n",
    "    matrix[row][col] = 0\n",
    "    down = explore(row+1,col,matrix,visited)\n",
    "    up = explore(row-1,col,matrix,visited)\n",
    "    right = explore(row,col+1,matrix,visited)\n",
    "    left = explore(row,col-1,matrix,visited)\n",
    "    if down or up or right or left:\n",
    "        matrix[row][col] = 1\n",
    "        return True\n",
    "    else:\n",
    "        return False"
   ]
  },
  {
   "cell_type": "code",
   "execution_count": 35,
   "metadata": {},
   "outputs": [],
   "source": [
    "def boggleBoard(board, words):\n",
    "    wordsDict = {word:False for word in words}\n",
    "    for row in range(len(board)):\n",
    "        for col in range(len(board[0])):\n",
    "            letter = board[row][col]\n",
    "            for word in getStartsWith(letter,wordsDict):\n",
    "                print(\"started word\",word)\n",
    "                if explore(row,col,board,word,set()):\n",
    "                    wordsDict[word] = True\n",
    "    return [word for word in wordsDict if wordsDict.get(word)]\n",
    "\n",
    "def getStartsWith(letter,wordsDict):\n",
    "    newWords = []\n",
    "    for word in wordsDict:\n",
    "        if not wordsDict.get(word) and word[0] == letter:\n",
    "            newWords.append(word)\n",
    "    return newWords\n",
    "\n",
    "def explore(row,col,matrix,word,visited):\n",
    "    if word == \"\":\n",
    "        return True\n",
    "    rowConstraints = row >= 0 and row < len(matrix)\n",
    "    colConstraints = col >= 0 and col < len(matrix[0])\n",
    "    if not rowConstraints or not colConstraints:\n",
    "        return False\n",
    "    pos = f\"{row}-{col}\"\n",
    "    if pos in visited:\n",
    "        return False\n",
    "    letter = matrix[row][col]\n",
    "    if letter != word[0]:\n",
    "        return False\n",
    "    visited.add(pos)\n",
    "    print(letter)\n",
    "    top = explore(row-1,col,matrix,word[1:],visited)\n",
    "    right = explore(row,col+1,matrix,word[1:],visited)\n",
    "    left = explore(row,col-1,matrix,word[1:],visited)\n",
    "    bottom = explore(row+1,col,matrix,word[1:],visited)\n",
    "    bottomRight = explore(row+1,col+1,matrix,word[1:],visited)\n",
    "    topLeft = explore(row-1,col-1,matrix,word[1:],visited)\n",
    "    bottomLeft = explore(row+1,col-1,matrix,word[1:],visited)\n",
    "    topRight = explore(row-1,col+1,matrix,word[1:],visited)\n",
    "    if bottom or top or right or left or bottomRight or bottomLeft or topRight or topLeft:\n",
    "        return True\n",
    "    else:\n",
    "        visited.remove(pos)\n",
    "        return False\n"
   ]
  },
  {
   "cell_type": "code",
   "execution_count": 36,
   "metadata": {},
   "outputs": [
    {
     "name": "stdout",
     "output_type": "stream",
     "text": [
      "started word zigzag\n",
      "z\n",
      "i\n",
      "g\n",
      "g\n",
      "z\n",
      "a\n",
      "g\n"
     ]
    },
    {
     "data": {
      "text/plain": [
       "['zigzag']"
      ]
     },
     "execution_count": 36,
     "metadata": {},
     "output_type": "execute_result"
    }
   ],
   "source": [
    "data = {\n",
    "  \"board\": [\n",
    "    [\"c\", \"o\", \"m\"],\n",
    "    [\"r\", \"p\", \"l\"],\n",
    "    [\"c\", \"i\", \"t\"],\n",
    "    [\"o\", \"a\", \"e\"],\n",
    "    [\"f\", \"o\", \"d\"],\n",
    "    [\"z\", \"r\", \"b\"],\n",
    "    [\"g\", \"i\", \"a\"],\n",
    "    [\"o\", \"a\", \"g\"],\n",
    "    [\"f\", \"s\", \"z\"],\n",
    "    [\"t\", \"e\", \"i\"],\n",
    "    [\"t\", \"w\", \"d\"]\n",
    "  ],\n",
    "  \"words\": [\"zigzag\"]\n",
    "}\n",
    "\n",
    "boggleBoard(**data)"
   ]
  },
  {
   "cell_type": "markdown",
   "metadata": {},
   "source": [
    "### island sum pending to solve"
   ]
  },
  {
   "cell_type": "code",
   "execution_count": 68,
   "metadata": {},
   "outputs": [],
   "source": [
    "def removeIslands(matrix):\n",
    "\tnonIslands = set()\n",
    "\trows = len(matrix)\n",
    "\tcols = len(matrix[0])\n",
    "\n",
    "\t# for row in range(rows):\n",
    "\t# \tfor col in range(cols):\n",
    "\t# \t\tisBorder = row == 0 or row == len(matrix)-1 or col == 0 or col == len(matrix[0])-1\n",
    "\t# \t\tif not isBorder:\n",
    "\t# \t\t\tremoveNonIslands(row,col,matrix,nonIslands)\n",
    "\t# \t\t\tprint(f\"row {row} and col {col}\")\n",
    "\t# \t\t\tprint(matrix)\n",
    "\tremoveNonIslands(1,3,matrix,nonIslands)\n",
    "\treturn matrix\n",
    "\n",
    "def removeNonIslands(row,col,matrix,visited):\n",
    "\trowConstraints = row >= 0 and row < len(matrix)\n",
    "\tcolConstraints = col >= 0 and col < len(matrix[0])\n",
    "\tif rowConstraints != True or colConstraints != True:\n",
    "\t\treturn False\n",
    "\tif matrix[row][col] == 0:\n",
    "\t\treturn True\n",
    "\tpos = f\"{row}-{col}\"\n",
    "\tif pos in visited:\n",
    "\t\treturn False\n",
    "\tvisited.add(pos)\n",
    "\tprint(f\"added {pos}\")\n",
    "\tisBorder = row == 0 or row == len(matrix)-1 or col == 0 or col == len(matrix[0])-1\n",
    "\tif isBorder and matrix[row][col] == 1:\n",
    "\t\treturn True\n",
    "\tmatrix[row][col] = 0\n",
    "\tdown = removeNonIslands(row+1,col,matrix,visited)\n",
    "\tup = removeNonIslands(row-1,col,matrix,visited)\n",
    "\tright = removeNonIslands(row,col+1,matrix,visited)\n",
    "\tleft = removeNonIslands(row,col-1,matrix,visited)\n",
    "\tif down and up and right and left:\n",
    "\t\tprint(f\"good move {pos}\")\n",
    "\t\treturn True\n",
    "\telse:\n",
    "\t\tvisited.remove(pos)\n",
    "\t\tmatrix[row][col] = 1\n",
    "\t\tprint(f\"bad move {pos}\")\n",
    "\t\treturn False"
   ]
  },
  {
   "cell_type": "code",
   "execution_count": 69,
   "metadata": {},
   "outputs": [
    {
     "name": "stdout",
     "output_type": "stream",
     "text": [
      "added 1-3\n",
      "added 1-4\n",
      "added 2-4\n",
      "added 3-4\n",
      "good move 3-4\n",
      "good move 2-4\n",
      "added 1-5\n",
      "good move 1-4\n",
      "good move 1-3\n"
     ]
    },
    {
     "data": {
      "text/plain": [
       "[[1, 0, 0, 0, 0, 0],\n",
       " [0, 1, 0, 0, 0, 1],\n",
       " [0, 0, 1, 0, 0, 0],\n",
       " [1, 1, 0, 0, 0, 0],\n",
       " [1, 0, 1, 1, 0, 0],\n",
       " [1, 0, 0, 0, 0, 1]]"
      ]
     },
     "execution_count": 69,
     "metadata": {},
     "output_type": "execute_result"
    }
   ],
   "source": [
    "input = [\n",
    "        [1, 0, 0, 0, 0, 0],\n",
    "        [0, 1, 0, 1, 1, 1],\n",
    "        [0, 0, 1, 0, 1, 0],\n",
    "        [1, 1, 0, 0, 1, 0],\n",
    "        [1, 0, 1, 1, 0, 0],\n",
    "        [1, 0, 0, 0, 0, 1],\n",
    "    ]\n",
    "removeIslands(input)"
   ]
  },
  {
   "cell_type": "code",
   "execution_count": null,
   "metadata": {},
   "outputs": [],
   "source": []
  }
 ],
 "metadata": {
  "interpreter": {
   "hash": "c95ce671dc85a02f7dcb4a82e6ee0dd46a02f5d9b011cb4af12808a4af6c4059"
  },
  "kernelspec": {
   "display_name": "Python 3.7.9 64-bit (windows store)",
   "language": "python",
   "name": "python3"
  },
  "language_info": {
   "codemirror_mode": {
    "name": "ipython",
    "version": 3
   },
   "file_extension": ".py",
   "mimetype": "text/x-python",
   "name": "python",
   "nbconvert_exporter": "python",
   "pygments_lexer": "ipython3",
   "version": "3.7.9"
  },
  "orig_nbformat": 4
 },
 "nbformat": 4,
 "nbformat_minor": 2
}
