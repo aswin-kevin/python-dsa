{
 "cells": [
  {
   "cell_type": "markdown",
   "id": "86b511e4",
   "metadata": {},
   "source": [
    "Array"
   ]
  },
  {
   "cell_type": "code",
   "execution_count": 9,
   "id": "6e4a483a",
   "metadata": {},
   "outputs": [
    {
     "name": "stdout",
     "output_type": "stream",
     "text": [
      "{0: 11, 1: 2, 2: 4, 3: 21}\n",
      "{0: 11, 1: 2, 2: 21}\n"
     ]
    }
   ],
   "source": [
    "class MyArray:\n",
    "    def __init__(self):\n",
    "        self.length = 0\n",
    "        self.data = {}\n",
    "\n",
    "    def push(self,value):\n",
    "        self.data[self.length] = value\n",
    "        self.length += 1\n",
    "        return self.data\n",
    "\n",
    "    def pop(self):\n",
    "        del self.data[self.length -1]\n",
    "        self.length -= 1\n",
    "        return self.data\n",
    "\n",
    "    def get(self,ind):\n",
    "        return self.data[ind]\n",
    "\n",
    "    def insert(self,ind,value):\n",
    "        for _ind in range(self.length,ind,-1):\n",
    "            self.data[_ind] = self.data[_ind-1]\n",
    "        self.data[ind] = value\n",
    "        self.length += 1\n",
    "        return self.data\n",
    "\n",
    "    def delete(self,ind):\n",
    "        for _ind in range(ind,self.length-1):\n",
    "            self.data[_ind] = self.data[_ind+1]\n",
    "        del self.data[self.length-1]\n",
    "        self.length -= 1\n",
    "        return self.data\n",
    "\n",
    "arr1 = MyArray()\n",
    "arr1.push(2)\n",
    "arr1.push(4)\n",
    "arr1.push(6)\n",
    "arr1.pop()\n",
    "arr1.insert(0,11)\n",
    "arr1.push(21)\n",
    "print(arr1.data)\n",
    "arr1.delete(2)\n",
    "print(arr1.data)"
   ]
  },
  {
   "cell_type": "code",
   "execution_count": null,
   "id": "a80f22f8",
   "metadata": {},
   "outputs": [],
   "source": []
  },
  {
   "cell_type": "code",
   "execution_count": null,
   "id": "a7f1af2d",
   "metadata": {},
   "outputs": [],
   "source": []
  },
  {
   "cell_type": "code",
   "execution_count": null,
   "id": "5859c679",
   "metadata": {},
   "outputs": [],
   "source": []
  }
 ],
 "metadata": {
  "kernelspec": {
   "display_name": "Python 3",
   "language": "python",
   "name": "python3"
  },
  "language_info": {
   "codemirror_mode": {
    "name": "ipython",
    "version": 3
   },
   "file_extension": ".py",
   "mimetype": "text/x-python",
   "name": "python",
   "nbconvert_exporter": "python",
   "pygments_lexer": "ipython3",
   "version": "3.7.9"
  }
 },
 "nbformat": 4,
 "nbformat_minor": 5
}
