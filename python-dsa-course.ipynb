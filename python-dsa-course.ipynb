{
 "cells": [
  {
   "cell_type": "markdown",
   "id": "3bd0921e",
   "metadata": {},
   "source": [
    "# find the first recurring number"
   ]
  },
  {
   "cell_type": "code",
   "execution_count": 1,
   "id": "5bd0f76a",
   "metadata": {},
   "outputs": [
    {
     "name": "stdout",
     "output_type": "stream",
     "text": [
      "4\n"
     ]
    }
   ],
   "source": [
    "def recur(numbers):\n",
    "    unique_set = []\n",
    "    for _num in numbers:\n",
    "        if(_num in unique_set):\n",
    "            return _num\n",
    "        unique_set.append(_num)\n",
    "    return None\n",
    "\n",
    "print(recur([1,2,4,6,4,7]))"
   ]
  },
  {
   "cell_type": "code",
   "execution_count": 6,
   "id": "00008348",
   "metadata": {},
   "outputs": [
    {
     "name": "stdout",
     "output_type": "stream",
     "text": [
      "{'a': 2}\n",
      "{'a': 2}\n"
     ]
    }
   ],
   "source": [
    "obj1 = {\"a\":1}\n",
    "obj2 = obj1\n",
    "obj2[\"a\"] = 2\n",
    "print(obj1)\n",
    "print(obj2)"
   ]
  },
  {
   "cell_type": "markdown",
   "id": "6f4367ed",
   "metadata": {},
   "source": [
    "# Linked list"
   ]
  },
  {
   "cell_type": "code",
   "execution_count": 15,
   "id": "2a259319",
   "metadata": {},
   "outputs": [
    {
     "name": "stdout",
     "output_type": "stream",
     "text": [
      "{'value': 34, 'next': {'value': 10, 'next': {'value': 23, 'next': {'value': 45, 'next': None}}}}\n"
     ]
    }
   ],
   "source": [
    "class LinkedList():\n",
    "    def __init__(self,value):\n",
    "        self.head = {\n",
    "            \"value\": value,\n",
    "            \"next\": None\n",
    "        }\n",
    "        self.tail = self.head\n",
    "        self.length = 1\n",
    "        \n",
    "    def add(self,value):\n",
    "        val = {\n",
    "            \"value\" : value,\n",
    "            \"next\" : None\n",
    "        }\n",
    "        self.tail[\"next\"] = val\n",
    "        self.tail = val\n",
    "        self.length += 1\n",
    "        \n",
    "    def prepend(self,value):\n",
    "        self.head = {\n",
    "            \"value\" : value,\n",
    "            \"next\" : self.head\n",
    "        }\n",
    "        self.length += 1\n",
    "        \n",
    "myList = LinkedList(10)\n",
    "myList.add(23)\n",
    "myList.add(45)\n",
    "myList.prepend(34)\n",
    "print(myList.head)"
   ]
  },
  {
   "cell_type": "code",
   "execution_count": null,
   "id": "ee805693",
   "metadata": {},
   "outputs": [],
   "source": []
  }
 ],
 "metadata": {
  "kernelspec": {
   "display_name": "Python 3",
   "language": "python",
   "name": "python3"
  },
  "language_info": {
   "codemirror_mode": {
    "name": "ipython",
    "version": 3
   },
   "file_extension": ".py",
   "mimetype": "text/x-python",
   "name": "python",
   "nbconvert_exporter": "python",
   "pygments_lexer": "ipython3",
   "version": "3.8.8"
  }
 },
 "nbformat": 4,
 "nbformat_minor": 5
}
