{
 "cells": [
  {
   "cell_type": "markdown",
   "metadata": {},
   "source": [
    "### Python OOPS\n",
    "\n",
    "*Link* - `https://www.programiz.com/python-programming/object-oriented-programming`\n",
    "\n",
    "\n",
    "- solving programs by creating objects is know as object oriented program\n",
    "- Object has 2 characteristics\n",
    "    - Attributes (name,age)\n",
    "    - Behaviour (singing,dancing)\n",
    "\n",
    "- OOPS focusing on creating reusable code\n",
    "- Also known as DRY - don't repeat yourself\n",
    "\n",
    "\n",
    "**Class**\n",
    "- Class is a blueprint of a object\n",
    "- Object is a instantiation of a class\n"
   ]
  },
  {
   "cell_type": "markdown",
   "metadata": {},
   "source": [
    "### Creating a class"
   ]
  },
  {
   "cell_type": "code",
   "execution_count": 2,
   "metadata": {},
   "outputs": [
    {
     "name": "stdout",
     "output_type": "stream",
     "text": [
      "tesla\n",
      "hatchback\n"
     ]
    }
   ],
   "source": [
    "class Car:\n",
    "    typeOfCar = \"hatchback\"   ### class attributes\n",
    "\n",
    "    def __init__(self,model,brand):   ### instance attribute\n",
    "        self.model = model \n",
    "        self.brand = brand\n",
    "\n",
    "newCar = Car(\"tesla\", \"Y1\")\n",
    "print(newCar.model)\n",
    "print(newCar.__class__.typeOfCar)"
   ]
  },
  {
   "cell_type": "markdown",
   "metadata": {},
   "source": [
    "### Creating methods"
   ]
  },
  {
   "cell_type": "code",
   "execution_count": 3,
   "metadata": {},
   "outputs": [
    {
     "name": "stdout",
     "output_type": "stream",
     "text": [
      "Ferrari\n",
      "Q4\n"
     ]
    }
   ],
   "source": [
    "class Car:\n",
    "    def __init__(self,model,brand):\n",
    "        self.model = model\n",
    "        self.brand = brand\n",
    "    \n",
    "    def getCarName(self):\n",
    "        return self.brand\n",
    "    \n",
    "    def getBrandName(self):\n",
    "        return self.model\n",
    "\n",
    "newCar = Car(\"Ferrari\", \"Q4\")\n",
    "print(newCar.getBrandName())\n",
    "print(newCar.getCarName())"
   ]
  },
  {
   "cell_type": "markdown",
   "metadata": {},
   "source": [
    "### Inheritance\n",
    "\n",
    "- Creating a new class using existing class\n",
    "- The create the class is known as child class or derived class\n",
    "- The existing class is known as parent class or base class\n",
    "\n",
    "\n",
    "**Implementation**\n",
    "- pass the parent class in child class\n",
    "- initiate the parent class using super method inside the childs constructor"
   ]
  },
  {
   "cell_type": "code",
   "execution_count": 5,
   "metadata": {},
   "outputs": [
    {
     "name": "stdout",
     "output_type": "stream",
     "text": [
      "Car is ready\n",
      "tesla car is ready\n",
      "It has 4 doors\n",
      "yes it got a turbo engine\n",
      "It is petrol engine\n"
     ]
    }
   ],
   "source": [
    "class Car:\n",
    "    def __init__(self):\n",
    "        print(\"Car is ready\")\n",
    "\n",
    "    def hasFourDoor(self):\n",
    "        print(\"It has 4 doors\")\n",
    "\n",
    "    def engineType(self):\n",
    "        print(\"It is petrol engine\")\n",
    "\n",
    "\n",
    "class Tesla(Car):\n",
    "    def __init__(self):\n",
    "        super().__init__()\n",
    "        print(\"tesla car is ready\")\n",
    "\n",
    "    def hasTurboEngine(self):\n",
    "        print(\"yes it got a turbo engine\")\n",
    "\n",
    "    def typeOfColors(self):\n",
    "        print(\"4 colors are available\")\n",
    "\n",
    "    def modalName(self):\n",
    "        print(\"modal name is Y1\")\n",
    "\n",
    "teslaCar = Tesla()\n",
    "teslaCar.hasFourDoor()\n",
    "teslaCar.hasTurboEngine()\n",
    "teslaCar.engineType()"
   ]
  },
  {
   "cell_type": "markdown",
   "metadata": {},
   "source": [
    "### Encapsulation\n",
    "\n",
    "- Protecting some private variables\n",
    "- We can restrict access to our class variables\n",
    "- use single or double underscore to define a private attribute\n",
    "\n",
    "**Logic**\n",
    "- if you add underscore you cannot change\n",
    "- if you don't you can easily change variables"
   ]
  },
  {
   "cell_type": "code",
   "execution_count": 10,
   "metadata": {},
   "outputs": [
    {
     "name": "stdout",
     "output_type": "stream",
     "text": [
      "computer name is lenovo and model is pavilion\n",
      "computer name is lenovo and model is pro max\n",
      "computer name is Asus and model is pro max\n"
     ]
    }
   ],
   "source": [
    "class Computer:\n",
    "    def __init__(self):\n",
    "        self.__name = \"lenovo\"\n",
    "        self.model = \"pavilion\"\n",
    "\n",
    "    def getName(self):\n",
    "        print(f\"computer name is {self.__name} and model is {self.model}\")\n",
    "\n",
    "    def setName(self):\n",
    "        self.__name = \"Asus\"\n",
    "\n",
    "c = Computer()\n",
    "c.getName()\n",
    "\n",
    "c.__name = \"HP\"\n",
    "c.model = \"pro max\"\n",
    "c.getName()\n",
    "\n",
    "c.setName()\n",
    "c.getName()"
   ]
  },
  {
   "cell_type": "markdown",
   "metadata": {},
   "source": [
    "### Polymorphism\n",
    "\n",
    "- use a same function to do multiple things"
   ]
  },
  {
   "cell_type": "code",
   "execution_count": 11,
   "metadata": {},
   "outputs": [
    {
     "name": "stdout",
     "output_type": "stream",
     "text": [
      "capital is new delhi\n",
      "this is a developing country\n",
      "population is 100 crores\n",
      "capital is washington D.C\n",
      "this is a developed country\n",
      "population is 20 crores\n"
     ]
    }
   ],
   "source": [
    "class India:\n",
    "    def capital(self):\n",
    "        print(\"capital is new delhi\")\n",
    "\n",
    "    def isDeveloped(self):\n",
    "        print(\"this is a developing country\")\n",
    "\n",
    "    def population(self):\n",
    "        print(\"population is 100 crores\")\n",
    "\n",
    "\n",
    "class USA:\n",
    "    def capital(self):\n",
    "        print(\"capital is washington D.C\")\n",
    "\n",
    "    def isDeveloped(self):\n",
    "        print(\"this is a developed country\")\n",
    "\n",
    "    def population(self):\n",
    "        print(\"population is 20 crores\")\n",
    "\n",
    "indiaObj = India()\n",
    "usaObj = USA()\n",
    "\n",
    "for obj in (indiaObj,usaObj):\n",
    "    obj.capital()\n",
    "    obj.isDeveloped()\n",
    "    obj.population()"
   ]
  },
  {
   "cell_type": "markdown",
   "metadata": {},
   "source": [
    "### Inheritance"
   ]
  },
  {
   "cell_type": "code",
   "execution_count": 13,
   "metadata": {},
   "outputs": [
    {
     "name": "stdout",
     "output_type": "stream",
     "text": [
      "area is 3.5\n"
     ]
    }
   ],
   "source": [
    "class Polygon:\n",
    "    def __init__(self,n):\n",
    "        self.n = n\n",
    "        self.sides = [0 for _ in range(n)]\n",
    "\n",
    "    def inputSides(self):\n",
    "        self.sides = [float(input(f\"Enter side {i+1}\")) for i in range(self.n)]\n",
    "\n",
    "    def printSides(self):\n",
    "        for i in self.sides:\n",
    "            print(f\"side {i+1} is {self.sides[i]}\")\n",
    "\n",
    "\n",
    "class Triangle(Polygon):\n",
    "    def __init__(self):\n",
    "        super().__init__(3)\n",
    "\n",
    "    def findArea(self):\n",
    "        a,b,c = self.sides\n",
    "        area = (a+b+c)/2\n",
    "        print(\"area is\", area)\n",
    "\n",
    "\n",
    "triangleArea = Triangle()\n",
    "triangleArea.inputSides()\n",
    "triangleArea.findArea()"
   ]
  },
  {
   "cell_type": "code",
   "execution_count": null,
   "metadata": {},
   "outputs": [],
   "source": []
  }
 ],
 "metadata": {
  "kernelspec": {
   "display_name": "Python 3.7.9 64-bit (windows store)",
   "language": "python",
   "name": "python3"
  },
  "language_info": {
   "codemirror_mode": {
    "name": "ipython",
    "version": 3
   },
   "file_extension": ".py",
   "mimetype": "text/x-python",
   "name": "python",
   "nbconvert_exporter": "python",
   "pygments_lexer": "ipython3",
   "version": "3.7.9"
  },
  "orig_nbformat": 4,
  "vscode": {
   "interpreter": {
    "hash": "c95ce671dc85a02f7dcb4a82e6ee0dd46a02f5d9b011cb4af12808a4af6c4059"
   }
  }
 },
 "nbformat": 4,
 "nbformat_minor": 2
}
