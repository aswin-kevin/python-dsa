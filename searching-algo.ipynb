{
 "cells": [
  {
   "cell_type": "markdown",
   "metadata": {},
   "source": [
    "Binary search"
   ]
  },
  {
   "cell_type": "code",
   "execution_count": 3,
   "metadata": {},
   "outputs": [
    {
     "data": {
      "text/plain": [
       "6"
      ]
     },
     "execution_count": 3,
     "metadata": {},
     "output_type": "execute_result"
    }
   ],
   "source": [
    "def binary_search(arr,l,r,x):\n",
    "    if(r>=l):\n",
    "        mid = l+(r-l)//2\n",
    "        if(x == arr[mid]):\n",
    "            return mid\n",
    "        elif(x > arr[mid]):\n",
    "            return binary_search(arr,mid+1,r,x)\n",
    "        else:\n",
    "            return binary_search(arr,l,mid-1,x)\n",
    "    else:\n",
    "        return -1\n",
    "\n",
    "arr = [2,3,5,6,8,9,13,14,34,41]\n",
    "binary_search(arr,0,len(arr)-1,13)"
   ]
  },
  {
   "cell_type": "markdown",
   "metadata": {},
   "source": [
    "Linear search"
   ]
  },
  {
   "cell_type": "code",
   "execution_count": 4,
   "metadata": {},
   "outputs": [
    {
     "data": {
      "text/plain": [
       "6"
      ]
     },
     "execution_count": 4,
     "metadata": {},
     "output_type": "execute_result"
    }
   ],
   "source": [
    "def linear_search(arr,x):\n",
    "    for i in range(len(arr)):\n",
    "        if(arr[i] == x):\n",
    "            return i\n",
    "    return -1\n",
    "\n",
    "\n",
    "arr = [2,3,5,6,8,9,13,14,34,41]\n",
    "linear_search(arr,13)"
   ]
  },
  {
   "cell_type": "markdown",
   "metadata": {},
   "source": [
    "Alternate linear search"
   ]
  },
  {
   "cell_type": "code",
   "execution_count": 6,
   "metadata": {},
   "outputs": [
    {
     "data": {
      "text/plain": [
       "6"
      ]
     },
     "execution_count": 6,
     "metadata": {},
     "output_type": "execute_result"
    }
   ],
   "source": [
    "import math\n",
    "\n",
    "def linear_search_algo(arr,x):\n",
    "    right = len(arr)-1\n",
    "    mid = math.ceil(len(arr)/2)\n",
    "\n",
    "    for left in range(0,mid+1):\n",
    "        if(arr[left] == x):\n",
    "            return left\n",
    "        elif(mid == left):\n",
    "            break\n",
    "        elif(arr[right] == x):\n",
    "            return right\n",
    "        right -= 1\n",
    "\n",
    "\n",
    "arr = [2,3,5,6,8,9,13,14,34,41]\n",
    "linear_search_algo(arr,13)"
   ]
  },
  {
   "cell_type": "code",
   "execution_count": 1,
   "metadata": {},
   "outputs": [
    {
     "data": {
      "text/plain": [
       "True"
      ]
     },
     "execution_count": 1,
     "metadata": {},
     "output_type": "execute_result"
    }
   ],
   "source": [
    "def binary_search(arr,l,r,x):\n",
    "    if(r>=l):\n",
    "        mid = l+(r-l)//2\n",
    "        if(x == arr[mid]):\n",
    "            return True\n",
    "        elif(x > arr[mid]):\n",
    "            return binary_search(arr,mid+1,r,x)\n",
    "        else:\n",
    "            return binary_search(arr,l,r-1,x)\n",
    "    else:\n",
    "        return False\n",
    "\n",
    "arr = [2,3,5,6,8,9,13,14,34,41]\n",
    "binary_search(arr,0,len(arr)-1,13)"
   ]
  },
  {
   "cell_type": "code",
   "execution_count": null,
   "metadata": {},
   "outputs": [],
   "source": []
  }
 ],
 "metadata": {
  "interpreter": {
   "hash": "c95ce671dc85a02f7dcb4a82e6ee0dd46a02f5d9b011cb4af12808a4af6c4059"
  },
  "kernelspec": {
   "display_name": "Python 3.7.9 64-bit (windows store)",
   "language": "python",
   "name": "python3"
  },
  "language_info": {
   "codemirror_mode": {
    "name": "ipython",
    "version": 3
   },
   "file_extension": ".py",
   "mimetype": "text/x-python",
   "name": "python",
   "nbconvert_exporter": "python",
   "pygments_lexer": "ipython3",
   "version": "3.7.9"
  },
  "orig_nbformat": 4
 },
 "nbformat": 4,
 "nbformat_minor": 2
}
