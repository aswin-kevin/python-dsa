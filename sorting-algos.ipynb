{
 "cells": [
  {
   "cell_type": "markdown",
   "metadata": {},
   "source": [
    "Selection sort\n",
    "https://www.youtube.com/watch?v=5KjapFQNxUo"
   ]
  },
  {
   "cell_type": "code",
   "execution_count": 4,
   "metadata": {},
   "outputs": [
    {
     "data": {
      "text/plain": [
       "[2, 4, 13, 28, 45, 56]"
      ]
     },
     "execution_count": 4,
     "metadata": {},
     "output_type": "execute_result"
    }
   ],
   "source": [
    "def selection_sort(arr):\n",
    "    arr_len = len(arr)\n",
    "    for i in range(arr_len):\n",
    "        min_pos = i\n",
    "        for j in range(i+1,arr_len):\n",
    "            if(arr[min_pos] > arr[j]):\n",
    "                min_pos = j\n",
    "        temp = arr[i]\n",
    "        arr[i] = arr[min_pos]\n",
    "        arr[min_pos] = temp\n",
    "    return arr\n",
    "\n",
    "un_sorted_array = [4,2,45,13,56,28]\n",
    "selection_sort(un_sorted_array)"
   ]
  },
  {
   "cell_type": "markdown",
   "metadata": {},
   "source": [
    "Bubble sort \n",
    "https://www.youtube.com/watch?v=Vca808JTbI8"
   ]
  },
  {
   "cell_type": "code",
   "execution_count": 1,
   "metadata": {},
   "outputs": [
    {
     "data": {
      "text/plain": [
       "[1, 3, 6, 31, 32, 45, 75]"
      ]
     },
     "execution_count": 1,
     "metadata": {},
     "output_type": "execute_result"
    }
   ],
   "source": [
    "def sort(arr):\n",
    "    for i in range(len(arr)-1,0,-1):\n",
    "        for j in range(i):\n",
    "            if(arr[j] > arr[j+1]):\n",
    "                temp = arr[j]\n",
    "                arr[j] = arr[j+1]\n",
    "                arr[j+1] = temp\n",
    "    return arr\n",
    "\n",
    "\n",
    "arr =  [3,6,1,45,32,75,31]\n",
    "sort(arr)"
   ]
  },
  {
   "cell_type": "markdown",
   "metadata": {},
   "source": [
    "Insertion sort\n",
    "https://www.youtube.com/watch?v=K0zTIF3rm9s"
   ]
  },
  {
   "cell_type": "code",
   "execution_count": 2,
   "metadata": {},
   "outputs": [
    {
     "data": {
      "text/plain": [
       "[1, 3, 6, 31, 32, 45, 75]"
      ]
     },
     "execution_count": 2,
     "metadata": {},
     "output_type": "execute_result"
    }
   ],
   "source": [
    "def ins_sort(arr):\n",
    "    for i in range(1,len(arr)):\n",
    "        anchor = arr[i]\n",
    "        j = i-1\n",
    "        while j>=0 and anchor < arr[j]:\n",
    "            arr[j+1] = arr[j]\n",
    "            j = j-1\n",
    "        arr[j+1] = anchor\n",
    "    return arr    \n",
    "        \n",
    "\n",
    "arr =  [3,6,1,45,32,75,31]\n",
    "ins_sort(arr)"
   ]
  },
  {
   "cell_type": "code",
   "execution_count": 3,
   "metadata": {},
   "outputs": [
    {
     "data": {
      "text/plain": [
       "[1, 3, 6, 31, 32, 45, 75]"
      ]
     },
     "execution_count": 3,
     "metadata": {},
     "output_type": "execute_result"
    }
   ],
   "source": [
    "def insertion_sort(arr):\n",
    "    for i in range(1,len(arr)):\n",
    "        anchor = arr[i]\n",
    "        j = i-1\n",
    "        while j>=0 and anchor < arr[j]:\n",
    "            arr[j+1] = arr[j]\n",
    "            j = j-1\n",
    "        arr[j-1] = anchor\n",
    "    return arr\n",
    "\n",
    "arr =  [3,6,1,45,32,75,31]\n",
    "insertion_sort(arr)"
   ]
  },
  {
   "cell_type": "markdown",
   "metadata": {},
   "source": [
    "Merge sort\n",
    "https://www.youtube.com/watch?v=cVZMah9kEjI\n",
    "https://www.geeksforgeeks.org/merge-sort/"
   ]
  },
  {
   "cell_type": "code",
   "execution_count": 11,
   "metadata": {},
   "outputs": [
    {
     "name": "stdout",
     "output_type": "stream",
     "text": [
      "[1, 3, 6, 31, 32, 45, 75]\n"
     ]
    }
   ],
   "source": [
    "def MergeSort(arr):\n",
    "    if(len(arr)>1):\n",
    "        mid = len(arr)//2\n",
    "        L = arr[:mid]\n",
    "        R = arr[mid:]\n",
    "        \n",
    "        MergeSort(L)\n",
    "        MergeSort(R)\n",
    "\n",
    "        i = j = k = 0\n",
    "        while i < len(L) and j < len(R):\n",
    "            if(L[i] < R[j]):\n",
    "                arr[k] = L[i]\n",
    "                i += 1\n",
    "            else:\n",
    "                arr[k] = R[j]\n",
    "                j += 1\n",
    "            k += 1\n",
    "\n",
    "        while i < len(L):\n",
    "            arr[k] = L[i]\n",
    "            i += 1\n",
    "            k += 1\n",
    "\n",
    "        while j < len(R):\n",
    "            arr[k] = R[j]\n",
    "            j += 1\n",
    "            k += 1\n",
    "\n",
    "arr = [3,6,1,45,32,75,31]\n",
    "MergeSort(arr)\n",
    "print(arr)"
   ]
  },
  {
   "cell_type": "code",
   "execution_count": 9,
   "metadata": {},
   "outputs": [
    {
     "name": "stdout",
     "output_type": "stream",
     "text": [
      "Given array is\n",
      "3 6 1 45 32 75 31 \n",
      "Sorted array is: \n",
      "1 3 6 31 32 45 75 \n"
     ]
    }
   ],
   "source": [
    "# Python program for implementation of MergeSort\n",
    "def mergeSort(arr):\n",
    "\tif len(arr) > 1:\n",
    "\n",
    "\t\t# Finding the mid of the array\n",
    "\t\tmid = len(arr)//2\n",
    "\n",
    "\t\t# Dividing the array elements\n",
    "\t\tL = arr[:mid]\n",
    "\n",
    "\t\t# into 2 halves\n",
    "\t\tR = arr[mid:]\n",
    "\n",
    "\t\t# Sorting the first half\n",
    "\t\tmergeSort(L)\n",
    "\n",
    "\t\t# Sorting the second half\n",
    "\t\tmergeSort(R)\n",
    "\n",
    "\t\ti = j = k = 0\n",
    "\n",
    "\t\t# Copy data to temp arrays L[] and R[]\n",
    "\t\twhile i < len(L) and j < len(R):\n",
    "\t\t\tif L[i] < R[j]:\n",
    "\t\t\t\tarr[k] = L[i]\n",
    "\t\t\t\ti += 1\n",
    "\t\t\telse:\n",
    "\t\t\t\tarr[k] = R[j]\n",
    "\t\t\t\tj += 1\n",
    "\t\t\tk += 1\n",
    "\n",
    "\t\t# Checking if any element was left\n",
    "\t\twhile i < len(L):\n",
    "\t\t\tarr[k] = L[i]\n",
    "\t\t\ti += 1\n",
    "\t\t\tk += 1\n",
    "\n",
    "\t\twhile j < len(R):\n",
    "\t\t\tarr[k] = R[j]\n",
    "\t\t\tj += 1\n",
    "\t\t\tk += 1\n",
    "\n",
    "# Code to print the list\n",
    "\n",
    "\n",
    "def printList(arr):\n",
    "\tfor i in range(len(arr)):\n",
    "\t\tprint(arr[i], end=\" \")\n",
    "\tprint()\n",
    "\n",
    "\n",
    "# Driver Code\n",
    "if __name__ == '__main__':\n",
    "\tarr = [3,6,1,45,32,75,31]\n",
    "\tprint(\"Given array is\", end=\"\\n\")\n",
    "\tprintList(arr)\n",
    "\tmergeSort(arr)\n",
    "\tprint(\"Sorted array is: \", end=\"\\n\")\n",
    "\tprintList(arr)\n",
    "\n",
    "# This code is contributed by Mayank Khanna\n"
   ]
  },
  {
   "cell_type": "markdown",
   "metadata": {},
   "source": [
    "Counting sort"
   ]
  },
  {
   "cell_type": "code",
   "execution_count": 1,
   "metadata": {},
   "outputs": [
    {
     "name": "stdout",
     "output_type": "stream",
     "text": [
      "eeeefggkkorss\n"
     ]
    }
   ],
   "source": [
    "def count_sort(arr):\n",
    "  output = [None]*len(arr)\n",
    "  count_arr = [0]*256\n",
    "\n",
    "  for el in arr:\n",
    "    count_arr[ord(el)] += 1\n",
    "  \n",
    "  for ind in range(256):\n",
    "    count_arr[ind] += count_arr[ind-1]\n",
    "\n",
    "  for el in arr:\n",
    "    output[count_arr[ord(el)]-1] = el\n",
    "    count_arr[ord(el)] -= 1\n",
    "  \n",
    "  return output\n",
    "\n",
    "\n",
    "arr = \"geeksforgeeks\"\n",
    "print(\"\".join(count_sort(arr)))"
   ]
  },
  {
   "cell_type": "code",
   "execution_count": 4,
   "metadata": {},
   "outputs": [
    {
     "data": {
      "text/plain": [
       "[4, 6, 9, 12, 14, 23, 67, 67]"
      ]
     },
     "execution_count": 4,
     "metadata": {},
     "output_type": "execute_result"
    }
   ],
   "source": [
    "def counting_sort(arr):\n",
    "    min_el = int(min(arr))\n",
    "    max_el = int(max(arr))\n",
    "    range_of_el = max_el - min_el+1\n",
    "\n",
    "    output = [0]*len(arr)\n",
    "    count_arr = [0]*range_of_el\n",
    "\n",
    "    for el in arr:\n",
    "        count_arr[el-min_el] += 1\n",
    "\n",
    "    for ind in range(1,len(count_arr)):\n",
    "        count_arr[ind] += count_arr[ind-1]\n",
    "    \n",
    "    for ind in range(len(arr)-1,-1,-1):\n",
    "        output[count_arr[arr[ind]-min_el]-1] = arr[ind]\n",
    "        count_arr[arr[ind]-min_el] -= 1\n",
    "    return output\n",
    "\n",
    "arr = [23,4,12,9,67,6,67,14]\n",
    "counting_sort(arr)"
   ]
  },
  {
   "cell_type": "markdown",
   "metadata": {},
   "source": [
    "Radix sort"
   ]
  },
  {
   "cell_type": "code",
   "execution_count": 14,
   "metadata": {},
   "outputs": [
    {
     "data": {
      "text/plain": [
       "[2, 24, 45, 66, 75, 90, 170, 802]"
      ]
     },
     "execution_count": 14,
     "metadata": {},
     "output_type": "execute_result"
    }
   ],
   "source": [
    "def _counting_sort(arr,exp):\n",
    "    output = [0]*len(arr)\n",
    "    count_arr = [0]*10\n",
    "\n",
    "    for el in arr:\n",
    "        index = el//exp\n",
    "        count_arr[index%10] += 1\n",
    "\n",
    "    for ind in range(1,10):\n",
    "        count_arr[ind] += count_arr[ind-1]\n",
    "        \n",
    "    for ind in range(len(arr)-1,-1,-1):\n",
    "        index = arr[ind]//exp\n",
    "        output[count_arr[index%10]-1] = arr[ind]\n",
    "        count_arr[index%10] -= 1\n",
    "    return output\n",
    "\n",
    "def radix_sort(arr):\n",
    "    max_el = max(arr)\n",
    "    exp = 1\n",
    "    while max_el/exp > 0:\n",
    "        arr = _counting_sort(arr,exp)\n",
    "        exp *= 10\n",
    "    return arr\n",
    "\n",
    "arr = [170, 45, 75, 90, 802, 24, 2, 66]\n",
    "radix_sort(arr)"
   ]
  },
  {
   "cell_type": "markdown",
   "metadata": {},
   "source": [
    "Insertion sort"
   ]
  },
  {
   "cell_type": "code",
   "execution_count": 18,
   "metadata": {},
   "outputs": [
    {
     "data": {
      "text/plain": [
       "[2, 24, 45, 66, 75, 90, 170, 802]"
      ]
     },
     "execution_count": 18,
     "metadata": {},
     "output_type": "execute_result"
    }
   ],
   "source": [
    "def insertion_sort_algo(arr):\n",
    "    for i in range(1,len(arr)):\n",
    "        key = arr[i]\n",
    "        j = i-1\n",
    "        while j>=0 and arr[j] > key:\n",
    "            arr[j+1] = arr[j]\n",
    "            j-=1\n",
    "        arr[j+1] = key\n",
    "    return arr\n",
    "\n",
    "arr = [170, 45, 75, 90, 802, 24, 2, 66]\n",
    "insertion_sort_algo(arr)"
   ]
  },
  {
   "cell_type": "markdown",
   "metadata": {},
   "source": [
    "Bucket sort"
   ]
  },
  {
   "cell_type": "code",
   "execution_count": 20,
   "metadata": {},
   "outputs": [
    {
     "data": {
      "text/plain": [
       "[0.1234, 0.3434, 0.565, 0.656, 0.665, 0.897]"
      ]
     },
     "execution_count": 20,
     "metadata": {},
     "output_type": "execute_result"
    }
   ],
   "source": [
    "def insertion_sort_algorithm(arr):\n",
    "    for i in range(1,len(arr)):\n",
    "        key = arr[i]\n",
    "        j = i-1\n",
    "        while j>=0 and arr[i] > key:\n",
    "            arr[j] = arr[j+1]\n",
    "            j-=1\n",
    "        arr[j+1] = key\n",
    "    return arr\n",
    "\n",
    "def bucket_sort(arr):\n",
    "    result = []\n",
    "    bucket = []\n",
    "\n",
    "    for slot in range(10):\n",
    "        bucket.append([])\n",
    "    \n",
    "    for item in arr:\n",
    "        slot = int(item*10)\n",
    "        bucket[slot].append(item)\n",
    "\n",
    "    for _buc in bucket:\n",
    "        result.extend(insertion_sort_algorithm(_buc))\n",
    "\n",
    "    return result\n",
    "\n",
    "arr = [0.897, 0.565, 0.656,\n",
    "     0.1234, 0.665, 0.3434]\n",
    "bucket_sort(arr)"
   ]
  },
  {
   "cell_type": "markdown",
   "metadata": {},
   "source": [
    "Bubble sort"
   ]
  },
  {
   "cell_type": "code",
   "execution_count": 21,
   "metadata": {},
   "outputs": [
    {
     "data": {
      "text/plain": [
       "[11, 12, 22, 25, 34, 64, 90]"
      ]
     },
     "execution_count": 21,
     "metadata": {},
     "output_type": "execute_result"
    }
   ],
   "source": [
    "def bubble_sort(arr):\n",
    "    for i in range(len(arr)):\n",
    "        for j in range(1,len(arr)-i):\n",
    "            if(arr[j-1] > arr[j]):\n",
    "                arr[j-1],arr[j] = arr[j],arr[j-1]\n",
    "    return arr\n",
    "\n",
    "arr = [64, 34, 25, 12, 22, 11, 90]\n",
    "bubble_sort(arr)"
   ]
  },
  {
   "cell_type": "markdown",
   "metadata": {},
   "source": [
    "Selection sort"
   ]
  },
  {
   "cell_type": "code",
   "execution_count": 22,
   "metadata": {},
   "outputs": [
    {
     "data": {
      "text/plain": [
       "[11, 12, 22, 25, 34, 64, 90]"
      ]
     },
     "execution_count": 22,
     "metadata": {},
     "output_type": "execute_result"
    }
   ],
   "source": [
    "def selection_sort_algo(arr):\n",
    "    for i in range(len(arr)):\n",
    "        min_pos = i\n",
    "        for j in range(i+1,len(arr)):\n",
    "            if(arr[min_pos] > arr[j]):\n",
    "                min_pos = j\n",
    "        arr[i],arr[min_pos] = arr[min_pos],arr[i]\n",
    "    return arr\n",
    "\n",
    "\n",
    "arr = [64, 34, 25, 12, 22, 11, 90]\n",
    "selection_sort_algo(arr)"
   ]
  },
  {
   "cell_type": "markdown",
   "metadata": {},
   "source": [
    "Merge sort"
   ]
  },
  {
   "cell_type": "code",
   "execution_count": 2,
   "metadata": {},
   "outputs": [
    {
     "data": {
      "text/plain": [
       "[11, 12, 22, 25, 34, 64, 90]"
      ]
     },
     "execution_count": 2,
     "metadata": {},
     "output_type": "execute_result"
    }
   ],
   "source": [
    "def merge_sort_algo(arr):\n",
    "    if(len(arr)>1):\n",
    "        middle = len(arr)//2\n",
    "        L = arr[:middle]\n",
    "        R = arr[middle:]\n",
    "\n",
    "        merge_sort_algo(L)\n",
    "        merge_sort_algo(R)\n",
    "\n",
    "        i=j=k=0\n",
    "\n",
    "        while i<len(L) and j<len(R):\n",
    "            if(L[i]<R[j]):\n",
    "                arr[k] = L[i]\n",
    "                i+=1\n",
    "            else:\n",
    "                arr[j] = R[j]\n",
    "                j+=1\n",
    "            k+=1\n",
    "\n",
    "        while i<len(L):\n",
    "            arr[k] = L[i]\n",
    "            i+=1\n",
    "            k+=1 \n",
    "\n",
    "        while j<len(R):\n",
    "            arr[k] = R[j]\n",
    "            j+=1 \n",
    "            k+=1 \n",
    "\n",
    "    return arr\n",
    "\n",
    "\n",
    "arr = [64, 34, 25, 12, 22, 11, 90]\n",
    "merge_sort_algo(arr)"
   ]
  },
  {
   "cell_type": "markdown",
   "metadata": {},
   "source": [
    "Shell sort"
   ]
  },
  {
   "cell_type": "code",
   "execution_count": 6,
   "metadata": {},
   "outputs": [
    {
     "data": {
      "text/plain": [
       "[11, 12, 22, 25, 34, 64, 90]"
      ]
     },
     "execution_count": 6,
     "metadata": {},
     "output_type": "execute_result"
    }
   ],
   "source": [
    "def shell_sort_algo(arr,n):\n",
    "    gap = n//2\n",
    "    while gap > 0:\n",
    "        j = gap\n",
    "        while j<n:\n",
    "            i = j-gap\n",
    "            while i>=0:\n",
    "                if(arr[i]<arr[i+gap]):\n",
    "                    break\n",
    "                else:\n",
    "                    arr[i+gap],arr[i] = arr[i],arr[i+gap]\n",
    "                i = i-gap\n",
    "            j=j+1\n",
    "        gap = gap//2\n",
    "    return arr\n",
    "\n",
    "\n",
    "arr = [64, 34, 25, 12, 22, 11, 90]\n",
    "shell_sort_algo(arr,len(arr))"
   ]
  },
  {
   "cell_type": "markdown",
   "metadata": {},
   "source": [
    "Quick sort"
   ]
  },
  {
   "cell_type": "code",
   "execution_count": 4,
   "metadata": {},
   "outputs": [
    {
     "data": {
      "text/plain": [
       "[11, 12, 22, 25, 34, 64, 90]"
      ]
     },
     "execution_count": 4,
     "metadata": {},
     "output_type": "execute_result"
    }
   ],
   "source": [
    "def partition(arr,low,high):\n",
    "    pivot = arr[high]\n",
    "    i = low-1\n",
    "    for j in range(low,high):\n",
    "        if(arr[j] <= pivot):\n",
    "            i += 1\n",
    "            arr[i],arr[j] = arr[j],arr[i]\n",
    "    arr[i+1],arr[high] = arr[high],arr[i+1]\n",
    "    return i+1\n",
    "\n",
    "def quick_sort(arr,low,high):\n",
    "    if(low<high):\n",
    "        pi = partition(arr,low,high)\n",
    "        quick_sort(arr,low,pi-1)\n",
    "        quick_sort(arr,pi+1,high)\n",
    "    return arr\n",
    "arr = [64, 34, 25, 12, 22, 11, 90]\n",
    "quick_sort(arr,0,len(arr)-1)"
   ]
  },
  {
   "cell_type": "code",
   "execution_count": null,
   "metadata": {},
   "outputs": [],
   "source": []
  }
 ],
 "metadata": {
  "interpreter": {
   "hash": "c95ce671dc85a02f7dcb4a82e6ee0dd46a02f5d9b011cb4af12808a4af6c4059"
  },
  "kernelspec": {
   "display_name": "Python 3.7.9 64-bit (windows store)",
   "language": "python",
   "name": "python3"
  },
  "language_info": {
   "codemirror_mode": {
    "name": "ipython",
    "version": 3
   },
   "file_extension": ".py",
   "mimetype": "text/x-python",
   "name": "python",
   "nbconvert_exporter": "python",
   "pygments_lexer": "ipython3",
   "version": "3.7.9"
  },
  "orig_nbformat": 4
 },
 "nbformat": 4,
 "nbformat_minor": 2
}
