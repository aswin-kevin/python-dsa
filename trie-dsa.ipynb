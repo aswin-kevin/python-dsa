{
 "cells": [
  {
   "cell_type": "code",
   "execution_count": 10,
   "metadata": {},
   "outputs": [
    {
     "data": {
      "text/plain": [
       "['door', 'doing', 'doggie', 'main']"
      ]
     },
     "execution_count": 10,
     "metadata": {},
     "output_type": "execute_result"
    }
   ],
   "source": [
    "class Node:\n",
    "    def __init__(self,data):\n",
    "        self.data = data\n",
    "        self.end = False\n",
    "        self.words = {}\n",
    "\n",
    "class Trie:\n",
    "    def __init__(self):\n",
    "        self.root = Node(None)\n",
    "\n",
    "    def add(self,word):\n",
    "        current = self.root\n",
    "        for l in word:\n",
    "            if l not in current.words:\n",
    "                current.words[l] = Node(l)\n",
    "            current = current.words[l]\n",
    "        current.end = True\n",
    "\n",
    "    \n",
    "    def remove_(self,word,root,ind=0):\n",
    "        if(len(word) == ind):\n",
    "            root.end = False\n",
    "            return True if len(root.words)>0 else False\n",
    "        try:\n",
    "            _next = root.words[word[ind]]\n",
    "            _root = self.remove_(word,_next,ind+1)\n",
    "            if(_root==False and len(_next.words) == 0):\n",
    "                del root.words[word[ind]]\n",
    "                return False\n",
    "            else:\n",
    "                return True\n",
    "        except:\n",
    "            return None\n",
    "\n",
    "    # alternate exists check method\n",
    "    # def exists(self,word,root,ind=0):\n",
    "    #     try:\n",
    "    #         current = root[word[ind]].words\n",
    "    #         if(len(word)-1 == ind):\n",
    "    #             return True\n",
    "    #         else:\n",
    "    #             if(self.exists(word,current,ind+1)):\n",
    "    #                 return True\n",
    "    #     except:\n",
    "    #         return False\n",
    "\n",
    "    def exists(self,word):\n",
    "        word_len = len(word)-1\n",
    "        current = self.root\n",
    "        for _ind,l in enumerate(word):\n",
    "            try:\n",
    "                current = current.words[l]\n",
    "                if(_ind == word_len):\n",
    "                    return True\n",
    "            except:\n",
    "                return False\n",
    "\n",
    "    def starts_with(self,word):\n",
    "        word_len = len(word)-1\n",
    "        current = self.root\n",
    "        for _ind,l in enumerate(word):\n",
    "            try:\n",
    "                current = current.words[l]\n",
    "                if(_ind == word_len):\n",
    "                    return current\n",
    "            except:\n",
    "                return False\n",
    "\n",
    "    def autocomplete(self,word):\n",
    "        node = self.starts_with(word)\n",
    "        if(node):\n",
    "            return [word+x for x in self.get_words(node)]\n",
    "        else:\n",
    "            return []\n",
    "\n",
    "    def get_words_count(self,root,count=0):\n",
    "        if(root.end == True):\n",
    "            count += 1\n",
    "        for word in root.words:\n",
    "            count = self.get_words(root.words[word],count)\n",
    "        return count\n",
    "\n",
    "    def get_words(self,root,result=[],letter=\"\"):\n",
    "        if(root.end==True):\n",
    "            result.append(letter)\n",
    "        for word in root.words:\n",
    "            result = self.get_words(root.words[word],result,letter+word)\n",
    "        return result\n",
    "\n",
    "\n",
    "trie = Trie()\n",
    "trie.add(\"door\")\n",
    "trie.add(\"do\")\n",
    "trie.add(\"doing\")\n",
    "trie.add(\"doggie\")\n",
    "trie.add(\"main\")\n",
    "# trie.exists(\"doing\")\n",
    "# trie.get_words(trie.root)\n",
    "# trie.autocomplete(\"do\")\n",
    "trie.remove_(\"do\",trie.root)\n",
    "trie.get_words(trie.root)\n",
    "# print(trie.root.words[\"d\"].words[\"o\"].words)\n"
   ]
  },
  {
   "cell_type": "code",
   "execution_count": null,
   "metadata": {},
   "outputs": [],
   "source": []
  }
 ],
 "metadata": {
  "kernelspec": {
   "display_name": "Python 3.7.9 64-bit (windows store)",
   "language": "python",
   "name": "python3"
  },
  "language_info": {
   "codemirror_mode": {
    "name": "ipython",
    "version": 3
   },
   "file_extension": ".py",
   "mimetype": "text/x-python",
   "name": "python",
   "nbconvert_exporter": "python",
   "pygments_lexer": "ipython3",
   "version": "3.7.9"
  },
  "orig_nbformat": 4,
  "vscode": {
   "interpreter": {
    "hash": "c95ce671dc85a02f7dcb4a82e6ee0dd46a02f5d9b011cb4af12808a4af6c4059"
   }
  }
 },
 "nbformat": 4,
 "nbformat_minor": 2
}
