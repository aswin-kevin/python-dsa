{
 "cells": [
  {
   "cell_type": "markdown",
   "metadata": {},
   "source": [
    "Array"
   ]
  },
  {
   "cell_type": "code",
   "execution_count": 17,
   "metadata": {},
   "outputs": [
    {
     "name": "stdout",
     "output_type": "stream",
     "text": [
      "1\n",
      "array('i', [1, 2, 4, 5, 16, 6, 7])\n"
     ]
    }
   ],
   "source": [
    "from array import *\n",
    "\n",
    "array1 = array(\"i\",[1,2,3,4,5,6,7])\n",
    "\n",
    "array1.append(19)\n",
    "array1.insert(5,16)\n",
    "array1.remove(3)\n",
    "array1.index(7)\n",
    "array1.pop()\n",
    "print(array1.count(5))\n",
    "print(array1)"
   ]
  },
  {
   "cell_type": "markdown",
   "metadata": {},
   "source": [
    "List"
   ]
  },
  {
   "cell_type": "code",
   "execution_count": 21,
   "metadata": {},
   "outputs": [
    {
     "name": "stdout",
     "output_type": "stream",
     "text": [
      "[99, True, 'bye', '567', 'here', 'none', 12]\n"
     ]
    }
   ],
   "source": [
    "list1 = [\"hi\",99,True,\"bye\",\"567\",34]\n",
    "\n",
    "list1[5] = \"none\"\n",
    "del list1[0]\n",
    "list1.append(12)\n",
    "list1.insert(4,\"here\")\n",
    "\n",
    "print(list1)"
   ]
  },
  {
   "cell_type": "markdown",
   "metadata": {},
   "source": [
    "Tuple"
   ]
  },
  {
   "cell_type": "code",
   "execution_count": 27,
   "metadata": {},
   "outputs": [
    {
     "data": {
      "text/plain": [
       "2"
      ]
     },
     "execution_count": 27,
     "metadata": {},
     "output_type": "execute_result"
    }
   ],
   "source": [
    "tup1 = (\"hi\",34,\"56\",True,\"bye\",\"56\")\n",
    "\n",
    "tup1.index(34)\n",
    "tup1.count(\"56\")\n"
   ]
  },
  {
   "cell_type": "markdown",
   "metadata": {},
   "source": [
    "Dictionary"
   ]
  },
  {
   "cell_type": "code",
   "execution_count": 32,
   "metadata": {},
   "outputs": [
    {
     "name": "stdout",
     "output_type": "stream",
     "text": [
      "{}\n"
     ]
    }
   ],
   "source": [
    "dict1 = {\"name\": \"aswin\", \"age\": 45, \"place\": \"paris\", \"work\": \"secret agent\"}\n",
    "dict1[\"gun\"] = \"snipper\"\n",
    "\n",
    "del dict1[\"place\"]\n",
    "dict1[\"name\"] = \"aswin kevin\"\n",
    "\n",
    "dict1.clear()\n",
    "\n",
    "print(dict1)"
   ]
  },
  {
   "cell_type": "markdown",
   "metadata": {},
   "source": [
    "Sets"
   ]
  },
  {
   "cell_type": "code",
   "execution_count": 35,
   "metadata": {},
   "outputs": [
    {
     "name": "stdout",
     "output_type": "stream",
     "text": [
      "{'one', 'two', 3, 4, 5, 6, 10, 13, 'six', 'five'}\n",
      "set()\n",
      "{'one', 'two', 3, 4, 5}\n"
     ]
    }
   ],
   "source": [
    "set_1 = {\"one\", \"two\", 3,5,5}\n",
    "set_2 = {\"five\", \"six\", 6,10,13}\n",
    "\n",
    "set_1.add(4)\n",
    "union = set_1|set_2\n",
    "print(union)\n",
    "intersec = set_1&set_2\n",
    "print(intersec)\n",
    "uniq = set_1-set_2\n",
    "print(uniq)"
   ]
  },
  {
   "cell_type": "markdown",
   "metadata": {},
   "source": [
    "Linked Lists"
   ]
  },
  {
   "cell_type": "code",
   "execution_count": 19,
   "metadata": {},
   "outputs": [
    {
     "name": "stdout",
     "output_type": "stream",
     "text": [
      "9 10 12 14 "
     ]
    }
   ],
   "source": [
    "class Node:\n",
    "    def __init__(self,data):\n",
    "        self.data = data\n",
    "        self.next = None\n",
    "\n",
    "class LinkedList:\n",
    "    def __init__(self,data=None):\n",
    "        self.head = None\n",
    "        self.tail = self.head\n",
    "        self.length = 0 if data==None else 1\n",
    "\n",
    "    def insert_very_first(self,data):\n",
    "        self.head = Node(data)\n",
    "        self.tail = self.head\n",
    "        self.length = 1\n",
    "\n",
    "    def append(self,data):\n",
    "        if(self.head==None):\n",
    "            self.insert_very_first(data)\n",
    "        else:\n",
    "            newNode = Node(data)\n",
    "            self.tail.next = newNode\n",
    "            self.tail = newNode\n",
    "            self.length += 1\n",
    "\n",
    "    def prepend(self,data):\n",
    "        if(self.head==None):\n",
    "            self.insert_very_first(data)\n",
    "        else:\n",
    "            newNode = Node(data)\n",
    "            newNode.next = self.head\n",
    "            self.head = newNode\n",
    "            self.length += 1\n",
    "\n",
    "    def insert(self,position,data):\n",
    "        if(position > self.length):\n",
    "            return \"Position is not acceptable\"\n",
    "        elif(position == self.length):\n",
    "            self.append(data)\n",
    "        elif(position == 0):\n",
    "            self.prepend(data)\n",
    "        else:\n",
    "            newNode = Node(data)\n",
    "            current_node = self.head\n",
    "            for _ in range(position-1):\n",
    "                current_node = current_node.next\n",
    "            newNode.next = current_node.next\n",
    "            current_node.next = newNode\n",
    "            self.length += 1\n",
    "\n",
    "# 10 --> 11 --> 13 --> 14--> None\n",
    "    def delete(self,data):\n",
    "        current_node = self.head\n",
    "        while(current_node.next.data != data):\n",
    "            current_node = current_node.next\n",
    "        current_node.next = current_node.next.next\n",
    "        if(current_node.next == None):\n",
    "            self.tail = current_node\n",
    "        self.length -= 1\n",
    "\n",
    "    def delete_by_position(self,position):\n",
    "        current_node = self.head\n",
    "        for _ in range(position-1):\n",
    "            current_node = current_node.next\n",
    "        current_node.next = current_node.next.next\n",
    "\n",
    "    def print_values(self):\n",
    "        if(self.head==None):\n",
    "            return \"Empty LinkedList\"\n",
    "        else:\n",
    "            current_node = self.head\n",
    "            while(current_node!=None):\n",
    "                print(current_node.data,end=\" \")\n",
    "                current_node = current_node.next\n",
    "\n",
    "\n",
    "myLinkedList = LinkedList()\n",
    "myLinkedList.append(10)\n",
    "myLinkedList.append(12)\n",
    "myLinkedList.append(14)\n",
    "myLinkedList.prepend(9)\n",
    "myLinkedList.insert(1,89)\n",
    "myLinkedList.delete(89)\n",
    "# myLinkedList.delete_by_position(3)\n",
    "myLinkedList.print_values()"
   ]
  },
  {
   "cell_type": "code",
   "execution_count": 36,
   "metadata": {},
   "outputs": [
    {
     "name": "stdout",
     "output_type": "stream",
     "text": [
      "9 10 16 "
     ]
    }
   ],
   "source": [
    "class Node:\n",
    "    def __init__(self,data):\n",
    "        self.data = data\n",
    "        self.next = None\n",
    "\n",
    "class LinkedList:\n",
    "    def __init__(self):\n",
    "        self.head = None\n",
    "        self.tail = self.head\n",
    "        self.length = 0\n",
    "\n",
    "    def insert_first_element(self,data):\n",
    "        self.head = Node(data)\n",
    "        self.tail = self.head\n",
    "        self.length = 1\n",
    "\n",
    "    def append(self,data):\n",
    "        if(self.head == None):\n",
    "            self.insert_first_element(data)\n",
    "        else:\n",
    "            new_node = Node(data)\n",
    "            self.tail.next = new_node\n",
    "            self.tail = new_node\n",
    "            self.length += 1\n",
    "\n",
    "    def prepend(self,data):\n",
    "        if(self.head == None):\n",
    "            self.insert_first_element(data)\n",
    "        else:\n",
    "            new_node = Node(data)\n",
    "            new_node.next = self.head\n",
    "            self.head = new_node\n",
    "            self.length +=1\n",
    "\n",
    "    def insert(self,pos,data):\n",
    "        if(pos > self.length):\n",
    "            return None\n",
    "        elif(pos == self.length):\n",
    "            self.append(data)\n",
    "        elif(pos==0):\n",
    "            self.prepend(data)\n",
    "        else:\n",
    "            new_node = Node(data)\n",
    "            current_node = self.head\n",
    "            for _ in range(pos-1):\n",
    "                current_node = current_node.next\n",
    "            new_node.next = current_node.next\n",
    "            current_node.next = new_node\n",
    "            self.length += 1\n",
    "\n",
    "    def delete(self,data):\n",
    "        current_node = self.head\n",
    "        while(current_node.next.data != data):\n",
    "            current_node = current_node.next\n",
    "        current_node.next = current_node.next.next\n",
    "        self.length -= 1\n",
    "\n",
    "    def delete_ind(self,pos):\n",
    "        if(pos>=self.length):\n",
    "            return None\n",
    "        else:\n",
    "            current_node = self.head\n",
    "            for _ in range(pos-1):\n",
    "                current_node = current_node.next\n",
    "            if(current_node.next != None):\n",
    "                current_node.next = current_node.next.next\n",
    "            if(current_node.next == None):\n",
    "                self.tail = current_node\n",
    "            self.length -= 1\n",
    "\n",
    "    def print_list(self):\n",
    "        if(self.head == None):\n",
    "            return None\n",
    "        else:\n",
    "            current_node = self.head\n",
    "            while(current_node!=None):\n",
    "                print(current_node.data,end=\" \")\n",
    "                current_node = current_node.next\n",
    "\n",
    "myLinkedList = LinkedList()\n",
    "myLinkedList.append(10)\n",
    "myLinkedList.append(14)\n",
    "myLinkedList.append(16)\n",
    "myLinkedList.prepend(9)\n",
    "myLinkedList.insert(2,12)\n",
    "myLinkedList.delete(12)\n",
    "myLinkedList.delete_ind(2)\n",
    "\n",
    "myLinkedList.print_list()"
   ]
  },
  {
   "cell_type": "markdown",
   "metadata": {},
   "source": [
    "Doubly Linked List"
   ]
  },
  {
   "cell_type": "code",
   "execution_count": 50,
   "metadata": {},
   "outputs": [
    {
     "name": "stdout",
     "output_type": "stream",
     "text": [
      "9 10 14 "
     ]
    }
   ],
   "source": [
    "class Node:\n",
    "    def __init__(self,data):\n",
    "        self.data = data\n",
    "        self.previous = None\n",
    "        self.next = None\n",
    "\n",
    "class DoublyLinkedList:\n",
    "    def __init__(self):\n",
    "        self.head = None\n",
    "        self.tail = self.head\n",
    "        self.length = 0\n",
    "\n",
    "    def insert_first_element(self,data):\n",
    "        self.head = Node(data)\n",
    "        self.tail = self.head\n",
    "        self.length = 1\n",
    "\n",
    "    def append(self,data):\n",
    "        if(self.head==None):\n",
    "            self.insert_first_element(data)\n",
    "        else:\n",
    "            new_node = Node(data)\n",
    "            new_node.previous = self.tail\n",
    "            self.tail.next = new_node\n",
    "            self.tail = new_node\n",
    "            self.length += 1\n",
    "    \n",
    "    def prepend(self,data):\n",
    "        if(self.head==None):\n",
    "            self.insert_first_element(data)\n",
    "        else:\n",
    "            new_node = Node(data)\n",
    "            new_node.next = self.head\n",
    "            self.head.previous = new_node\n",
    "            self.head = new_node\n",
    "            self.length += 1\n",
    "\n",
    "    def insert(self,pos,data):\n",
    "        if(pos > self.length):\n",
    "            return None\n",
    "        elif(pos == self.length):\n",
    "            self.append(data)\n",
    "        elif(pos == 0):\n",
    "            self.prepend(data)\n",
    "        else:\n",
    "            new_node = Node(data)\n",
    "            current_node = self.head\n",
    "            for _ in range(pos-1):\n",
    "                current_node = current_node.next\n",
    "            new_node.previous = current_node\n",
    "            new_node.next = current_node.next\n",
    "            current_node.next = new_node\n",
    "            new_node.next.previous = new_node\n",
    "            self.length += 1\n",
    "\n",
    "\n",
    "    def delete(self,data):\n",
    "        if(self.head==None):\n",
    "            return None\n",
    "        else:\n",
    "            current_node = self.head\n",
    "            while(current_node.next.data != data):\n",
    "                current_node = current_node.next\n",
    "            if(current_node.next.next == None):\n",
    "                current_node.next = None\n",
    "                self.tail = current_node\n",
    "            else:\n",
    "                current_node.next = current_node.next.next\n",
    "                current_node.next.previous = current_node\n",
    "\n",
    "    def delete_by_ind(self,pos):\n",
    "        if(pos >= self.length):\n",
    "            return None\n",
    "        else:\n",
    "            current_node = self.head\n",
    "            for _ in range(pos-1):\n",
    "                current_node = current_node.next\n",
    "            if(current_node.next.next == None):\n",
    "                current_node.next = None\n",
    "                self.tail = current_node\n",
    "            else:\n",
    "                current_node.next = current_node.next.next\n",
    "                current_node.next.previous = current_node\n",
    "            \n",
    "\n",
    "    def print_all(self):\n",
    "        if(self.head == None):\n",
    "            return None\n",
    "        else:\n",
    "            current_node = self.head\n",
    "            while(current_node != None):\n",
    "                print(current_node.data,end=\" \")\n",
    "                current_node = current_node.next\n",
    "\n",
    "myDoublyList = DoublyLinkedList()\n",
    "myDoublyList.append(12)\n",
    "myDoublyList.append(14)\n",
    "myDoublyList.prepend(9)\n",
    "myDoublyList.insert(1,10)\n",
    "myDoublyList.delete(14)\n",
    "myDoublyList.delete_by_ind(2)\n",
    "\n",
    "myDoublyList.print_all()"
   ]
  },
  {
   "cell_type": "markdown",
   "metadata": {},
   "source": [
    "Stacks"
   ]
  },
  {
   "cell_type": "code",
   "execution_count": 6,
   "metadata": {},
   "outputs": [
    {
     "name": "stdout",
     "output_type": "stream",
     "text": [
      "65\n",
      "65 14 "
     ]
    }
   ],
   "source": [
    "class Node:\n",
    "    def __init__(self,data):\n",
    "        self.data = data\n",
    "        self.next = None\n",
    "\n",
    "class Stacks:\n",
    "    def __init__(self):\n",
    "        self.top = None\n",
    "        self.bottom = None\n",
    "        self.length = 0\n",
    "    \n",
    "    def push(self,data):\n",
    "        new_node = Node(data)\n",
    "        if(self.top == None):\n",
    "            self.top = new_node\n",
    "            self.bottom = new_node\n",
    "            self.length = 1\n",
    "        else:\n",
    "            new_node.next = self.top\n",
    "            self.top = new_node\n",
    "            self.length += 1\n",
    "\n",
    "    def pop(self):\n",
    "        if(self.top == None):\n",
    "            return None\n",
    "        self.top = self.top.next\n",
    "        self.length -= 1\n",
    "\n",
    "    def lookup(self,data):\n",
    "        current_node = self.top\n",
    "        while(current_node != None):\n",
    "            if(current_node.data == data):\n",
    "                current_node = current_node.next\n",
    "                return data\n",
    "        return None\n",
    "\n",
    "            \n",
    "    def print_all(self):\n",
    "        current_node = self.top\n",
    "        while(current_node != None):\n",
    "            print(current_node.data,end=\" \")\n",
    "            current_node = current_node.next\n",
    "        \n",
    "myStack = Stacks()\n",
    "myStack.push(14)\n",
    "myStack.push(65)\n",
    "myStack.push(56)\n",
    "myStack.pop()\n",
    "print(myStack.lookup(65))\n",
    "\n",
    "myStack.print_all()"
   ]
  },
  {
   "cell_type": "markdown",
   "metadata": {},
   "source": [
    "Queues"
   ]
  },
  {
   "cell_type": "code",
   "execution_count": 3,
   "metadata": {},
   "outputs": [
    {
     "name": "stdout",
     "output_type": "stream",
     "text": [
      "7 5 "
     ]
    }
   ],
   "source": [
    "class Node:\n",
    "    def __init__(self,data):\n",
    "        self.data = data\n",
    "        self.next = None\n",
    "\n",
    "class Queue:\n",
    "    def __init__(self):\n",
    "        self.first = None\n",
    "        self.last = None\n",
    "        self.length = 0\n",
    "    \n",
    "    def enqueue(self,data):\n",
    "        if(self.first == None):\n",
    "            self.first = Node(data)\n",
    "            self.last = self.first\n",
    "            self.length = 1\n",
    "        else:\n",
    "            new_node = Node(data)\n",
    "            self.last.next = new_node\n",
    "            self.last = new_node\n",
    "            self.length += 1\n",
    "\n",
    "    def dequeue(self):\n",
    "        if(self.first == None):\n",
    "            return None\n",
    "        elif(self.first == self.last):\n",
    "            self.first = None\n",
    "            self.last = None\n",
    "            self.length = 0\n",
    "        else:\n",
    "            self.first = self.first.next\n",
    "            self.length -= 1\n",
    "\n",
    "    def peek(self):\n",
    "        return self.first\n",
    "\n",
    "    def print_all(self):\n",
    "        current_node = self.first\n",
    "        while(current_node != None):\n",
    "            print(current_node.data, end=\" \")\n",
    "            current_node = current_node.next\n",
    "\n",
    "\n",
    "\n",
    "myQueue = Queue()\n",
    "myQueue.enqueue(8)\n",
    "myQueue.enqueue(7)\n",
    "myQueue.enqueue(5)\n",
    "myQueue.dequeue()\n",
    "\n",
    "myQueue.print_all()"
   ]
  },
  {
   "cell_type": "markdown",
   "metadata": {},
   "source": [
    "Binary Search Tree"
   ]
  },
  {
   "cell_type": "code",
   "execution_count": 9,
   "metadata": {},
   "outputs": [
    {
     "data": {
      "text/plain": [
       "False"
      ]
     },
     "execution_count": 9,
     "metadata": {},
     "output_type": "execute_result"
    }
   ],
   "source": [
    "class Node:\n",
    "    def __init__(self,data):\n",
    "        self.data = data\n",
    "        self.left = None\n",
    "        self.right = None\n",
    "\n",
    "class BST:\n",
    "    def __init__(self):\n",
    "        self.root = None\n",
    "        self.length = 0\n",
    "    \n",
    "    def add(self,data):\n",
    "        new_node = Node(data)\n",
    "        if(self.root == None):\n",
    "            self.root = new_node\n",
    "            self.length = 1\n",
    "        else:\n",
    "            current_node = self.root\n",
    "            while(current_node):\n",
    "                if(data > current_node.data):\n",
    "                    if(current_node.left == None):\n",
    "                        current_node.left = new_node\n",
    "                        break\n",
    "                    current_node = current_node.left\n",
    "                else:\n",
    "                    if(current_node.right == None):\n",
    "                        current_node.right = new_node\n",
    "                        break\n",
    "                    current_node = current_node.right\n",
    "            self.length += 1\n",
    "\n",
    "    def lookup(self,data):\n",
    "        if(self.root == None):\n",
    "            return None\n",
    "        else:\n",
    "            current_node = self.root\n",
    "            while(current_node):\n",
    "                if(data == current_node.data):\n",
    "                    return True\n",
    "                elif(data > current_node.data):\n",
    "                    current_node = current_node.left\n",
    "                else:\n",
    "                    current_node = current_node.right\n",
    "            return False\n",
    "\n",
    "    def lookup_rec(self,data,root):\n",
    "        if root:\n",
    "            if(root.data == data):\n",
    "                return True\n",
    "            return self.lookup_rec(data,root.left) or self.lookup_rec(data,root.right)\n",
    "        return False\n",
    "\n",
    "\n",
    "    def print_all(self,current_node):\n",
    "        if(self.root == None):\n",
    "            return None\n",
    "        else:\n",
    "            res = []\n",
    "            if(current_node):\n",
    "                res.append(current_node.data)\n",
    "                res = res+self.print_all(current_node.left)+self.print_all(current_node.right)\n",
    "            return res\n",
    "\n",
    "    def inorder_traversal(self,root):\n",
    "        res = []\n",
    "        if(root):\n",
    "            res = self.inorder_traversal(root.right) + [root.data] + self.inorder_traversal(root.left)\n",
    "        return res\n",
    "\n",
    "    def preorder_traversal(self,root):\n",
    "        res = []\n",
    "        if(root):\n",
    "            res = [root.data] + self.preorder_traversal(root.right) + self.preorder_traversal(root.left)\n",
    "        return res\n",
    "\n",
    "    def postorder_traversal(self,root):\n",
    "        res = []\n",
    "        if(root):\n",
    "            res = self.postorder_traversal(root.right) + self.postorder_traversal(root.left) + [root.data]\n",
    "        return res\n",
    "\n",
    "\n",
    "myBST = BST()\n",
    "myBST.add(27)\n",
    "myBST.add(14)\n",
    "myBST.add(35)\n",
    "myBST.add(10)\n",
    "myBST.add(19)\n",
    "myBST.add(31)\n",
    "myBST.add(42)\n",
    "\n",
    "# myBST.lookup(23)\n",
    "# myBST.print_all(myBST.root)\n",
    "# myBST.postorder_traversal(myBST.root)\n",
    "myBST.lookup_rec(44,myBST.root)"
   ]
  },
  {
   "cell_type": "markdown",
   "metadata": {},
   "source": [
    "# Heap data structure"
   ]
  },
  {
   "cell_type": "code",
   "execution_count": 5,
   "metadata": {},
   "outputs": [
    {
     "data": {
      "text/plain": [
       "[5, 3, 4, 2]"
      ]
     },
     "execution_count": 5,
     "metadata": {},
     "output_type": "execute_result"
    }
   ],
   "source": [
    "class Heap:\n",
    "    def __init__(self):\n",
    "        self.heap = []\n",
    "    \n",
    "    def get_max(self):\n",
    "        return self.heap[0]\n",
    "    \n",
    "    def get_parent_pos(self,i):\n",
    "        return int((i-1)/2)\n",
    "\n",
    "    def get_leftchild_pos(self,i):\n",
    "        return 2*i+1\n",
    "\n",
    "    def get_rightchild_pos(self,i):\n",
    "        return 2*i+2\n",
    "\n",
    "    def has_parent(self,i):\n",
    "        return self.get_parent_pos(i) < len(self.heap)\n",
    "\n",
    "    def has_leftchild(self,i):\n",
    "        return self.get_leftchild_pos(i) < len(self.heap)\n",
    "\n",
    "    def has_rightchild(self,i):\n",
    "        return self.get_rightchild_pos(i) < len(self.heap)\n",
    "\n",
    "    def heapify_for_add(self,i):\n",
    "        while(self.has_parent(i) and self.heap[i] > self.heap[self.get_parent_pos(i)]):\n",
    "            self.heap[i],self.heap[self.get_parent_pos(i)] = self.heap[self.get_parent_pos(i)],self.heap[i]\n",
    "            i = self.get_parent_pos(i)\n",
    "\n",
    "    def add(self,value):\n",
    "        self.heap.append(value)\n",
    "        if(len(self.heap) > 1):\n",
    "            self.heapify_for_add(len(self.heap)-1)\n",
    "\n",
    "    def heapify_for_del(self):\n",
    "        node = 0\n",
    "        while(self.has_leftchild(node) or self.has_rightchild(node)):\n",
    "            if(self.has_leftchild(node)):\n",
    "                if(self.heap[self.get_leftchild_pos(node)] > self.heap[node]):\n",
    "                    self.heap[node],self.heap[self.get_leftchild_pos(node)] = self.heap[self.get_leftchild_pos(node)],self.heap[node]\n",
    "                    node = self.get_leftchild_pos(node)\n",
    "            else:\n",
    "                if(self.heap[self.get_rightchild_pos(node)] > self.heap[node]):\n",
    "                    self.heap[node],self.heap[self.get_rightchild_pos(node)] = self.heap[self.get_rightchild_pos(node)],self.heap[node]\n",
    "                    node = self.get_rightchild_pos(node)\n",
    "\n",
    "    def extract_max(self):\n",
    "        self.heap[0] = self.heap[-1]\n",
    "        self.heap.pop()\n",
    "        self.heapify_for_del()\n",
    "\n",
    "heap = Heap()\n",
    "heap.add(3)\n",
    "heap.add(4)\n",
    "heap.add(5)\n",
    "heap.add(9)\n",
    "heap.add(2)\n",
    "heap.extract_max()\n",
    "heap.heap"
   ]
  },
  {
   "cell_type": "code",
   "execution_count": null,
   "metadata": {},
   "outputs": [],
   "source": []
  }
 ],
 "metadata": {
  "interpreter": {
   "hash": "c95ce671dc85a02f7dcb4a82e6ee0dd46a02f5d9b011cb4af12808a4af6c4059"
  },
  "kernelspec": {
   "display_name": "Python 3.7.9 64-bit (windows store)",
   "language": "python",
   "name": "python3"
  },
  "language_info": {
   "codemirror_mode": {
    "name": "ipython",
    "version": 3
   },
   "file_extension": ".py",
   "mimetype": "text/x-python",
   "name": "python",
   "nbconvert_exporter": "python",
   "pygments_lexer": "ipython3",
   "version": "3.7.9"
  },
  "orig_nbformat": 4
 },
 "nbformat": 4,
 "nbformat_minor": 2
}
